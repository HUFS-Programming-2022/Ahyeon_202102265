{
 "cells": [
  {
   "cell_type": "markdown",
   "id": "3ad45cee-2ed9-444c-b2a1-39942f30d1a9",
   "metadata": {},
   "source": [
    "## 중첩조건문 | nested conditional\n",
    "- if 블록 안에 또 if 블록이 만들어지는 경우\n",
    "    - 예: if ...\n",
    "            if...\n",
    "                if ...\n",
    "    - 구분은 들여쓰기로 한다.\n",
    "    - 조건이 여러 개일 경우 사용한다.\n",
    "    - 지양, 더 예쁜 방법을 찾아본다."
   ]
  },
  {
   "cell_type": "code",
   "execution_count": 1,
   "id": "2fcd0ac5-b9c5-479c-aa5a-845b49364cb3",
   "metadata": {},
   "outputs": [
    {
     "name": "stdout",
     "output_type": "stream",
     "text": [
      "Block B\n"
     ]
    }
   ],
   "source": [
    "x = 0\n",
    "y = 4\n",
    "\n",
    "if x == y:\n",
    "    print(\"Block A\")\n",
    "else:\n",
    "    if x < y:\n",
    "        print(\"Block B\")\n",
    "    else:\n",
    "        print(\"Block c\")\n",
    "        "
   ]
  },
  {
   "cell_type": "code",
   "execution_count": 2,
   "id": "a7e0abda-490e-4f80-b0cd-c6812da1c1d8",
   "metadata": {},
   "outputs": [
    {
     "ename": "IndentationError",
     "evalue": "expected an indented block (788525145.py, line 3)",
     "output_type": "error",
     "traceback": [
      "\u001b[0;36m  File \u001b[0;32m\"/var/folders/54/cstf0sh546x4t7shxfb0nv780000gn/T/ipykernel_67722/788525145.py\"\u001b[0;36m, line \u001b[0;32m3\u001b[0m\n\u001b[0;31m    elif x < y:\u001b[0m\n\u001b[0m    ^\u001b[0m\n\u001b[0;31mIndentationError\u001b[0m\u001b[0;31m:\u001b[0m expected an indented block\n"
     ]
    }
   ],
   "source": [
    "if x == y:\n",
    "    #A\n",
    "elif x < y:\n",
    "    #B\n",
    "else:\n",
    "    #C"
   ]
  },
  {
   "cell_type": "code",
   "execution_count": 3,
   "id": "bd83a33b-a9d0-4b8b-a202-17a693b8e2c2",
   "metadata": {},
   "outputs": [
    {
     "name": "stdout",
     "output_type": "stream",
     "text": [
      "D\n"
     ]
    }
   ],
   "source": [
    "if x > 0:\n",
    "    print('A')\n",
    "    if x < 10:\n",
    "        print('B')\n",
    "    else:\n",
    "        print('C')\n",
    "else:\n",
    "    print('D')"
   ]
  },
  {
   "cell_type": "code",
   "execution_count": 4,
   "id": "eedc0aea-6489-497a-a3e6-32ee2c608740",
   "metadata": {},
   "outputs": [
    {
     "ename": "IndentationError",
     "evalue": "expected an indented block (3667811304.py, line 4)",
     "output_type": "error",
     "traceback": [
      "\u001b[0;36m  File \u001b[0;32m\"/var/folders/54/cstf0sh546x4t7shxfb0nv780000gn/T/ipykernel_67722/3667811304.py\"\u001b[0;36m, line \u001b[0;32m4\u001b[0m\n\u001b[0;31m    else:\u001b[0m\n\u001b[0m    ^\u001b[0m\n\u001b[0;31mIndentationError\u001b[0m\u001b[0;31m:\u001b[0m expected an indented block\n"
     ]
    }
   ],
   "source": [
    "# 방법 1\n",
    "if (x > 0) and (x < 10): #논리연산자 사용하는 방법\n",
    "    #A\n",
    "else:\n",
    "    #B\n",
    "    \n",
    "#방법2\n",
    "if 0 < x < 10: # 파이썬에서만 가능함\n",
    "    #block a\n",
    "else:\n",
    "    #block b"
   ]
  },
  {
   "cell_type": "markdown",
   "id": "cdcb5b8a-4b0f-4a7f-865f-a9c6892ed6fb",
   "metadata": {},
   "source": [
    "### 논리연산자\n",
    "- 비교연산 조건을 여러 번 사용하는 경우\n",
    "    - x > 0, x < 10\n",
    "- and, or, not\n",
    "    - A and B: A 그리고 B. A, B 둘다 참일 때 True(&)\n",
    "    - A or B: A 혹은 B. 둘 중 하나만 참이면 True(|)\n",
    "    - not A: A 참이면 False, 거짓이면 True(~)"
   ]
  },
  {
   "cell_type": "markdown",
   "id": "58e4147e-f9ca-47e1-9910-6a481d6387af",
   "metadata": {},
   "source": [
    "### True/False\n",
    "    - A=True\n",
    "    - \"만약 A가 참이면, ...\""
   ]
  },
  {
   "cell_type": "code",
   "execution_count": 6,
   "id": "6d6633fe-0fc8-4004-ac6f-a1a48bcef85a",
   "metadata": {},
   "outputs": [
    {
     "ename": "NameError",
     "evalue": "name 'a' is not defined",
     "output_type": "error",
     "traceback": [
      "\u001b[0;31m---------------------------------------------------------------------------\u001b[0m",
      "\u001b[0;31mNameError\u001b[0m                                 Traceback (most recent call last)",
      "\u001b[0;32m/var/folders/54/cstf0sh546x4t7shxfb0nv780000gn/T/ipykernel_67722/2388585644.py\u001b[0m in \u001b[0;36m<module>\u001b[0;34m\u001b[0m\n\u001b[0;32m----> 1\u001b[0;31m \u001b[0;32mif\u001b[0m \u001b[0ma\u001b[0m \u001b[0;34m==\u001b[0m \u001b[0;32mTrue\u001b[0m\u001b[0;34m:\u001b[0m \u001b[0;31m#아님\u001b[0m\u001b[0;34m\u001b[0m\u001b[0;34m\u001b[0m\u001b[0m\n\u001b[0m\u001b[1;32m      2\u001b[0m     \u001b[0mprint\u001b[0m\u001b[0;34m(\u001b[0m\u001b[0;34m)\u001b[0m\u001b[0;34m\u001b[0m\u001b[0;34m\u001b[0m\u001b[0m\n\u001b[1;32m      3\u001b[0m \u001b[0;32mif\u001b[0m \u001b[0ma\u001b[0m\u001b[0;34m:\u001b[0m\u001b[0;34m\u001b[0m\u001b[0;34m\u001b[0m\u001b[0m\n\u001b[1;32m      4\u001b[0m     \u001b[0mprint\u001b[0m\u001b[0;34m(\u001b[0m\u001b[0;34m)\u001b[0m\u001b[0;34m\u001b[0m\u001b[0;34m\u001b[0m\u001b[0m\n",
      "\u001b[0;31mNameError\u001b[0m: name 'a' is not defined"
     ]
    }
   ],
   "source": [
    "if a == True: #아님\n",
    "    print()\n",
    "if a:\n",
    "    print()"
   ]
  },
  {
   "cell_type": "markdown",
   "id": "e1de487d-0125-4eaf-b271-3eebec033780",
   "metadata": {},
   "source": [
    "### in\n",
    "    - membership operator\n",
    "    - 요소가 안에 포함되어 있는가 or 비슷한 조건문이 여럿일 때\n",
    "    - A in B = A가 B에 포함되어 있냐"
   ]
  },
  {
   "cell_type": "code",
   "execution_count": 7,
   "id": "46cc7ee3-d9a3-4a1f-8e4b-71d94fb37bd3",
   "metadata": {},
   "outputs": [
    {
     "name": "stdout",
     "output_type": "stream",
     "text": [
      "자음\n"
     ]
    }
   ],
   "source": [
    "# ex1. 모음인지 아닌지 판별하라 (a, e, i, o, u)\n",
    "letter = 'k'\n",
    "#if letter == 'a' or letter == 'e', ....\n",
    "if letter in ['a', 'e', 'i', 'o', 'u']:\n",
    "    print(\"모음\")\n",
    "else: print(\"자음\")"
   ]
  },
  {
   "cell_type": "code",
   "execution_count": null,
   "id": "995b61fe-83ac-463c-8de9-246685f4b172",
   "metadata": {},
   "outputs": [],
   "source": [
    "# 단어에 모음이 있냐 없냐\n",
    "word = 'apple'\n",
    "if word in ['a', 'e', 'i', 'o', 'u']: #반대로 써야 함\n",
    "    print(\"yes\")"
   ]
  },
  {
   "cell_type": "code",
   "execution_count": 8,
   "id": "47ae56d5-4f93-4256-aa5e-6bda169dc364",
   "metadata": {},
   "outputs": [
    {
     "ename": "NameError",
     "evalue": "name 'word' is not defined",
     "output_type": "error",
     "traceback": [
      "\u001b[0;31m---------------------------------------------------------------------------\u001b[0m",
      "\u001b[0;31mNameError\u001b[0m                                 Traceback (most recent call last)",
      "\u001b[0;32m/var/folders/54/cstf0sh546x4t7shxfb0nv780000gn/T/ipykernel_67722/1400015156.py\u001b[0m in \u001b[0;36m<module>\u001b[0;34m\u001b[0m\n\u001b[0;32m----> 1\u001b[0;31m \u001b[0;32mif\u001b[0m \u001b[0;34m[\u001b[0m\u001b[0;34m'a'\u001b[0m\u001b[0;34m,\u001b[0m \u001b[0;34m'e'\u001b[0m\u001b[0;34m,\u001b[0m \u001b[0;34m'i'\u001b[0m\u001b[0;34m,\u001b[0m \u001b[0;34m'o'\u001b[0m\u001b[0;34m,\u001b[0m \u001b[0;34m'u'\u001b[0m\u001b[0;34m]\u001b[0m \u001b[0;32min\u001b[0m \u001b[0mword\u001b[0m\u001b[0;34m:\u001b[0m \u001b[0;31m# type error\u001b[0m\u001b[0;34m\u001b[0m\u001b[0;34m\u001b[0m\u001b[0m\n\u001b[0m\u001b[1;32m      2\u001b[0m     \u001b[0mprint\u001b[0m\u001b[0;34m(\u001b[0m\u001b[0;34m'yes'\u001b[0m\u001b[0;34m)\u001b[0m\u001b[0;34m\u001b[0m\u001b[0;34m\u001b[0m\u001b[0m\n",
      "\u001b[0;31mNameError\u001b[0m: name 'word' is not defined"
     ]
    }
   ],
   "source": [
    "if ['a', 'e', 'i', 'o', 'u'] in word: # type error\n",
    "    print('yes')"
   ]
  },
  {
   "cell_type": "code",
   "execution_count": 9,
   "id": "041d2149-138d-4060-a3a3-16e3373b8af2",
   "metadata": {},
   "outputs": [
    {
     "name": "stdout",
     "output_type": "stream",
     "text": [
      "yes\n"
     ]
    }
   ],
   "source": [
    "if 'a' or 'e' or 'i' or 'o' or 'u' in word:\n",
    "    print('yes')"
   ]
  },
  {
   "cell_type": "markdown",
   "id": "4e4f7c77-cddd-4f9a-a536-22b183902416",
   "metadata": {},
   "source": [
    "### 코끼리연산자\n",
    "- walrus operator\n",
    "- :=\n",
    "- 할당 + 테스트 동시에 하는 기능"
   ]
  },
  {
   "cell_type": "code",
   "execution_count": 12,
   "id": "60377f50-0946-4a8c-99da-16e0abaa7661",
   "metadata": {},
   "outputs": [
    {
     "data": {
      "text/plain": [
       "'blahblahblahblahblahblahblahblahblahblahblahblahblahblahblahblahblahblahblahblahblahblahblahblahblahblahblahblahblahblahblahblahblahblahblahblahblahblahblahblahblahblahblahblahblahblahblahblahblahblah'"
      ]
     },
     "execution_count": 12,
     "metadata": {},
     "output_type": "execute_result"
    }
   ],
   "source": [
    "tweet_limit = 200\n",
    "tweet_sting = 'blah' * 50 # 4 *50 =200\n",
    "tweet_sting"
   ]
  },
  {
   "cell_type": "code",
   "execution_count": 14,
   "id": "4eb16933-99f7-4a56-b907-33a6afdbd5eb",
   "metadata": {},
   "outputs": [
    {
     "name": "stdout",
     "output_type": "stream",
     "text": [
      "불가능하다\n"
     ]
    }
   ],
   "source": [
    "diff = tweet_limit - len(tweet_sting)\n",
    "if diff > 0:\n",
    "    print(\"가능하다\")\n",
    "else:\n",
    "    print(\"불가능하다\")"
   ]
  },
  {
   "cell_type": "code",
   "execution_count": 15,
   "id": "b93318ce-ecfe-4297-b52b-9fc0649e510c",
   "metadata": {},
   "outputs": [
    {
     "name": "stdout",
     "output_type": "stream",
     "text": [
      "no\n"
     ]
    }
   ],
   "source": [
    "if diff := tweet_limit - len(tweet_sting) > 0:\n",
    "    print('yes')\n",
    "else: print('no')"
   ]
  },
  {
   "cell_type": "markdown",
   "id": "82ba167c-a11b-43a2-b4d3-2a50a5e51105",
   "metadata": {},
   "source": [
    "### 퀴즈 1\n",
    "- 윤년을 구해봅시다.\n",
    "    - 연도 입력받는다.\n",
    "    - 4로 나워지면 윤년\n",
    "    - 100으로 나눠지면 안된다.\n",
    "    - 400으로 나눠지면 윤년\n",
    "- 출력: '{}년은 윤년입니다.'/'-아닙니다.'"
   ]
  },
  {
   "cell_type": "code",
   "execution_count": 16,
   "id": "8ca99760-f323-404b-980c-5fe2c5308f5a",
   "metadata": {},
   "outputs": [
    {
     "name": "stdin",
     "output_type": "stream",
     "text": [
      "연도를 입력하세요: 2002\n"
     ]
    },
    {
     "name": "stdout",
     "output_type": "stream",
     "text": [
      "2002년은 윤년이 아닙니다.\n"
     ]
    }
   ],
   "source": [
    "year = int(input(\"연도를 입력하세요:\"))\n",
    "if ((year % 4 ==0 and year % 100 !=0) or year % 400 ==0):\n",
    "    print(f\"{year}년은 윤년입니다.\")\n",
    "else:\n",
    "    print(f\"{year}년은 윤년이 아닙니다.\")"
   ]
  },
  {
   "cell_type": "markdown",
   "id": "93bb5b4a-577e-4945-ae9b-e3d7c2e9d2ca",
   "metadata": {},
   "source": [
    "## String | 문자열\n",
    "- 시스템에서 가장 작은 단위\n",
    "- 불변적인 성격을 가진다. immutable\n",
    "    - 예: jack -> jeck\n",
    "- ', \"으로 선언한다.\n",
    "    - 예: \"25.5\"\n",
    "    - ''',\"\"\" 주석이다\n",
    "- 형변환은 str()\n",
    "\n",
    "### escape character | 이스케이프문자\n",
    "- 특수한 형태의 문자열, 눈에 보이는 대로 인식되지 않는 문자\n",
    "- \\ + ch\n",
    "- 예: \\n, \\t, \\b, \\', \\\", ...\n",
    "    - \\n 출력하고 싶다? -> \\\\n\n",
    "    - r''\n",
    "- 다른 스트링을 만드는 것이 아님."
   ]
  },
  {
   "cell_type": "code",
   "execution_count": 23,
   "id": "dfd1c210-db8d-4349-ace9-600bed86c9f2",
   "metadata": {},
   "outputs": [
    {
     "name": "stdout",
     "output_type": "stream",
     "text": [
      "hello\\nworld\n",
      "hello\\nworld\n"
     ]
    }
   ],
   "source": [
    "sent = 'hello\\\\nworld'\n",
    "print(sent)\n",
    "sent2 = r'hello\\nworld'\n",
    "print(sent2)"
   ]
  },
  {
   "cell_type": "code",
   "execution_count": 22,
   "id": "38343406-ec07-409d-a677-1bab9788d7ce",
   "metadata": {},
   "outputs": [
    {
     "data": {
      "text/plain": [
       "\"I'm a student.\""
      ]
     },
     "execution_count": 22,
     "metadata": {},
     "output_type": "execute_result"
    }
   ],
   "source": [
    "'I\\'m a student.'"
   ]
  },
  {
   "cell_type": "code",
   "execution_count": 25,
   "id": "68fda5a1-3fa5-408e-a0a7-7363fa301589",
   "metadata": {},
   "outputs": [
    {
     "name": "stdout",
     "output_type": "stream",
     "text": [
      "hello\n",
      "world\n"
     ]
    }
   ],
   "source": [
    "sent = 'hello\\nworld'\n",
    "sent\n",
    "print(sent)"
   ]
  },
  {
   "cell_type": "markdown",
   "id": "4c1007a2-765d-4faf-89e3-30958d076e89",
   "metadata": {},
   "source": [
    "### 연산\n",
    "- concatenatation\n",
    "    - \"+\" => 공백 없이 결합하는 방법\n",
    "- 곱하기\n",
    "    - \"*5 => 복제"
   ]
  },
  {
   "cell_type": "code",
   "execution_count": 26,
   "id": "2da5fc5b-b2a2-476f-b19c-6fed29fcaf9a",
   "metadata": {},
   "outputs": [
    {
     "data": {
      "text/plain": [
       "'jackjack'"
      ]
     },
     "execution_count": 26,
     "metadata": {},
     "output_type": "execute_result"
    }
   ],
   "source": [
    "name = 'jack'\n",
    "name + name"
   ]
  },
  {
   "cell_type": "code",
   "execution_count": 27,
   "id": "a116b28d-d840-4325-b5e5-7201614ed187",
   "metadata": {},
   "outputs": [
    {
     "data": {
      "text/plain": [
       "'jackjackjackjack'"
      ]
     },
     "execution_count": 27,
     "metadata": {},
     "output_type": "execute_result"
    }
   ],
   "source": [
    "name * 4"
   ]
  },
  {
   "cell_type": "code",
   "execution_count": 29,
   "id": "b0d2751c-4362-4862-90c8-c1a67bee47d7",
   "metadata": {},
   "outputs": [
    {
     "ename": "TypeError",
     "evalue": "'str' object does not support item assignment",
     "output_type": "error",
     "traceback": [
      "\u001b[0;31m---------------------------------------------------------------------------\u001b[0m",
      "\u001b[0;31mTypeError\u001b[0m                                 Traceback (most recent call last)",
      "\u001b[0;32m/var/folders/54/cstf0sh546x4t7shxfb0nv780000gn/T/ipykernel_67722/3687639327.py\u001b[0m in \u001b[0;36m<module>\u001b[0;34m\u001b[0m\n\u001b[1;32m      1\u001b[0m \u001b[0;31m#immutable\u001b[0m\u001b[0;34m\u001b[0m\u001b[0;34m\u001b[0m\u001b[0m\n\u001b[0;32m----> 2\u001b[0;31m \u001b[0mname\u001b[0m\u001b[0;34m[\u001b[0m\u001b[0;36m1\u001b[0m\u001b[0;34m]\u001b[0m \u001b[0;34m=\u001b[0m \u001b[0;34m'a'\u001b[0m\u001b[0;34m\u001b[0m\u001b[0;34m\u001b[0m\u001b[0m\n\u001b[0m",
      "\u001b[0;31mTypeError\u001b[0m: 'str' object does not support item assignment"
     ]
    }
   ],
   "source": [
    "#immutable\n",
    "name[1] = 'e'"
   ]
  },
  {
   "cell_type": "markdown",
   "id": "b05c0bf9-572c-4ec8-8b81-b69c5e99bafa",
   "metadata": {},
   "source": [
    "### 슬라이싱, 추출\n",
    "- 문자열의 일부분을 떼어내는 작업\n",
    "- 대괄호 사용, 그 안에 오프셋을 지정\n",
    "- 오프셋은 0부터 시작한다.\n",
    "    0123\n",
    "    jack\n",
    "    -4  -1\n",
    "- 음수도 가능함. -1부터 시작\n",
    "- 오프셋은 [시작:끝:스텝] # step=1\n",
    "- 시작은 포함, 끝은 포함하지 않음 (이상 - 미만)"
   ]
  },
  {
   "cell_type": "code",
   "execution_count": 31,
   "id": "068e714b-b113-49ec-b9fa-6b88c3671b55",
   "metadata": {},
   "outputs": [
    {
     "data": {
      "text/plain": [
       "'k'"
      ]
     },
     "execution_count": 31,
     "metadata": {},
     "output_type": "execute_result"
    }
   ],
   "source": [
    "name = 'jack'\n",
    "name[-1]"
   ]
  },
  {
   "cell_type": "code",
   "execution_count": 36,
   "id": "63c5d230-a0be-4259-85cb-ee84b78c0942",
   "metadata": {},
   "outputs": [
    {
     "data": {
      "text/plain": [
       "'hello\\nworld'"
      ]
     },
     "execution_count": 36,
     "metadata": {},
     "output_type": "execute_result"
    }
   ],
   "source": [
    "sent"
   ]
  },
  {
   "cell_type": "code",
   "execution_count": 37,
   "id": "f1b3f965-4566-4d4a-9d9d-ea5a41642472",
   "metadata": {},
   "outputs": [
    {
     "data": {
      "text/plain": [
       "'l'"
      ]
     },
     "execution_count": 37,
     "metadata": {},
     "output_type": "execute_result"
    }
   ],
   "source": [
    "sent[3:4]"
   ]
  },
  {
   "cell_type": "code",
   "execution_count": 39,
   "id": "1015cbb3-59f3-4916-9690-4152151d9cd6",
   "metadata": {},
   "outputs": [
    {
     "data": {
      "text/plain": [
       "'hello\\n'"
      ]
     },
     "execution_count": 39,
     "metadata": {},
     "output_type": "execute_result"
    }
   ],
   "source": [
    "# 처음부터 5까지 출력\n",
    "sent[0:6] # 이거는 잘 안씀\n",
    "sent[:6]"
   ]
  },
  {
   "cell_type": "code",
   "execution_count": 40,
   "id": "29cfcc95-63e0-4cbe-abb9-f105606b8955",
   "metadata": {},
   "outputs": [
    {
     "data": {
      "text/plain": [
       "('hlowr', 'hlowrd')"
      ]
     },
     "execution_count": 40,
     "metadata": {},
     "output_type": "execute_result"
    }
   ],
   "source": [
    "# 처음부터 끝까지 2스텝씩 출력\n",
    "#sent[0:6:2],\n",
    "#sent[:11:2],\n",
    "#sent[:10:2],\n",
    "#sent[:13:2],\n",
    "sent[:-1:2], sent[::2]"
   ]
  },
  {
   "cell_type": "code",
   "execution_count": 41,
   "id": "9e783480-8c3d-4aa3-907b-d25eefba1fe4",
   "metadata": {},
   "outputs": [
    {
     "data": {
      "text/plain": [
       "11"
      ]
     },
     "execution_count": 41,
     "metadata": {},
     "output_type": "execute_result"
    }
   ],
   "source": [
    "len(sent)"
   ]
  },
  {
   "cell_type": "code",
   "execution_count": 42,
   "id": "90354577-8547-485d-86e7-beb091294cef",
   "metadata": {},
   "outputs": [
    {
     "data": {
      "text/plain": [
       "'d'"
      ]
     },
     "execution_count": 42,
     "metadata": {},
     "output_type": "execute_result"
    }
   ],
   "source": [
    "sent[10]"
   ]
  },
  {
   "cell_type": "code",
   "execution_count": 44,
   "id": "2e6f5a55-b4a9-4f0d-88ba-fc0c0e0ad56c",
   "metadata": {},
   "outputs": [
    {
     "data": {
      "text/plain": [
       "'dlrow\\nolleh'"
      ]
     },
     "execution_count": 44,
     "metadata": {},
     "output_type": "execute_result"
    }
   ],
   "source": [
    "#모든 글자를 거꾸로 출력하세요 =>\n",
    "sent[::-1]\n",
    "\n",
    "#sent[-1::-1],\n",
    "#sent[0:11:2],\n",
    "#sent[-1::],\n",
    "#sent[-1:-11]"
   ]
  },
  {
   "cell_type": "code",
   "execution_count": 45,
   "id": "31700ad4-2235-468b-b0d9-725b6bcc304b",
   "metadata": {},
   "outputs": [
    {
     "data": {
      "text/plain": [
       "'hello\\nworld'"
      ]
     },
     "execution_count": 45,
     "metadata": {},
     "output_type": "execute_result"
    }
   ],
   "source": [
    "sent"
   ]
  },
  {
   "cell_type": "code",
   "execution_count": 46,
   "id": "c6703b26-6add-4837-9676-8f61feb4cc5c",
   "metadata": {},
   "outputs": [
    {
     "data": {
      "text/plain": [
       "'d'"
      ]
     },
     "execution_count": 46,
     "metadata": {},
     "output_type": "execute_result"
    }
   ],
   "source": [
    "sent[-1::]"
   ]
  },
  {
   "cell_type": "code",
   "execution_count": 70,
   "id": "07523b12-9380-4049-b2e3-1532700925ae",
   "metadata": {},
   "outputs": [
    {
     "data": {
      "text/plain": [
       "['benz', 'kia']"
      ]
     },
     "execution_count": 70,
     "metadata": {},
     "output_type": "execute_result"
    }
   ],
   "source": [
    "cars = ['benz', 'kia']\n",
    "cars[0:2]"
   ]
  },
  {
   "cell_type": "markdown",
   "id": "3aa3c8ae-6cd2-4ee7-88ff-cc7c43240110",
   "metadata": {},
   "source": [
    "#### NLTK"
   ]
  },
  {
   "cell_type": "markdown",
   "id": "1c1cd855-90eb-460d-a1bc-5edc20fcd27d",
   "metadata": {},
   "source": [
    "- natural language toolkit\n",
    "- 자연어 분석을 위해 교육용으로 배포된 패키지\n",
    "- 내장함수, 기들이 추가됨\n",
    "    - 토크나이즈, 파싱, 태깅, ..."
   ]
  },
  {
   "cell_type": "code",
   "execution_count": 49,
   "id": "1d0de398-71b4-435c-a66f-cca6e44a0ab1",
   "metadata": {},
   "outputs": [
    {
     "name": "stdout",
     "output_type": "stream",
     "text": [
      "Requirement already satisfied: nltk in /Users/ahyeonyoun/opt/anaconda3/lib/python3.9/site-packages (3.6.5)\n",
      "Requirement already satisfied: click in /Users/ahyeonyoun/opt/anaconda3/lib/python3.9/site-packages (from nltk) (8.0.3)\n",
      "Requirement already satisfied: joblib in /Users/ahyeonyoun/opt/anaconda3/lib/python3.9/site-packages (from nltk) (1.1.0)\n",
      "Requirement already satisfied: regex>=2021.8.3 in /Users/ahyeonyoun/opt/anaconda3/lib/python3.9/site-packages (from nltk) (2021.8.3)\n",
      "Requirement already satisfied: tqdm in /Users/ahyeonyoun/opt/anaconda3/lib/python3.9/site-packages (from nltk) (4.62.3)\n"
     ]
    }
   ],
   "source": [
    "!pip install nltk #설치"
   ]
  },
  {
   "cell_type": "code",
   "execution_count": null,
   "id": "1315e81a-7caf-4d14-a4d2-d71aac744266",
   "metadata": {},
   "outputs": [],
   "source": [
    "import nltk # 가져오기\n",
    "nltk.download('book') # 접근할 때는 . 을 사용한다.\n",
    "                                    # 부분적으로 다운받기, , quiet=true하면 길게 안 나옴"
   ]
  },
  {
   "cell_type": "code",
   "execution_count": 54,
   "id": "b181f6c5-9361-4e82-a4de-738548dd5f41",
   "metadata": {},
   "outputs": [
    {
     "name": "stdout",
     "output_type": "stream",
     "text": [
      "*** Introductory Examples for the NLTK Book ***\n",
      "Loading text1, ..., text9 and sent1, ..., sent9\n",
      "Type the name of the text or sentence to view it.\n",
      "Type: 'texts()' or 'sents()' to list the materials.\n",
      "text1: Moby Dick by Herman Melville 1851\n",
      "text2: Sense and Sensibility by Jane Austen 1811\n",
      "text3: The Book of Genesis\n",
      "text4: Inaugural Address Corpus\n",
      "text5: Chat Corpus\n",
      "text6: Monty Python and the Holy Grail\n",
      "text7: Wall Street Journal\n",
      "text8: Personals Corpus\n",
      "text9: The Man Who Was Thursday by G . K . Chesterton 1908\n"
     ]
    }
   ],
   "source": [
    "from nltk import book # 가져오기"
   ]
  },
  {
   "cell_type": "code",
   "execution_count": 57,
   "id": "ceebda1f-2f68-4116-bfd6-ec06deae8c27",
   "metadata": {},
   "outputs": [
    {
     "data": {
      "text/plain": [
       "['[',\n",
       " 'Moby',\n",
       " 'Dick',\n",
       " 'by',\n",
       " 'Herman',\n",
       " 'Melville',\n",
       " '1851',\n",
       " ']',\n",
       " 'ETYMOLOGY',\n",
       " '.']"
      ]
     },
     "execution_count": 57,
     "metadata": {},
     "output_type": "execute_result"
    }
   ],
   "source": [
    "moby = book.text1\n",
    "moby.tokens[:10] # 토큰에 접근하는 방법 -10개까지만 나오게 함\n",
    "# 토큰: 프로그래밍의 단어 단위 hello world, I'm not a coward.\n",
    "    #I'm / I, 'm / I, am"
   ]
  },
  {
   "cell_type": "code",
   "execution_count": 58,
   "id": "c0006009-d225-4e97-acff-c33b6e36104e",
   "metadata": {},
   "outputs": [
    {
     "data": {
      "text/plain": [
       "260819"
      ]
     },
     "execution_count": 58,
     "metadata": {},
     "output_type": "execute_result"
    }
   ],
   "source": [
    "#1. 길이 세기\n",
    "len(moby) #26만자"
   ]
  },
  {
   "cell_type": "code",
   "execution_count": 60,
   "id": "693367a2-5963-4f78-8a58-ca599709fc21",
   "metadata": {},
   "outputs": [
    {
     "data": {
      "text/plain": [
       "19317"
      ]
     },
     "execution_count": 60,
     "metadata": {},
     "output_type": "execute_result"
    }
   ],
   "source": [
    "#2. 중복 없이 단어 몇 개?\n",
    "len(set(moby)) #1.9만 자 list->set"
   ]
  },
  {
   "cell_type": "markdown",
   "id": "1793652c-10c4-415f-a32c-50ec5b047ff1",
   "metadata": {},
   "source": [
    "- list\n",
    "    - ['a', a, True]\n",
    "    - 순서가 있고\n",
    "    - 중복 허용된다\n",
    "    - list()\n",
    "- set\n",
    "    - {'a', 2, True}\n",
    "    - 순서 없고\n",
    "    - 중복 허용 안 됨\n",
    "    - set()\n",
    "    - 수학의 집합 개념"
   ]
  },
  {
   "cell_type": "code",
   "execution_count": 61,
   "id": "99bee17a-5ef5-4f1e-8d27-fc17e727afbb",
   "metadata": {},
   "outputs": [
    {
     "data": {
      "text/plain": [
       "['kia', 'hyundai', 'renault', 'benz', 'kia']"
      ]
     },
     "execution_count": 61,
     "metadata": {},
     "output_type": "execute_result"
    }
   ],
   "source": [
    "cars = ['kia', 'hyundai', 'renault', 'benz', 'kia']\n",
    "cars"
   ]
  },
  {
   "cell_type": "code",
   "execution_count": 63,
   "id": "42ac87f1-a4bd-47bf-bf76-90f883dd791b",
   "metadata": {},
   "outputs": [
    {
     "data": {
      "text/plain": [
       "{'benz', 'hyundai', 'kia', 'renault'}"
      ]
     },
     "execution_count": 63,
     "metadata": {},
     "output_type": "execute_result"
    }
   ],
   "source": [
    "set(cars) # 중복을 없앰"
   ]
  },
  {
   "cell_type": "code",
   "execution_count": 64,
   "id": "94667065-4059-466a-a87b-59cd021da34c",
   "metadata": {},
   "outputs": [
    {
     "data": {
      "text/plain": [
       "0.07406285585022564"
      ]
     },
     "execution_count": 64,
     "metadata": {},
     "output_type": "execute_result"
    }
   ],
   "source": [
    "#lexical diversity\n",
    "len(set(moby)) / len(moby)"
   ]
  },
  {
   "cell_type": "code",
   "execution_count": 66,
   "id": "b8cd829c-4e38-4ba6-9f03-225f616f762a",
   "metadata": {},
   "outputs": [
    {
     "data": {
      "text/plain": [
       "['renault', 'kia', 'kia', 'hyundai', 'benz']"
      ]
     },
     "execution_count": 66,
     "metadata": {},
     "output_type": "execute_result"
    }
   ],
   "source": [
    "#정렬\n",
    "sorted(cars, reverse=True)"
   ]
  },
  {
   "cell_type": "code",
   "execution_count": 68,
   "id": "56a1a4c9-a5f8-4ad2-abaa-5c1ed58b288c",
   "metadata": {},
   "outputs": [
    {
     "data": {
      "text/plain": [
       "['.',\n",
       " '1851',\n",
       " 'Dick',\n",
       " 'ETYMOLOGY',\n",
       " 'Herman',\n",
       " 'Melville',\n",
       " 'Moby',\n",
       " '[',\n",
       " ']',\n",
       " 'by']"
      ]
     },
     "execution_count": 68,
     "metadata": {},
     "output_type": "execute_result"
    }
   ],
   "source": [
    "sorted(moby[:10]) #문장부호 - ? - 대문자 - 소문자"
   ]
  },
  {
   "cell_type": "code",
   "execution_count": 69,
   "id": "970aaed4-53e6-43ec-aa65-658cfbfcff50",
   "metadata": {},
   "outputs": [
    {
     "data": {
      "text/plain": [
       "['!', '!', '!', '!', '!', '!', '!', '!', '!', '!']"
      ]
     },
     "execution_count": 69,
     "metadata": {},
     "output_type": "execute_result"
    }
   ],
   "source": [
    "sorted(moby)[:10]"
   ]
  },
  {
   "cell_type": "markdown",
   "id": "68b37d4a-f4d7-4638-bc34-8a0e5552eee9",
   "metadata": {
    "tags": []
   },
   "source": [
    "### Quiz 1\n",
    "- text6 가져와서 토큰을 변수에 담고\n",
    "- 중복 없는 셋으로 저장하고 내림차순\n",
    "    - 앞에서 10개 단어 출력\n",
    "    - 단어에 z가 있으면 대문자로 바꾸시오\n",
    "    - z가 없는데 4글자 이상이면 끝 글자를 대문자로 바꾸라.\n",
    "    "
   ]
  },
  {
   "cell_type": "code",
   "execution_count": 4,
   "id": "8d4a5902-d5c8-4fd5-a5d8-5291e75c24d9",
   "metadata": {},
   "outputs": [
    {
     "name": "stdout",
     "output_type": "stream",
     "text": [
      "<Text: Monty Python and the Holy Grail>\n"
     ]
    }
   ],
   "source": [
    "from nltk import book = book.text6.tokens\n",
    "moby = set(moby)\n",
    "moby = list(moby)\n",
    "moby = sorted(moby, reverse=True)\n",
    "print(moby[:10])\n",
    "\n",
    "if moby in ['z']:\n",
    "    print()\n",
    "else:\n",
    "    if len(moby) >= 4\n",
    "        print(\n",
    "\n",
    "            \n",
    "            \n",
    "from nltk import book\n",
    "moby = book.text6.tokens\n",
    "moby = set(moby)\n",
    "moby = list(moby)\n",
    "mpby = sorted(moby, reverse=True)\n",
    "print(moby[:10])\n",
    "\n",
    "if moby in ['z']:\n",
    "    print(moby.capitalize())\n",
    "else:\n",
    "    if len(moby) >= 4:\n",
    "        print(moby.capitalize())\n"
   ]
  },
  {
   "cell_type": "markdown",
   "id": "55ad2628-ba74-464c-985e-69e6a6e6f829",
   "metadata": {},
   "source": [
    "### Quiz 2\n",
    "- 주민번호, 휴대폰 번호, 이메일 주소 입력 받는다.\n",
    "- 주민번호, 휴대폰번호는 숫자만 입력받는다 (- 없이)\n",
    "- 이메일주소는 아이디만 입력받는다. (@xx 없이)\n",
    "    - 1. \"당신은 {}년 {}월 {}일 출생의 {남성/여성}입니다.\"\n",
    "    - 2. 휴대폰 번호:000-0000-0000\n",
    "    - 3. 이메일주소:xxxx@gmail.com"
   ]
  },
  {
   "cell_type": "code",
   "execution_count": 14,
   "id": "31cdea18-4c98-447d-aaa5-fbca5c3db8e8",
   "metadata": {},
   "outputs": [
    {
     "name": "stdin",
     "output_type": "stream",
     "text": [
      "주민번호를 입력하시오:  0207114237823\n",
      "휴대전화를 입력하시오:  01056479953\n",
      "아이디를 입력하시오:  dnsdkgus789\n"
     ]
    },
    {
     "name": "stdout",
     "output_type": "stream",
     "text": [
      "1. 당신은 02년 07월 11일 출생의 여성입니다.\n",
      "2. 휴대폰 번호: 010-5647-9953\n",
      "3. 이메일주소: dnsdkgus789@gmail.com\n"
     ]
    }
   ],
   "source": [
    "id_number = input('주민번호를 입력하시오: ')\n",
    "phone_number = input('휴대전화를 입력하시오: ')\n",
    "email = input('아이디를 입력하시오: ')\n",
    "\n",
    "if int(id_number[6]) % 2 == 0:\n",
    "    print(f'1. 당신은 {id_number[:2]}년 {id_number[2:4]}월 {id_number[4:6]}일 출생의 여성입니다.')\n",
    "else:\n",
    "    print(f'1. 당신은 {id_number[:2]}년 {id_number[2:4]}월 {id_number[4:6]}일 출생의 남성입니다.')\n",
    "    \n",
    "print(f'2. 휴대폰 번호: {phone_number[:3]}-{phone_number[3:7]}-{phone_number[7:]}')\n",
    "print(f'3. 이메일주소: {email}@gmail.com')"
   ]
  },
  {
   "cell_type": "code",
   "execution_count": null,
   "id": "c25b62f5-736a-4e3d-a3b0-674db876d151",
   "metadata": {},
   "outputs": [],
   "source": []
  }
 ],
 "metadata": {
  "kernelspec": {
   "display_name": "Python 3 (ipykernel)",
   "language": "python",
   "name": "python3"
  },
  "language_info": {
   "codemirror_mode": {
    "name": "ipython",
    "version": 3
   },
   "file_extension": ".py",
   "mimetype": "text/x-python",
   "name": "python",
   "nbconvert_exporter": "python",
   "pygments_lexer": "ipython3",
   "version": "3.9.7"
  }
 },
 "nbformat": 4,
 "nbformat_minor": 5
}
