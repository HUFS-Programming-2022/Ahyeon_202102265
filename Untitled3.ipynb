{
 "cells": [
  {
   "cell_type": "markdown",
   "id": "c593d4c1-77bf-4bb0-8d65-224c84c04070",
   "metadata": {},
   "source": [
    "### String with NLTK"
   ]
  },
  {
   "cell_type": "code",
   "execution_count": 3,
   "id": "91ed1e59-abde-4d63-9f87-80b5713564b6",
   "metadata": {},
   "outputs": [
    {
     "data": {
      "text/plain": [
       "True"
      ]
     },
     "execution_count": 3,
     "metadata": {},
     "output_type": "execute_result"
    }
   ],
   "source": [
    "import nltk\n",
    "from nltk.book import *\n",
    "nltk.download('book', quiet=True)"
   ]
  },
  {
   "cell_type": "markdown",
   "id": "b7636201-57ca-48f5-adb9-e78007b8315a",
   "metadata": {},
   "source": [
    "#### 내장함수 I\n",
    "- string1. method(string2)\n",
    "- list.method(string)\n",
    "\n",
    "- list.count(string): string이 나타나는 개수\n",
    "- str.replace(): A -> B 변경하는\n",
    "- str.strip(): 공백 등등을 제거하는 기능\n",
    "    - lstrip, rstrip\n",
    "- find(string): 오프셋을 반환\n",
    "    - lstrip, rstrip\n",
    "    - 공백 포함\n",
    "    - 1번째 값의 인덱스\n",
    "    - 만족하는 값이 없는 경우 -1 반환\n",
    "- index(string)\n",
    "    - 에러 발생"
   ]
  },
  {
   "cell_type": "code",
   "execution_count": 4,
   "id": "403c4165-2b79-45c0-b0c5-4eae4919599d",
   "metadata": {},
   "outputs": [
    {
     "data": {
      "text/plain": [
       "1661"
      ]
     },
     "execution_count": 4,
     "metadata": {},
     "output_type": "execute_result"
    }
   ],
   "source": [
    "text1.count('he')"
   ]
  },
  {
   "cell_type": "code",
   "execution_count": 5,
   "id": "1713a1fb-7684-4a7d-9e13-3c65fe4c6708",
   "metadata": {},
   "outputs": [
    {
     "data": {
      "text/plain": [
       "'word'"
      ]
     },
     "execution_count": 5,
     "metadata": {},
     "output_type": "execute_result"
    }
   ],
   "source": [
    "'word'.replace('w', 'W')"
   ]
  },
  {
   "cell_type": "code",
   "execution_count": 6,
   "id": "935ce9b5-1fc6-4e97-8032-2688277a9365",
   "metadata": {},
   "outputs": [
    {
     "data": {
      "text/plain": [
       "' \\t      word'"
      ]
     },
     "execution_count": 6,
     "metadata": {},
     "output_type": "execute_result"
    }
   ],
   "source": [
    "' \\t      word'.rstrip()"
   ]
  },
  {
   "cell_type": "code",
   "execution_count": 7,
   "id": "1dfd2420-3ae4-4343-8837-55a86a05ced2",
   "metadata": {},
   "outputs": [
    {
     "data": {
      "text/plain": [
       "'word'"
      ]
     },
     "execution_count": 7,
     "metadata": {},
     "output_type": "execute_result"
    }
   ],
   "source": [
    "' \\t      word'.lstrip()"
   ]
  },
  {
   "cell_type": "code",
   "execution_count": 9,
   "id": "9d651b63-de21-4f12-af99-4314f384b40c",
   "metadata": {},
   "outputs": [
    {
     "data": {
      "text/plain": [
       "'chorD'"
      ]
     },
     "execution_count": 9,
     "metadata": {},
     "output_type": "execute_result"
    }
   ],
   "source": [
    "word = ' \\t      word'\n",
    "word.replace('w', 'ch').strip().replace('d', 'D')"
   ]
  },
  {
   "cell_type": "code",
   "execution_count": 10,
   "id": "df50e21e-513b-483a-9d3a-e6478c01b0ae",
   "metadata": {},
   "outputs": [
    {
     "data": {
      "text/plain": [
       "' \\t      word'"
      ]
     },
     "execution_count": 10,
     "metadata": {},
     "output_type": "execute_result"
    }
   ],
   "source": [
    "word"
   ]
  },
  {
   "cell_type": "code",
   "execution_count": 11,
   "id": "d4431e7f-bab3-46c3-a60e-e41e1c8afa7d",
   "metadata": {},
   "outputs": [
    {
     "data": {
      "text/plain": [
       "8"
      ]
     },
     "execution_count": 11,
     "metadata": {},
     "output_type": "execute_result"
    }
   ],
   "source": [
    "word2 = ' \\t      wordwwww'\n",
    "word2.find('w')"
   ]
  },
  {
   "cell_type": "code",
   "execution_count": 12,
   "id": "8da00c74-c72e-4706-a924-9e976f4cd0d6",
   "metadata": {},
   "outputs": [
    {
     "data": {
      "text/plain": [
       "8"
      ]
     },
     "execution_count": 12,
     "metadata": {},
     "output_type": "execute_result"
    }
   ],
   "source": [
    "word2.index('w')"
   ]
  },
  {
   "cell_type": "code",
   "execution_count": 13,
   "id": "ec61e3b3-c1eb-40a1-af8b-6e10cfc9a4ca",
   "metadata": {},
   "outputs": [
    {
     "data": {
      "text/plain": [
       "-1"
      ]
     },
     "execution_count": 13,
     "metadata": {},
     "output_type": "execute_result"
    }
   ],
   "source": [
    "word2.find('c')"
   ]
  },
  {
   "cell_type": "code",
   "execution_count": 14,
   "id": "f388731a-7c63-46aa-ac5e-8dd717a2b2df",
   "metadata": {},
   "outputs": [
    {
     "ename": "ValueError",
     "evalue": "substring not found",
     "output_type": "error",
     "traceback": [
      "\u001b[0;31m---------------------------------------------------------------------------\u001b[0m",
      "\u001b[0;31mValueError\u001b[0m                                Traceback (most recent call last)",
      "\u001b[0;32m/var/folders/54/cstf0sh546x4t7shxfb0nv780000gn/T/ipykernel_1513/3615158748.py\u001b[0m in \u001b[0;36m<module>\u001b[0;34m\u001b[0m\n\u001b[0;32m----> 1\u001b[0;31m \u001b[0mword2\u001b[0m\u001b[0;34m.\u001b[0m\u001b[0mindex\u001b[0m\u001b[0;34m(\u001b[0m\u001b[0;34m'c'\u001b[0m\u001b[0;34m)\u001b[0m\u001b[0;34m\u001b[0m\u001b[0;34m\u001b[0m\u001b[0m\n\u001b[0m",
      "\u001b[0;31mValueError\u001b[0m: substring not found"
     ]
    }
   ],
   "source": [
    "word2.index('c')"
   ]
  },
  {
   "cell_type": "markdown",
   "id": "b418c825-9124-43c0-8ae0-76d6262b8374",
   "metadata": {},
   "source": [
    "### NLTK 내장 함수\n",
    "- list.method(var)\n",
    "- 자연어처리와 관련된 함수들\n",
    "\n",
    "- concordance(): string의 앞뒤 문맥을 알 수 있음\n",
    "- similar(): 문맥이 비슷한 단어들\n",
    "- common_contexts(): 주어진 스트링이 어떤 문맥을 공유하는지\n",
    "- dispersion_plot(): 주어진 스트링이 텍스트에서 출현하는 위치를 이미지로"
   ]
  },
  {
   "cell_type": "code",
   "execution_count": 15,
   "id": "21fd39bd-8565-44d0-809f-aaaaa6e45bb7",
   "metadata": {
    "collapsed": true,
    "jupyter": {
     "outputs_hidden": true
    },
    "tags": []
   },
   "outputs": [
    {
     "name": "stdout",
     "output_type": "stream",
     "text": [
      "Displaying 25 of 1226 matches:\n",
      "s , and to teach them by what name a whale - fish is to be called in our tongue\n",
      "t which is not true .\" -- HACKLUYT \" WHALE . ... Sw . and Dan . HVAL . This ani\n",
      "ulted .\" -- WEBSTER ' S DICTIONARY \" WHALE . ... It is more immediately from th\n",
      "ISH . WAL , DUTCH . HWAL , SWEDISH . WHALE , ICELANDIC . WHALE , ENGLISH . BALE\n",
      "HWAL , SWEDISH . WHALE , ICELANDIC . WHALE , ENGLISH . BALEINE , FRENCH . BALLE\n",
      "least , take the higgledy - piggledy whale statements , however authentic , in \n",
      " dreadful gulf of this monster ' s ( whale ' s ) mouth , are immediately lost a\n",
      " patient Job .\" -- RABELAIS . \" This whale ' s liver was two cartloads .\" -- ST\n",
      " Touching that monstrous bulk of the whale or ork we have received nothing cert\n",
      " of oil will be extracted out of one whale .\" -- IBID . \" HISTORY OF LIFE AND D\n",
      "ise .\" -- KING HENRY . \" Very like a whale .\" -- HAMLET . \" Which to secure , n\n",
      "restless paine , Like as the wounded whale to shore flies thro ' the maine .\" -\n",
      ". OF SPERMA CETI AND THE SPERMA CETI WHALE . VIDE HIS V . E . \" Like Spencer ' \n",
      "t had been a sprat in the mouth of a whale .\" -- PILGRIM ' S PROGRESS . \" That \n",
      "EN ' S ANNUS MIRABILIS . \" While the whale is floating at the stern of the ship\n",
      "e ship called The Jonas - in - the - Whale . ... Some say the whale can ' t ope\n",
      " in - the - Whale . ... Some say the whale can ' t open his mouth , but that is\n",
      " masts to see whether they can see a whale , for the first discoverer has a duc\n",
      " for his pains . ... I was told of a whale taken near Shetland , that had above\n",
      "oneers told me that he caught once a whale in Spitzbergen that was white all ov\n",
      "2 , one eighty feet in length of the whale - bone kind came in , which ( as I w\n",
      "n master and kill this Sperma - ceti whale , for I could never hear of any of t\n",
      " . 1729 . \"... and the breath of the whale is frequendy attended with such an i\n",
      "ed with hoops and armed with ribs of whale .\" -- RAPE OF THE LOCK . \" If we com\n",
      "contemptible in the comparison . The whale is doubtless the largest animal in c\n"
     ]
    }
   ],
   "source": [
    "text1.concordance('whale')"
   ]
  },
  {
   "cell_type": "code",
   "execution_count": 16,
   "id": "656c2f5f-5a96-41cd-bf78-12b11bcbdaa9",
   "metadata": {},
   "outputs": [
    {
     "name": "stdout",
     "output_type": "stream",
     "text": [
      "ship boat sea time captain world man deck pequod other whales air\n",
      "water head crew line thing side way body\n"
     ]
    }
   ],
   "source": [
    "text1.similar('whale')"
   ]
  },
  {
   "cell_type": "code",
   "execution_count": 17,
   "id": "e744a6af-36c6-4e01-bc52-2b42eb2ddaa7",
   "metadata": {},
   "outputs": [
    {
     "name": "stdout",
     "output_type": "stream",
     "text": [
      "am_glad a_pretty a_lucky is_pretty be_glad\n"
     ]
    }
   ],
   "source": [
    "text2.common_contexts(['monstrous', 'very'])"
   ]
  },
  {
   "cell_type": "code",
   "execution_count": 19,
   "id": "076a1372-70d1-42c6-b98d-3be73bbff3a4",
   "metadata": {},
   "outputs": [
    {
     "name": "stdout",
     "output_type": "stream",
     "text": [
      "Requirement already satisfied: matplotlib in /Users/ahyeonyoun/opt/anaconda3/lib/python3.9/site-packages (3.4.3)\n",
      "Requirement already satisfied: kiwisolver>=1.0.1 in /Users/ahyeonyoun/opt/anaconda3/lib/python3.9/site-packages (from matplotlib) (1.3.1)\n",
      "Requirement already satisfied: cycler>=0.10 in /Users/ahyeonyoun/opt/anaconda3/lib/python3.9/site-packages (from matplotlib) (0.10.0)\n",
      "Requirement already satisfied: pillow>=6.2.0 in /Users/ahyeonyoun/opt/anaconda3/lib/python3.9/site-packages (from matplotlib) (8.4.0)\n",
      "Requirement already satisfied: pyparsing>=2.2.1 in /Users/ahyeonyoun/opt/anaconda3/lib/python3.9/site-packages (from matplotlib) (3.0.4)\n",
      "Requirement already satisfied: numpy>=1.16 in /Users/ahyeonyoun/opt/anaconda3/lib/python3.9/site-packages (from matplotlib) (1.20.3)\n",
      "Requirement already satisfied: python-dateutil>=2.7 in /Users/ahyeonyoun/opt/anaconda3/lib/python3.9/site-packages (from matplotlib) (2.8.2)\n",
      "Requirement already satisfied: six in /Users/ahyeonyoun/opt/anaconda3/lib/python3.9/site-packages (from cycler>=0.10->matplotlib) (1.16.0)\n"
     ]
    }
   ],
   "source": [
    "!pip install matplotlib"
   ]
  },
  {
   "cell_type": "code",
   "execution_count": 30,
   "id": "381d6004-0112-4d7d-a5b3-2e26252c842f",
   "metadata": {},
   "outputs": [
    {
     "ename": "TypeError",
     "evalue": "dispersion_plot() missing 1 required positional argument: 'words'",
     "output_type": "error",
     "traceback": [
      "\u001b[0;31m---------------------------------------------------------------------------\u001b[0m",
      "\u001b[0;31mTypeError\u001b[0m                                 Traceback (most recent call last)",
      "\u001b[0;32m/var/folders/54/cstf0sh546x4t7shxfb0nv780000gn/T/ipykernel_1513/728374298.py\u001b[0m in \u001b[0;36m<module>\u001b[0;34m\u001b[0m\n\u001b[0;32m----> 1\u001b[0;31m \u001b[0mtext4\u001b[0m\u001b[0;34m.\u001b[0m\u001b[0mdispersion_plot\u001b[0m\u001b[0;34m(\u001b[0m\u001b[0;34m)\u001b[0m\u001b[0;34m(\u001b[0m\u001b[0;34m[\u001b[0m\u001b[0;34m'citizen'\u001b[0m\u001b[0;34m,\u001b[0m \u001b[0;34m'America'\u001b[0m\u001b[0;34m,\u001b[0m \u001b[0;34m'freedom'\u001b[0m\u001b[0;34m]\u001b[0m\u001b[0;34m)\u001b[0m\u001b[0;34m\u001b[0m\u001b[0;34m\u001b[0m\u001b[0m\n\u001b[0m",
      "\u001b[0;31mTypeError\u001b[0m: dispersion_plot() missing 1 required positional argument: 'words'"
     ]
    }
   ],
   "source": [
    "text4.dispersion_plot()(['citizen', 'America', 'freedom'])"
   ]
  },
  {
   "cell_type": "markdown",
   "id": "23174016-2349-4fd9-9841-d103cd73754f",
   "metadata": {},
   "source": [
    "### Frequency Distribution\n",
    "- 단어의 빈도수를 활용할 수 있는 많은 매소드를 제공\n",
    "- 인간 언어 -> 컴퓨터가 인식\n",
    "    - 전체 단어 수\n",
    "    - 특정의 빈도수"
   ]
  },
  {
   "cell_type": "code",
   "execution_count": 21,
   "id": "35f22ee6-6f18-43de-9c7a-e23f66f48b15",
   "metadata": {},
   "outputs": [
    {
     "data": {
      "text/plain": [
       "FreqDist({',': 18713, 'the': 13721, '.': 6862, 'of': 6536, 'and': 6024, 'a': 4569, 'to': 4542, ';': 4072, 'in': 3916, 'that': 2982, ...})"
      ]
     },
     "execution_count": 21,
     "metadata": {},
     "output_type": "execute_result"
    }
   ],
   "source": [
    "fdist = FreqDist(text1)\n",
    "fdist # dictionary = key:value"
   ]
  },
  {
   "cell_type": "code",
   "execution_count": 22,
   "id": "cbea098b-ee0f-4869-9bef-0eaf281e9ea6",
   "metadata": {},
   "outputs": [
    {
     "data": {
      "text/plain": [
       "[(',', 18713),\n",
       " ('the', 13721),\n",
       " ('.', 6862),\n",
       " ('of', 6536),\n",
       " ('and', 6024),\n",
       " ('a', 4569),\n",
       " ('to', 4542),\n",
       " (';', 4072),\n",
       " ('in', 3916),\n",
       " ('that', 2982)]"
      ]
     },
     "execution_count": 22,
     "metadata": {},
     "output_type": "execute_result"
    }
   ],
   "source": [
    "fdist.most_common(10)"
   ]
  },
  {
   "cell_type": "code",
   "execution_count": 25,
   "id": "c4ca283b-e29d-489e-8a02-071b0bdc785f",
   "metadata": {},
   "outputs": [
    {
     "data": {
      "text/plain": [
       "(906, 906)"
      ]
     },
     "execution_count": 25,
     "metadata": {},
     "output_type": "execute_result"
    }
   ],
   "source": [
    "fdist['whale'] , text1.count('whale')"
   ]
  },
  {
   "cell_type": "code",
   "execution_count": 26,
   "id": "ec31a536-3daf-4e2b-ac42-82fa51a3ec3e",
   "metadata": {},
   "outputs": [
    {
     "data": {
      "text/plain": [
       "0.0010812095744558486"
      ]
     },
     "execution_count": 26,
     "metadata": {},
     "output_type": "execute_result"
    }
   ],
   "source": [
    "fdist.freq('Whale')"
   ]
  },
  {
   "cell_type": "code",
   "execution_count": 27,
   "id": "fba694d2-94e6-4f3e-ac4e-8694d9a8b6fd",
   "metadata": {},
   "outputs": [
    {
     "data": {
      "image/png": "[encoded data removed]",
      "text/plain": [
       "<Figure size 432x288 with 1 Axes>"
      ]
     },
     "metadata": {
      "needs_background": "light"
     },
     "output_type": "display_data"
    },
    {
     "data": {
      "text/plain": [
       "<AxesSubplot:xlabel='Samples', ylabel='Counts'>"
      ]
     },
     "execution_count": 27,
     "metadata": {},
     "output_type": "execute_result"
    }
   ],
   "source": [
    "fdist.plot(50, cumulative = False)"
   ]
  },
  {
   "cell_type": "code",
   "execution_count": 28,
   "id": "c1c8e18c-f415-4650-9956-0f1328721bb8",
   "metadata": {},
   "outputs": [
    {
     "data": {
      "text/plain": [
       "9002"
      ]
     },
     "execution_count": 28,
     "metadata": {},
     "output_type": "execute_result"
    }
   ],
   "source": [
    "# 1번 나타나는 단어들\n",
    "len(fdist.hapaxes()) #중복은 안 됨, 대소문자 구분됨"
   ]
  },
  {
   "cell_type": "code",
   "execution_count": null,
   "id": "cd86a17a-89ab-4a84-b910-ca6f05e3efd5",
   "metadata": {},
   "outputs": [
    {
     "data": {
      "text/plain": [
       "9002"
      ]
     },
     "execution_count": 29,
     "metadata": {},
     "output_type": "execute_result"
    }
   ],
   "source": [
    "len(set(fdist.hapaxes()))"
   ]
  },
  {
   "cell_type": "markdown",
   "id": "eb3469f1-8f26-4339-b390-3af4b62d57bb",
   "metadata": {},
   "source": [
    "### 리스트 & 리스트 컴프리헨션\n",
    "- 리스트: 배열(array), 리스트(list)\n",
    "- 하나의 변수에 여러 값을 할당하는 자료형\n",
    "    - a = [1, 2, 3, 4]\n",
    "- 대괄호로 선언 [ ]\n",
    "- 내부 요소들은 자료형이 달라도 됨\n",
    "    - a = [1, True, 'hello']\n",
    "- 순서가 있다 => 인덱싱, 슬라이싱 가능\n",
    "- 빈 리스트 선언: list(),[]"
   ]
  },
  {
   "cell_type": "code",
   "execution_count": 31,
   "id": "a0a49585-1b2d-4b78-afe2-292e4529d41d",
   "metadata": {},
   "outputs": [
    {
     "data": {
      "text/plain": [
       "['hello', True, 1]"
      ]
     },
     "execution_count": 31,
     "metadata": {},
     "output_type": "execute_result"
    }
   ],
   "source": [
    "a = [1, True, 'hello']\n",
    "a[::-1]"
   ]
  },
  {
   "cell_type": "code",
   "execution_count": 32,
   "id": "63c15ead-c665-4133-903f-f8998393cc56",
   "metadata": {},
   "outputs": [],
   "source": [
    "b = []\n",
    "b = list()"
   ]
  },
  {
   "cell_type": "code",
   "execution_count": 33,
   "id": "0f1127c5-497b-407a-86b4-08d86fb6ac4b",
   "metadata": {},
   "outputs": [],
   "source": [
    "drinks = ['rum', 'mojito', 'soju']\n",
    "# drinks[01]"
   ]
  },
  {
   "cell_type": "code",
   "execution_count": 34,
   "id": "4e602aae-898e-4f0b-853e-84521d3bb303",
   "metadata": {},
   "outputs": [
    {
     "data": {
      "text/plain": [
       "2"
      ]
     },
     "execution_count": 34,
     "metadata": {},
     "output_type": "execute_result"
    }
   ],
   "source": [
    "# drinks 에서 soju의 오프셋을 알고싶다\n",
    "drinks.index('soju')\n"
   ]
  },
  {
   "cell_type": "markdown",
   "id": "07f0f714-a7c9-4a45-9e6d-dd5a48ff5397",
   "metadata": {},
   "source": [
    "#### list comprehension\n",
    "- 지능형 리스트\n",
    "- 주어진 리스트를 포함하는 새로운 리스트를 형성하는 것\n",
    "- list + for_loop 한 줄로 해결하는 방식\n",
    "- [A for A' in B]\n",
    "    - B에 있는 A'에서 A를 가진 리스트를 변환\n",
    "    - B: 기존의 리스트\n",
    "    - A: B의 자료 형태\n",
    "    - A: 새로운 리스트의 요소\n",
    "    \n",
    "- 조건+ : [A for A' in B if <조건식>]\n",
    "    - [A for A' in B if <조건식> and <조건식>, ...]"
   ]
  },
  {
   "cell_type": "code",
   "execution_count": 35,
   "id": "4fad76ab-2def-4476-8f7e-10630edcb4f1",
   "metadata": {},
   "outputs": [
    {
     "data": {
      "text/plain": [
       "['rum', 'mojito', 'soju']"
      ]
     },
     "execution_count": 35,
     "metadata": {},
     "output_type": "execute_result"
    }
   ],
   "source": [
    "[d for d in drinks] # 이것만 외우고 여기서 시작하면 됨"
   ]
  },
  {
   "cell_type": "code",
   "execution_count": 36,
   "id": "441718e0-0009-484e-b926-81136ae43922",
   "metadata": {},
   "outputs": [
    {
     "data": {
      "text/plain": [
       "['r', 'm', 's']"
      ]
     },
     "execution_count": 36,
     "metadata": {},
     "output_type": "execute_result"
    }
   ],
   "source": [
    "[d[0] for d in drinks] # 각각 하나만 빼서 리스트에 담는것"
   ]
  },
  {
   "cell_type": "code",
   "execution_count": 1,
   "id": "df059f79-c0f9-404d-91ed-76689fb0d1d1",
   "metadata": {},
   "outputs": [
    {
     "ename": "NameError",
     "evalue": "name 'text1' is not defined",
     "output_type": "error",
     "traceback": [
      "\u001b[0;31m---------------------------------------------------------------------------\u001b[0m",
      "\u001b[0;31mNameError\u001b[0m                                 Traceback (most recent call last)",
      "\u001b[0;32m/var/folders/54/cstf0sh546x4t7shxfb0nv780000gn/T/ipykernel_20160/1674543712.py\u001b[0m in \u001b[0;36m<module>\u001b[0;34m\u001b[0m\n\u001b[1;32m      1\u001b[0m \u001b[0;31m# text1 알파벳 수가 10이상인 단어\u001b[0m\u001b[0;34m\u001b[0m\u001b[0;34m\u001b[0m\u001b[0m\n\u001b[0;32m----> 2\u001b[0;31m \u001b[0;34m[\u001b[0m\u001b[0mword\u001b[0m\u001b[0;34m[\u001b[0m\u001b[0;36m0\u001b[0m\u001b[0;34m]\u001b[0m \u001b[0;32mfor\u001b[0m \u001b[0mword\u001b[0m \u001b[0;32min\u001b[0m \u001b[0mtext1\u001b[0m \u001b[0;32mif\u001b[0m \u001b[0mlen\u001b[0m\u001b[0;34m(\u001b[0m\u001b[0mword\u001b[0m\u001b[0;34m)\u001b[0m \u001b[0;34m>=\u001b[0m \u001b[0;36m10\u001b[0m\u001b[0;34m]\u001b[0m \u001b[0;31m# == text1.tokens\u001b[0m\u001b[0;34m\u001b[0m\u001b[0;34m\u001b[0m\u001b[0m\n\u001b[0m",
      "\u001b[0;31mNameError\u001b[0m: name 'text1' is not defined"
     ]
    }
   ],
   "source": [
    "# text1 알파벳 수가 10이상인 단어\n",
    "[word[0] for word in text1 if len(word) >= 10] # == text1.tokens"
   ]
  },
  {
   "cell_type": "code",
   "execution_count": null,
   "id": "fcbee16b-397e-4b95-8f2a-55ca89faa22a",
   "metadata": {},
   "outputs": [],
   "source": [
    "# text4에서 'gnt'를 포함하는 단어 변환\n",
    "[word for word in text4 if 'gnt' in word]\n",
    "[word for word in text4 if word.find('gnt')]"
   ]
  },
  {
   "cell_type": "code",
   "execution_count": 52,
   "id": "88630b30-5974-4d2f-b778-75e25662bbf8",
   "metadata": {},
   "outputs": [],
   "source": [
    "[word for word in text4 if word.find('gnt')]\n",
    "quiet=True"
   ]
  },
  {
   "cell_type": "code",
   "execution_count": 45,
   "id": "0e62cce4-e367-428a-b6c1-602fe4dfc8ed",
   "metadata": {},
   "outputs": [
    {
     "ename": "IndentationError",
     "evalue": "expected an indented block (1343380625.py, line 3)",
     "output_type": "error",
     "traceback": [
      "\u001b[0;36m  File \u001b[0;32m\"/var/folders/54/cstf0sh546x4t7shxfb0nv780000gn/T/ipykernel_1513/1343380625.py\"\u001b[0;36m, line \u001b[0;32m3\u001b[0m\n\u001b[0;31m    if a:\u001b[0m\n\u001b[0m         ^\u001b[0m\n\u001b[0;31mIndentationError\u001b[0m\u001b[0;31m:\u001b[0m expected an indented block\n"
     ]
    }
   ],
   "source": [
    "'gnt' in 'sovereignty'\n",
    "a = True\n",
    "if a:"
   ]
  },
  {
   "cell_type": "code",
   "execution_count": 40,
   "id": "00088b14-39d0-4d2b-9ae8-a29b156440cd",
   "metadata": {},
   "outputs": [
    {
     "data": {
      "text/plain": [
       "(3, 0)"
      ]
     },
     "execution_count": 40,
     "metadata": {},
     "output_type": "execute_result"
    }
   ],
   "source": [
    "[word for word in set(text4) if 'gnt' in word] #op_a\n",
    "\n",
    "set([word for word in text4 if 'gnt' in word]) #op_b\n",
    "\n",
    "len(a), len(b)"
   ]
  },
  {
   "cell_type": "code",
   "execution_count": 41,
   "id": "70d8c3c4-3f87-46b3-990d-f289f2b2e755",
   "metadata": {},
   "outputs": [
    {
     "data": {
      "text/plain": [
       "[1, True, 'hello']"
      ]
     },
     "execution_count": 41,
     "metadata": {},
     "output_type": "execute_result"
    }
   ],
   "source": [
    "a\n"
   ]
  },
  {
   "cell_type": "code",
   "execution_count": 42,
   "id": "78bfc948-9194-4509-91f8-397c881c90af",
   "metadata": {},
   "outputs": [
    {
     "data": {
      "text/plain": [
       "[]"
      ]
     },
     "execution_count": 42,
     "metadata": {},
     "output_type": "execute_result"
    }
   ],
   "source": [
    "b"
   ]
  },
  {
   "cell_type": "markdown",
   "id": "2d886443-eabe-490f-9f3d-5d1048dfcb14",
   "metadata": {},
   "source": [
    "### 조건을 위한 함수 : uncased, cased\n",
    "- 'the' != 'The'\n",
    "- upper(), lower(), title()\n",
    "- capitalize(), swapcase()\n",
    "- isupper(), islower(), istitle()\n",
    "- endswith(), startwith(), isalpha()"
   ]
  },
  {
   "cell_type": "code",
   "execution_count": 46,
   "id": "2088a78f-d68f-4092-b459-0effd04df5c8",
   "metadata": {},
   "outputs": [
    {
     "data": {
      "text/plain": [
       "False"
      ]
     },
     "execution_count": 46,
     "metadata": {},
     "output_type": "execute_result"
    }
   ],
   "source": [
    "'word'.isupper()"
   ]
  },
  {
   "cell_type": "code",
   "execution_count": 47,
   "id": "91c7ee29-a7b7-4435-949f-453b4e533485",
   "metadata": {},
   "outputs": [
    {
     "data": {
      "text/plain": [
       "True"
      ]
     },
     "execution_count": 47,
     "metadata": {},
     "output_type": "execute_result"
    }
   ],
   "source": [
    "'word'.startswith('w')"
   ]
  },
  {
   "cell_type": "code",
   "execution_count": 48,
   "id": "461a0838-3781-4305-880f-3471b399eb00",
   "metadata": {},
   "outputs": [
    {
     "data": {
      "text/plain": [
       "False"
      ]
     },
     "execution_count": 48,
     "metadata": {},
     "output_type": "execute_result"
    }
   ],
   "source": [
    "','.isalpha()"
   ]
  },
  {
   "cell_type": "code",
   "execution_count": 49,
   "id": "d8874097-5c9a-4381-bc2b-1b36827550c3",
   "metadata": {},
   "outputs": [
    {
     "data": {
      "text/plain": [
       "['uncomfortableness',\n",
       " 'comfortableness',\n",
       " 'intolerableness',\n",
       " 'immutableness',\n",
       " 'indomitableness',\n",
       " 'reasonableness',\n",
       " 'indispensableness',\n",
       " 'indomitableness',\n",
       " 'honourableness',\n",
       " 'palpableness']"
      ]
     },
     "execution_count": 49,
     "metadata": {},
     "output_type": "execute_result"
    }
   ],
   "source": [
    "# text1에서 'ableness'로 끝나는 단어 반환\n",
    "[word for word in text1 if word.endswith('ableness')]"
   ]
  },
  {
   "cell_type": "code",
   "execution_count": null,
   "id": "451846de-1a2e-43cb-9b1b-7f70465447db",
   "metadata": {},
   "outputs": [],
   "source": [
    "# text3 대문자로 시작하는 단어들 중에 길이가 3이상인 단어 -> 중복없이 뽑자 -> 대문자로 변환\n",
    "[word for word in text3 if word.istitle() and len(word)>=3] # The THE"
   ]
  },
  {
   "cell_type": "code",
   "execution_count": null,
   "id": "9cbd8096-9fb1-4457-84b8-7f508ef5bab4",
   "metadata": {},
   "outputs": [],
   "source": [
    "# text4에서 알파벳인 단어 중, 길이가 4개 이상이고, 빈도수가 5 이상인 단어의 길이 반환\n",
    "['apple'] => [5]\n",
    "\n",
    "[word for word in text4 if word.fdist and len(word)>=4]"
   ]
  },
  {
   "cell_type": "code",
   "execution_count": null,
   "id": "5ff42b69-14b9-4173-a1a9-d90140e7f9ea",
   "metadata": {},
   "outputs": [],
   "source": [
    "[len(word) for (word, count) in fdist4.items()\\\n",
    "             if len(word) >= 4) and (count >= 5)] # a:b"
   ]
  },
  {
   "cell_type": "markdown",
   "id": "ff1ecb97-879a-4df5-970c-fe8873d5d666",
   "metadata": {},
   "source": [
    "### 리스트, 스트링\n",
    "- str.split()\n",
    "- join()"
   ]
  },
  {
   "cell_type": "code",
   "execution_count": 54,
   "id": "6be08959-1e73-48f9-9932-c17544cc8a68",
   "metadata": {},
   "outputs": [
    {
     "data": {
      "text/plain": [
       "['I', ' am', ' thirsty']"
      ]
     },
     "execution_count": 54,
     "metadata": {},
     "output_type": "execute_result"
    }
   ],
   "source": [
    "sent = 'I, am, thirsty'\n",
    "['I', 'am', 'thirsty'] # tokens\n",
    "\n",
    "sent.split(',') #strip()"
   ]
  },
  {
   "cell_type": "code",
   "execution_count": 2,
   "id": "19fd463b-3d16-4a45-a921-a79f9e01ce9f",
   "metadata": {},
   "outputs": [
    {
     "ename": "NameError",
     "evalue": "name 'sent' is not defined",
     "output_type": "error",
     "traceback": [
      "\u001b[0;31m---------------------------------------------------------------------------\u001b[0m",
      "\u001b[0;31mNameError\u001b[0m                                 Traceback (most recent call last)",
      "\u001b[0;32m/var/folders/54/cstf0sh546x4t7shxfb0nv780000gn/T/ipykernel_20160/3954595851.py\u001b[0m in \u001b[0;36m<module>\u001b[0;34m\u001b[0m\n\u001b[0;32m----> 1\u001b[0;31m \u001b[0mtokens\u001b[0m \u001b[0;34m=\u001b[0m \u001b[0msent\u001b[0m\u001b[0;34m.\u001b[0m\u001b[0msplit\u001b[0m\u001b[0;34m(\u001b[0m\u001b[0;34m','\u001b[0m\u001b[0;34m)\u001b[0m\u001b[0;34m\u001b[0m\u001b[0;34m\u001b[0m\u001b[0m\n\u001b[0m\u001b[1;32m      2\u001b[0m \u001b[0mtokens\u001b[0m\u001b[0;34m\u001b[0m\u001b[0;34m\u001b[0m\u001b[0m\n",
      "\u001b[0;31mNameError\u001b[0m: name 'sent' is not defined"
     ]
    }
   ],
   "source": [
    "tokens = sent.split(',')\n",
    "tokens"
   ]
  },
  {
   "cell_type": "code",
   "execution_count": 3,
   "id": "885856ca-8d1b-496c-b6df-883952024371",
   "metadata": {},
   "outputs": [
    {
     "ename": "NameError",
     "evalue": "name 'tokens' is not defined",
     "output_type": "error",
     "traceback": [
      "\u001b[0;31m---------------------------------------------------------------------------\u001b[0m",
      "\u001b[0;31mNameError\u001b[0m                                 Traceback (most recent call last)",
      "\u001b[0;32m/var/folders/54/cstf0sh546x4t7shxfb0nv780000gn/T/ipykernel_20160/2388011208.py\u001b[0m in \u001b[0;36m<module>\u001b[0;34m\u001b[0m\n\u001b[0;32m----> 1\u001b[0;31m \u001b[0;34m[\u001b[0m\u001b[0mword\u001b[0m\u001b[0;34m.\u001b[0m\u001b[0mlstrip\u001b[0m\u001b[0;34m(\u001b[0m\u001b[0;34m)\u001b[0m \u001b[0;32mfor\u001b[0m \u001b[0mword\u001b[0m \u001b[0;32min\u001b[0m \u001b[0mtokens\u001b[0m\u001b[0;34m]\u001b[0m\u001b[0;34m\u001b[0m\u001b[0;34m\u001b[0m\u001b[0m\n\u001b[0m",
      "\u001b[0;31mNameError\u001b[0m: name 'tokens' is not defined"
     ]
    }
   ],
   "source": [
    "[word.lstrip() for word in tokens]"
   ]
  },
  {
   "cell_type": "markdown",
   "id": "297521c1-6853-4f1d-ac45-015019bd290a",
   "metadata": {},
   "source": [
    "### 반복문\n",
    "- '[word for word in text1]'\n",
    "- 자료구조를 순회할 때 사용함.\n",
    "- 정해진 동작을 반복적으로 수행할 때 내리는 명령어\n",
    "- 시작조건, 종료조건, 수행명령으로 구성됨\n",
    "- for 요소 in 반복범위:수행명령\n",
    "\n",
    "- for, while\n",
    "- 들여쓰기, 블록 => 논리구조\n",
    "- 무한루프가 되지 않도록 주의할 것"
   ]
  },
  {
   "cell_type": "code",
   "execution_count": 55,
   "id": "53a91ed7-22f0-49b7-9bdd-ccf8b0a1b68a",
   "metadata": {},
   "outputs": [
    {
     "data": {
      "text/plain": [
       "True"
      ]
     },
     "execution_count": 55,
     "metadata": {},
     "output_type": "execute_result"
    }
   ],
   "source": [
    "import nltk\n",
    "from nltk.book import *\n",
    "nltk.download('book', quiet=True)"
   ]
  },
  {
   "cell_type": "code",
   "execution_count": 56,
   "id": "95175d36-b50d-48c3-8c55-e6ae77907f4a",
   "metadata": {},
   "outputs": [
    {
     "name": "stdout",
     "output_type": "stream",
     "text": [
      "[\n",
      "M\n",
      "D\n",
      "b\n",
      "H\n",
      "M\n",
      "1\n",
      "]\n",
      "E\n",
      ".\n"
     ]
    }
   ],
   "source": [
    "# [word for word in text1]\n",
    "for word in text1[:10]:\n",
    "    print(word[0])"
   ]
  },
  {
   "cell_type": "code",
   "execution_count": 57,
   "id": "38edaf93-ae1d-4fce-a083-a30be773943f",
   "metadata": {},
   "outputs": [
    {
     "data": {
      "text/plain": [
       "['[',\n",
       " 'Moby',\n",
       " 'Dick',\n",
       " 'by',\n",
       " 'Herman',\n",
       " 'Melville',\n",
       " '1851',\n",
       " ']',\n",
       " 'ETYMOLOGY',\n",
       " '.']"
      ]
     },
     "execution_count": 57,
     "metadata": {},
     "output_type": "execute_result"
    }
   ],
   "source": [
    "[word for word in text1[:10]]"
   ]
  },
  {
   "cell_type": "code",
   "execution_count": 58,
   "id": "6f154e03-f3bb-4940-9dd8-eec62360fb5d",
   "metadata": {},
   "outputs": [
    {
     "name": "stdout",
     "output_type": "stream",
     "text": [
      "a\n",
      "b\n",
      "c\n"
     ]
    }
   ],
   "source": [
    "alphabet = ['a', 'b', 'c']\n",
    "for w in alphabet:\n",
    "    print(w)"
   ]
  },
  {
   "cell_type": "code",
   "execution_count": 59,
   "id": "fd1bc5cf-d178-4985-bf68-a08538349ab4",
   "metadata": {},
   "outputs": [
    {
     "name": "stdout",
     "output_type": "stream",
     "text": [
      "1\n",
      "3\n",
      "5\n",
      "7\n",
      "9\n"
     ]
    }
   ],
   "source": [
    "#숫자 반복: range(start, end, step)\n",
    "for i in range(1, 10, 2):\n",
    "    print(i)"
   ]
  },
  {
   "cell_type": "code",
   "execution_count": 60,
   "id": "b4866b78-1f8a-44ea-a139-5da851e79229",
   "metadata": {},
   "outputs": [
    {
     "ename": "SyntaxError",
     "evalue": "invalid syntax (1556707468.py, line 2)",
     "output_type": "error",
     "traceback": [
      "\u001b[0;36m  File \u001b[0;32m\"/var/folders/54/cstf0sh546x4t7shxfb0nv780000gn/T/ipykernel_1513/1556707468.py\"\u001b[0;36m, line \u001b[0;32m2\u001b[0m\n\u001b[0;31m    10만, 20만, 24만, ...,\u001b[0m\n\u001b[0m      ^\u001b[0m\n\u001b[0;31mSyntaxError\u001b[0m\u001b[0;31m:\u001b[0m invalid syntax\n"
     ]
    }
   ],
   "source": [
    "# text1-9 각 텍스트의 단어 수를 반환\n",
    "# 10만, 20만, 24만, ...,\n",
    "\n",
    "a = text1.count\n",
    "b = text2.count\n",
    "c = text3.count\n",
    "d = text4.count\n",
    "\n",
    "for i in range(1,3000000):\n",
    "    print(i)\n"
   ]
  },
  {
   "cell_type": "markdown",
   "id": "3a704929-9e85-48f9-afda-1dbb6d552870",
   "metadata": {},
   "source": [
    "### 출력 포매팅\n",
    "- 1. f'str .... {var}'\n",
    "    - f, F 둘다 가능\n",
    "- 2. % # 옛날 방식\n",
    "    - '... %s ' %var\n",
    "- 3. ' ....{}'.format(var)"
   ]
  },
  {
   "cell_type": "code",
   "execution_count": 62,
   "id": "a8e478cf-1ae2-4f8c-bf15-697415a6d8a7",
   "metadata": {},
   "outputs": [],
   "source": [
    "name = 'lee'\n",
    "#print('My name is ###')"
   ]
  },
  {
   "cell_type": "code",
   "execution_count": 63,
   "id": "96205ad8-129c-49b6-b6f2-ab5bba10e5ac",
   "metadata": {},
   "outputs": [
    {
     "name": "stdout",
     "output_type": "stream",
     "text": [
      "My name is lee\n"
     ]
    }
   ],
   "source": [
    "print('My name is', name)"
   ]
  },
  {
   "cell_type": "code",
   "execution_count": 64,
   "id": "e68f4bc3-6e6b-4e6c-a497-111dfa67cb09",
   "metadata": {},
   "outputs": [
    {
     "name": "stdout",
     "output_type": "stream",
     "text": [
      "My name is lee\n"
     ]
    }
   ],
   "source": [
    "print(f'My name is {name}')"
   ]
  },
  {
   "cell_type": "code",
   "execution_count": 66,
   "id": "86a0f98e-229e-4ac3-a954-dc6688e8d0c2",
   "metadata": {},
   "outputs": [
    {
     "name": "stdout",
     "output_type": "stream",
     "text": [
      "My name is lee\n"
     ]
    }
   ],
   "source": [
    "print('My name is %s' %name)"
   ]
  },
  {
   "cell_type": "code",
   "execution_count": 67,
   "id": "818b3e45-6622-4233-83a8-9eecc31736b8",
   "metadata": {},
   "outputs": [
    {
     "ename": "NameError",
     "evalue": "name 'age' is not defined",
     "output_type": "error",
     "traceback": [
      "\u001b[0;31m---------------------------------------------------------------------------\u001b[0m",
      "\u001b[0;31mNameError\u001b[0m                                 Traceback (most recent call last)",
      "\u001b[0;32m/var/folders/54/cstf0sh546x4t7shxfb0nv780000gn/T/ipykernel_1513/19436999.py\u001b[0m in \u001b[0;36m<module>\u001b[0;34m\u001b[0m\n\u001b[0;32m----> 1\u001b[0;31m \u001b[0mprint\u001b[0m\u001b[0;34m(\u001b[0m\u001b[0;34mf'My name is {name}, and I am {age} years old.'\u001b[0m\u001b[0;34m)\u001b[0m\u001b[0;34m\u001b[0m\u001b[0;34m\u001b[0m\u001b[0m\n\u001b[0m",
      "\u001b[0;31mNameError\u001b[0m: name 'age' is not defined"
     ]
    }
   ],
   "source": [
    "print(f'My name is {name}, and I am {age} years old.')"
   ]
  },
  {
   "cell_type": "code",
   "execution_count": null,
   "id": "410cf144-8a7c-46e6-9eb2-1f5e386a9c70",
   "metadata": {},
   "outputs": [],
   "source": []
  }
 ],
 "metadata": {
  "kernelspec": {
   "display_name": "Python 3 (ipykernel)",
   "language": "python",
   "name": "python3"
  },
  "language_info": {
   "codemirror_mode": {
    "name": "ipython",
    "version": 3
   },
   "file_extension": ".py",
   "mimetype": "text/x-python",
   "name": "python",
   "nbconvert_exporter": "python",
   "pygments_lexer": "ipython3",
   "version": "3.9.7"
  }
 },
 "nbformat": 4,
 "nbformat_minor": 5
}
