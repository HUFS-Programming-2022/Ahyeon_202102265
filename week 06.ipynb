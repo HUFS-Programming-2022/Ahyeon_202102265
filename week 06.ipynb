{
 "cells": [
  {
   "cell_type": "markdown",
   "id": "0bf61b8f-4b85-47f3-8a96-51633cc9b8e5",
   "metadata": {},
   "source": [
    "### 함수 \n",
    "1. 정의\n",
    "2. 인수\n",
    "3. 호출 방식"
   ]
  },
  {
   "cell_type": "markdown",
   "id": "630cc52b-2261-49af-b3d1-dfae0be00c5c",
   "metadata": {
    "tags": []
   },
   "source": [
    "#### 1. 정의\n",
    "- 코드의 덩어리, 코드의 묶음\n",
    "- 간편하게 재사용을 위해, 한 줄로 재사용이 가능하다.\n",
    "- 정의(define) 부분 + 호출(call) 부분 \n",
    "    - 정의하기\n",
    "    def 함수이름(매개변수1, 2, 3, ...):\n",
    "        수행문1 (매개변수를 이용)\n",
    "        수행문2\n",
    "        ....\n",
    "        return 반환값\n",
    "    - 호출하기\n",
    "    함수이름 (인수1, 2, 3, ...)\n",
    "- 2 * 2 = 4\n",
    "    1. 둘다 없는\n",
    "    2. 둘다 있는\n",
    "    3. 매개변수만 있는\n",
    "    4. 반환값만 있는"
   ]
  },
  {
   "cell_type": "code",
   "execution_count": 5,
   "id": "ca409d8b-e97f-4581-8d79-9bebe590a8ca",
   "metadata": {
    "tags": []
   },
   "outputs": [
    {
     "data": {
      "text/plain": [
       "5"
      ]
     },
     "execution_count": 5,
     "metadata": {},
     "output_type": "execute_result"
    }
   ],
   "source": [
    "# y = x + 1  # x=매개변수, y= 반환값 x+1 수행문\n",
    "\n",
    "def ex(x): #2. 둘 다 있는 케이스\n",
    "    #y = x + 1\n",
    "    return x + 1\n",
    "\n",
    "ex(4)"
   ]
  },
  {
   "cell_type": "code",
   "execution_count": 6,
   "id": "22b1dd47-c506-40f2-97b9-d0a8c547579d",
   "metadata": {},
   "outputs": [
    {
     "name": "stdout",
     "output_type": "stream",
     "text": [
      "quack\n"
     ]
    }
   ],
   "source": [
    "#1.\n",
    "def make_a_sound():\n",
    "    print('quack')\n",
    "    #return None\n",
    "    \n",
    "make_a_sound()"
   ]
  },
  {
   "cell_type": "code",
   "execution_count": 8,
   "id": "48274a6a-bda1-4014-be3d-6d3a92d0141b",
   "metadata": {},
   "outputs": [
    {
     "name": "stdout",
     "output_type": "stream",
     "text": [
      "yay\n"
     ]
    }
   ],
   "source": [
    "#3. \n",
    "def make_a_sound(sound):\n",
    "    print(sound)\n",
    "    \n",
    "make_a_sound('yay')"
   ]
  },
  {
   "cell_type": "code",
   "execution_count": 5,
   "id": "7472533b-2946-4e4b-97cf-29fa4839b017",
   "metadata": {},
   "outputs": [
    {
     "name": "stdout",
     "output_type": "stream",
     "text": [
      "unexpected!\n"
     ]
    }
   ],
   "source": [
    "#4.\n",
    "def agree():\n",
    "    return False \n",
    "\n",
    "if agree():\n",
    "    print('Splendid')\n",
    "else:\n",
    "    print('unexpected!')"
   ]
  },
  {
   "cell_type": "code",
   "execution_count": 6,
   "id": "a21e7a8a-1a3d-4218-905b-472e1b1e6450",
   "metadata": {},
   "outputs": [
    {
     "data": {
      "text/plain": [
       "False"
      ]
     },
     "execution_count": 6,
     "metadata": {},
     "output_type": "execute_result"
    }
   ],
   "source": [
    "def agree():\n",
    "    return False\n",
    "agree()"
   ]
  },
  {
   "cell_type": "markdown",
   "id": "a7dcced6-37ae-4de6-b0fa-fd29036817d0",
   "metadata": {},
   "source": [
    "- 이름 짓기\n",
    "    - 소문자만 사용한다\n",
    "        - splitword???\n",
    "        - split_word\n",
    "    - 동작과 관련되어 있기 때문에 \"동사+명사\"의 형태 주로 씀\n",
    "    - i.e., 클래스는 명사 def split_word(): (x)\n",
    "    - 줄임말 쓰지 말 것, calc_xxxx()\n",
    "        - splt_word (x) calculate -> calc"
   ]
  },
  {
   "cell_type": "markdown",
   "id": "9b9a7abe-202a-43a9-bdfc-5279b2229814",
   "metadata": {},
   "source": [
    "#### 2. 인수\n",
    "- 매개변수 vs. 인수\n",
    "    - 매개변수: 함수 내(\"인터페이스\")에서만 유효한 변수\n",
    "    - 인수: 실제 매개변수에 대입되는 변수\n",
    "    - \"호출 시에 인수가 매개변수에 복제된다\" yay -> sound\n",
    "- 위치 인수\n",
    "    - positional argument\n",
    "    - 매개변수를 값에 순서에 상응하게 복제한다\n",
    "- 키워드 인수\n",
    "    - keyword argument\n",
    "    - 매개변수 키워드에 맞는 인수로 지정. => 위치 달라도 됨\n",
    "- 디폴트 인수\n",
    "    - default argument\n",
    "    - 매개변수를 정의할 때 값을 미리 지정해 놓는 것\n",
    "    - 호출 시에 값이 입력되지 않으면 디폴트값을 시용한다.\n",
    "    - 단, 디폴트 값이 언디폴트값 앖에 위치할 수는 없음. 디폴트 값이 뒤로 와야 한다."
   ]
  },
  {
   "cell_type": "code",
   "execution_count": 9,
   "id": "2c853744-d2f3-4f8b-aeae-8db85e4eddd9",
   "metadata": {},
   "outputs": [
    {
     "name": "stdout",
     "output_type": "stream",
     "text": [
      "yay\n"
     ]
    }
   ],
   "source": [
    "def make_a_sound(sound): # sound = 매개변수, yay = 인수\n",
    "    print(sound)\n",
    "    \n",
    "yay = 'yay'\n",
    "    \n",
    "make_a_sound('yay')"
   ]
  },
  {
   "cell_type": "code",
   "execution_count": 13,
   "id": "bee39f6c-e2cd-47f3-9d9e-8f2131f4a058",
   "metadata": {},
   "outputs": [
    {
     "data": {
      "text/plain": [
       "'black'"
      ]
     },
     "execution_count": 13,
     "metadata": {},
     "output_type": "execute_result"
    }
   ],
   "source": [
    "def commentary(color):\n",
    "    if color == 'g':\n",
    "        return 'green'\n",
    "    else:\n",
    "        return 'black'\n",
    "    \n",
    "color = 'white'\n",
    "commentary(color)"
   ]
  },
  {
   "cell_type": "code",
   "execution_count": 12,
   "id": "a0ebe864-d2f3-4d03-ae54-1355a9958352",
   "metadata": {},
   "outputs": [
    {
     "name": "stdout",
     "output_type": "stream",
     "text": [
      "green\n",
      "black\n",
      "black\n"
     ]
    }
   ],
   "source": [
    "colors = ['g', 'b', 't']\n",
    "\n",
    "for color in colors:\n",
    "    print(commentary(color))"
   ]
  },
  {
   "cell_type": "code",
   "execution_count": 13,
   "id": "955d3cfe-b693-45e4-b56a-1d993acf5a91",
   "metadata": {},
   "outputs": [
    {
     "data": {
      "text/plain": [
       "{'wine': 'a', 'entree': 'b', 'dessert': 'c'}"
      ]
     },
     "execution_count": 13,
     "metadata": {},
     "output_type": "execute_result"
    }
   ],
   "source": [
    "# 위치 인수\n",
    "def menu(wine, entree, dessert):\n",
    "    return {'wine':wine, 'entree':entree, 'dessert':dessert}\n",
    "\n",
    "menu('a', 'b', 'c')"
   ]
  },
  {
   "cell_type": "code",
   "execution_count": 14,
   "id": "571877ac-b6d6-4aaa-9cc3-17589edbc900",
   "metadata": {},
   "outputs": [
    {
     "data": {
      "text/plain": [
       "{'wine': 'c', 'entree': 'a', 'dessert': 'b'}"
      ]
     },
     "execution_count": 14,
     "metadata": {},
     "output_type": "execute_result"
    }
   ],
   "source": [
    "# 키워드 인수\n",
    "menu(entree='a', dessert='b', wine='c')"
   ]
  },
  {
   "cell_type": "code",
   "execution_count": 17,
   "id": "c467240b-75bf-4614-9786-870f6fc67ab5",
   "metadata": {},
   "outputs": [
    {
     "data": {
      "text/plain": [
       "{'wine': 'rioja', 'entree': 'egg', 'dessert': 'strawberry'}"
      ]
     },
     "execution_count": 17,
     "metadata": {},
     "output_type": "execute_result"
    }
   ],
   "source": [
    "# 디폴트 인수\n",
    "def menu2(wine, entree, dessert='strawberry'):\n",
    "    return {'wine':wine, 'entree':entree, 'dessert':dessert}\n",
    "\n",
    "menu2('rioja', 'egg')"
   ]
  },
  {
   "cell_type": "code",
   "execution_count": 18,
   "id": "0c814eef-ed4d-4d80-b701-4d3bf377d8f2",
   "metadata": {},
   "outputs": [
    {
     "data": {
      "text/plain": [
       "{'wine': 'rioja', 'entree': 'egg', 'dessert': 'kiwi'}"
      ]
     },
     "execution_count": 18,
     "metadata": {},
     "output_type": "execute_result"
    }
   ],
   "source": [
    "menu2('rioja', 'egg', 'kiwi')"
   ]
  },
  {
   "cell_type": "markdown",
   "id": "a149a814-8900-4fd3-900e-d1b7773fa35c",
   "metadata": {},
   "source": [
    "#### 3. 호출방식\n",
    "- 정의 부분은 호출 시 실행된다.\n",
    "- 메모리에 저장되어 있다가 호출 시에 사용이 되는 방식\n",
    "- 매개변수 vs. 인수\n",
    "    - 창조에 의한 호출(call by reference)\n",
    "    - \"매개변수 = 인수\" copy되기 때문에 나타나는 문제점\n",
    "        - 리스트처럼 가변 객체일 때 주소값을 공유하므로 값이 변함."
   ]
  },
  {
   "cell_type": "code",
   "execution_count": 43,
   "id": "85990df0-ffbc-440d-8502-3d593ff1b2cd",
   "metadata": {},
   "outputs": [
    {
     "name": "stdout",
     "output_type": "stream",
     "text": [
      "2\n",
      "3\n",
      "1\n",
      "4\n"
     ]
    }
   ],
   "source": [
    "def multiply (x, y):\n",
    "    print('1')\n",
    "    return x * y\n",
    "\n",
    "print('2')\n",
    "i = 2\n",
    "j = 4\n",
    "\n",
    "print('3')\n",
    "multiply(i, j)  #### i=2, j=4 -> x=i, y=j -> copy\n",
    "\n",
    "print('4')"
   ]
  },
  {
   "cell_type": "code",
   "execution_count": 22,
   "id": "55687eaf-32aa-46f0-9b9c-c49758429587",
   "metadata": {},
   "outputs": [
    {
     "name": "stdout",
     "output_type": "stream",
     "text": [
      "[2, 3, 'a']\n",
      "[2, 3, 'b']\n"
     ]
    }
   ],
   "source": [
    "def buggy(arg, result=[]):\n",
    "    result = [2, 3] # 빈 객체를 설정을 해 줘야 리셋이 된다. \n",
    "    result.append(arg)\n",
    "    print (result)\n",
    "    \n",
    "    \n",
    "    \n",
    "a, b = 'a', 'b'\n",
    "buggy(a) #['a']\n",
    "buggy(b) #['b']"
   ]
  },
  {
   "cell_type": "code",
   "execution_count": 29,
   "id": "c1a507c5-8e95-4e57-a57c-7c3b594d65fb",
   "metadata": {},
   "outputs": [
    {
     "name": "stdout",
     "output_type": "stream",
     "text": [
      "['c', 'a']\n",
      "['c', 'a', 'b']\n"
     ]
    }
   ],
   "source": [
    "# 둘다 조건식으로 포함하는 함수로 변경하기 \n",
    "\n",
    "def nonbuggy(arg, result=None):\n",
    "    # 리스트 없으면 빈 리스트 생성하고, 있으면 그거 써라. \n",
    "    if result is None: # ==(value만 같으면 같은 것), is(id까지 같은 것이다)\n",
    "        result = []\n",
    "        \n",
    "    result.append(arg)\n",
    "    print (result)\n",
    "    \n",
    "# \"없는 값, 아무것도 없다\" None\n",
    "empty = ['c']\n",
    "nonbuggy(a, empty)\n",
    "nonbuggy(b, empty)\n",
    "# 이렇게 하면 점점 쌓이는 형태로 변한다. "
   ]
  },
  {
   "cell_type": "code",
   "execution_count": 26,
   "id": "8cc439a6-16d2-47ad-b66a-bbf330027dce",
   "metadata": {},
   "outputs": [
    {
     "name": "stdout",
     "output_type": "stream",
     "text": [
      "None\n"
     ]
    }
   ],
   "source": [
    "thing = None\n",
    "if thing:\n",
    "    print('True')\n",
    "elif thing == False: #False\n",
    "    print('False')\n",
    "else:\n",
    "    print('None')"
   ]
  },
  {
   "cell_type": "code",
   "execution_count": 30,
   "id": "4384d7c6-d755-44b1-ab77-f391c7c1bbcc",
   "metadata": {},
   "outputs": [
    {
     "name": "stdout",
     "output_type": "stream",
     "text": [
      "london\n",
      "london == london?\n"
     ]
    }
   ],
   "source": [
    "def fx():\n",
    "    global city # 전역 변수\n",
    "    city = 'london' # 지역 변수\n",
    "    print(city)\n",
    "    \n",
    "city = 'paris'\n",
    "fx() # city = london\n",
    "print(city, '== london?')"
   ]
  },
  {
   "cell_type": "code",
   "execution_count": 31,
   "id": "259ac84f-b4df-4bff-a750-a876bdd08369",
   "metadata": {},
   "outputs": [
    {
     "data": {
      "text/plain": [
       "'seoul'"
      ]
     },
     "execution_count": 31,
     "metadata": {},
     "output_type": "execute_result"
    }
   ],
   "source": [
    "city = 'seoul'\n",
    "city"
   ]
  },
  {
   "cell_type": "markdown",
   "id": "72f9a954-42fc-4a3d-b47f-812502d46ff9",
   "metadata": {},
   "source": [
    "#### doc string\n",
    "- 함수 설명\n",
    "- 매개변수 타입, 의미, 함수 기능\n",
    "- \"\"\"\n",
    "    독스트링\n",
    "\"\"\""
   ]
  },
  {
   "cell_type": "code",
   "execution_count": null,
   "id": "22cadb49-90fd-413f-a3df-260752f39e8e",
   "metadata": {},
   "outputs": [],
   "source": [
    "def nonbuggy(arg, result=None):\n",
    "    \"\"\"\n",
    "    arg: str, 꽃 이름\n",
    "    result: list, xxxxx\n",
    "    꽃 이름을 리스트에 추가한다. \n",
    "    \"\"\"\n",
    "    if result is None:\n",
    "        result = []\n",
    "        \n",
    "    result.append(arg)\n",
    "    print (result)"
   ]
  },
  {
   "cell_type": "code",
   "execution_count": 34,
   "id": "c0b189ee-c201-4fc3-8604-56367e77bfb2",
   "metadata": {},
   "outputs": [
    {
     "name": "stdout",
     "output_type": "stream",
     "text": [
      "Help on function buggy in module __main__:\n",
      "\n",
      "buggy(arg, result=[])\n",
      "\n"
     ]
    }
   ],
   "source": [
    "# 독스트링 확인하고 싶을 때 \n",
    "help(buggy)"
   ]
  },
  {
   "cell_type": "code",
   "execution_count": 33,
   "id": "7bbf723a-2ec2-4a25-8c01-ffdad7a8627b",
   "metadata": {},
   "outputs": [],
   "source": [
    "buggy.__doc__"
   ]
  },
  {
   "cell_type": "markdown",
   "id": "d4a67240-a1d7-49c0-8f05-b48328258a31",
   "metadata": {},
   "source": [
    "#### ex. \n",
    "- 나이 -> 연도\n",
    "- 함수: 입력값=나이, 반환=연도 (2022 - 나이 + 1)\n",
    "- 나이 = input 받기 "
   ]
  },
  {
   "cell_type": "code",
   "execution_count": 1,
   "id": "cc7cc9d6-8bfa-4705-8581-15978ebfe67c",
   "metadata": {},
   "outputs": [
    {
     "name": "stdin",
     "output_type": "stream",
     "text": [
      "나이를 입력해 주세요: 22\n"
     ]
    },
    {
     "name": "stdout",
     "output_type": "stream",
     "text": [
      "None\n"
     ]
    }
   ],
   "source": [
    "def age_to_year(age):\n",
    "    this_year = 2022\n",
    "    year = this_year - age + 1\n",
    "    \n",
    "age= int(input(\"나이를 입력해 주세요:\"))\n",
    "print(age_to_year(age))\n"
   ]
  },
  {
   "cell_type": "code",
   "execution_count": null,
   "id": "cc79110a-e689-4d70-9133-e8a6ed2768ec",
   "metadata": {},
   "outputs": [],
   "source": [
    "calc_birthday\n",
    "age_to_year\n",
    "convert_year\n",
    "get_year"
   ]
  },
  {
   "cell_type": "markdown",
   "id": "e8f85cb5-0317-4edd-953d-7f027eea5932",
   "metadata": {},
   "source": [
    "### 브라운 정제하기 \n",
    "1. 문장 분적\n",
    "2. 단어 분절\n",
    "    3. 문장부호 제거\n",
    "    4. 하이픈, 's\n",
    "5. 위의 것을 함수로 만들어라"
   ]
  },
  {
   "cell_type": "code",
   "execution_count": 3,
   "id": "3abd6676-372f-498d-a48f-ce86232a0486",
   "metadata": {
    "collapsed": true,
    "jupyter": {
     "outputs_hidden": true
    },
    "tags": []
   },
   "outputs": [
    {
     "name": "stderr",
     "output_type": "stream",
     "text": [
      "[nltk_data] Downloading package brown to\n",
      "[nltk_data]     /Users/ahyeonyoun/nltk_data...\n",
      "[nltk_data]   Package brown is already up-to-date!\n"
     ]
    },
    {
     "data": {
      "text/plain": [
       "\"\\n\\n\\tThey/ppss neither/cc liked/vbd nor/cc disliked/vbd the/at Old/jj-tl Man/nn-tl ./.\\nTo/in them/ppo he/pps could/md have/hv been/ben the/at broken/vbn bell/nn in/in the/at church/nn tower/nn which/wdt rang/vbd before/in and/cc after/in Mass/nn-tl ,/, and/cc at/in noon/nn ,/, and/cc at/in six/cd each/dt evening/nn --/-- its/pp$ tone/nn ,/, repetitive/jj ,/, monotonous/jj ,/, never/rb breaking/vbg the/at boredom/nn of/in the/at streets/nns ./.\\nThe/at Old/jj-tl Man/nn-tl was/bedz unimportant/jj ./.\\n\\n\\n\\tYet/rb if/cs he/pps were/bed not/* there/rb ,/, they/ppss would/md have/hv missed/vbn him/ppo ,/, as/cs they/ppss would/md have/hv missed/vbn the/at sounds/nns of/in bees/nns buzzing/vbg against/in the/at screen/nn door/nn in/in early/jj June/np ;/. ;/.\\nor/cc the/at smell/nn of/in thick/jj tomato/nn paste/nn --/-- the/at ripe/jj smell/nn that/wps was/bedz both/abx sweet/jj and/cc sour/jj --/-- rising/vbg up/rp from/in aluminum/nn trays/nns wrapped/vbn in/in fly-dotted/jj cheesecloth/nn ./.\\nOr/cc the/at surging/vbg whirling/vbg sounds/nns of/in bats/nns at/in night/nn ,/, when/wrb their/pp$ black/jj bodies/nns dived/vbd into/in the/at blackness/nn above/in and/cc below/in the/at amber/jj street/nn lights/nns ./.\\nOr/cc the/at bay/nn of/in female/nn dogs/nns in/in heat/nn ./.\\n\\n\\n\\tThey/ppss never/rb called/vbd him/ppo by/in name/nn ,/, although/cs he/pps had/hvd one/pn ./.\\nFilippo/np Rossi/np ,/, that's/dt+bez what/wdt he/pps was/bedz called/vbn in/in the/at old/jj country/nn ;/. ;/.\\nbut/cc here/rb he/pps was/bedz just/rb Signore/np or/cc the/at Old/jj-tl Man/nn-tl ./.\\nBut/cc this/dt was/bedz not/* unusual/jj ,/, because/cs youth/nn in/in these/dts quarters/nns was/bedz always/rb pushed/vbn at/in a/at distance/nn from/in its/pp$ elders/nns ./.\\nYouth/nn obeyed/vbd when/wrb commanded/vbn ./.\\nIt/pps went/vbd to/in church/nn on/in Sunday/nr and/cc one/cd Saturday/nr a/at month/nn went/vbd to/in confession/nn ./.\\nBut/cc youth/nn asked/vbd nothing/pn of/in its/pp$ parents/nns --/-- not/* a/at touch/nn of/in the/at hand/nn or/cc a/at kiss/nn given/vbn in/in passing/vbg ./.\\n\\n\\n\\tThe/at only/ap thing/nn unusual/jj about/in the/at Old/jj-tl Man/nn-tl had/hvd long/jj since/rb happened/vbn ./.\\nBut/cc the/at past/nn was/bedz dead/jj here/rb as/cs the/at present/jj was/bedz dead/jj ./.\\nOnce/cs the/at Old/jj-tl Man/nn-tl had/hvd had/hvn a/at wife/nn ./.\\nAnd/cc once/cs she/pps ,/, too/rb ,/, ignored/vbd him/ppo ./.\\nWith/in a/at tiny/jj fur-piece/nn wrapped/vbd around/in her/pp$ shoulders/nns ,/, she/pps wiggled/vbd her/pp$ satin-covered/jj buttocks/nns down/in the/at street/nn before/in him/ppo and/cc didn't/dod* stop/vb ./.\\nIn/in one/cd hand/nn she/pps clutched/vbd a/at hundred/cd dollar/nn bill/nn and/cc in/in the/at other/ap a/at straw/nn suitcase/nn ./.\\nThe/at way/nn she/pps strutted/vbd down/in the/at street/nn ,/, the/at Old/jj-tl Man/nn-tl would/md have/hv been/ben blind/jj not/* to/to have/hv noticed/vbn both/abx ./.\\nWithout/in looking/vbg at/in him/ppo ,/, without/in looking/vbg at/in anything/pn except/in Drexel/np-tl Street/nn-tl directly/rb in/in front/nn of/in her/ppo ,/, she/pps climbed/vbd up/rp into/in one/cd of/in those/dts orange/jj streetcars/nns ,/, rode/vbd away/rb in/in it/ppo ,/, and/cc never/rb came/vbd back/rb ./.\\n\\n\\n\\t``/`` But/cc she/pps shouldn't/md* have/hv come/vbn here/rb in/in the/at first/od place/nn ''/'' ,/, the/at women/nns had/hvd said/vbn ./.\\n\\n\\n\\t``/`` No/rb ,/, no/rb ./.\\nNot/* that/dt one/pn ./.\\nShe/pps thought/vbd she/pps was/bedz bigger/jjr than/cs we/ppss are/ber because/cs she/pps came/vbd from/in Torino/np ''/'' ./.\\n\\n\\n\\t``/`` Eh/uh ,/, Torino/np !/. !/.\\nShe/pps gave/vbd herself/ppl fancy/jj airs/nns !/. !/.\\nJust/rb because/cs she/pps had/hvd a/at part/nn on/in the/at stage/nn in/in the/at old/jj country/nn ,/, she/pps thought/vbd she/pps could/md carry/vb her/pp$ head/nn higher/rbr than/cs ours/pp$$ ''/'' ./.\\nThey/ppss had/hvd slapped/vbn their/pp$ thighs/nns ./.\\n\\n\\n\\t``/`` It's/pps+bez not/* for/in making/vbg pretty/jj speeches/nns about/in Dante/np those/dts actresses/nns get/vb paid/vbn so/ql good/rb ''/'' ./.\\n\\n\\n\\t``/`` Henh/uh ''/'' !/. !/.\\nCalloused/vbn fingers/nns ,/, caressed/vbn only/rb by/in the/at smoothness/nn of/in polished/vbn rosaries/nns ,/, had/hvd swayed/vbn excitedly/rb beneath/in puckered/vbn chins/nns where/wrb tiny/jj black/jj hairs/nns sprouted/vbd ,/, never/rb to/to be/be tweezed/vbn away/rb ./.\\nMauve-colored/jj mouths/nns that/wps had/hvd never/rb known/vbn anything/pn sweeter/jjr than/cs the/at taste/nn of/in new/jj wine/nn and/cc the/at passion/nn of/in man's/nn$ tongue/nn had/hvd not/* smiled/vbn ,/, but/cc had/hvd condemned/vbn again/rb and/cc again/rb ./.\\n``/`` Puttana/fw-nn ''/'' !/. !/.\\n\\n\\n\\tBut/cc if/cs the/at Old/jj-tl Man/nn-tl even/rb thought/vbd about/in his/pp$ wife/nn now/rb ,/, nobody/pn cared/vbd a/at fig/nn ./.\\nIt/pps was/bedz enough/ap for/in people/nns to/to know/vb that/cs at/in one/cd time/nn he/pps had/hvd looked/vbn down/in the/at street/nn at/in the/at f\""
      ]
     },
     "execution_count": 3,
     "metadata": {},
     "output_type": "execute_result"
    }
   ],
   "source": [
    "import string #punct\n",
    "import nltk\n",
    "\n",
    "nltk.download('brown')\n",
    "brown = nltk.corpus.brown\n",
    "romance = brown.raw(categories='romance') [:5000]\n",
    "romance"
   ]
  },
  {
   "cell_type": "code",
   "execution_count": 5,
   "id": "a96d97d1-d483-439d-8737-26c55b3c03b1",
   "metadata": {},
   "outputs": [
    {
     "data": {
      "text/plain": [
       "['\\n\\n\\tThey/ppss neither/cc liked/vbd nor/cc disliked/vbd the/at Old/jj-tl Man/nn-tl ',\n",
       " '\\nTo/in them/ppo he/pps could/md have/hv been/ben the/at broken/vbn bell/nn in/in the/at church/nn tower/nn which/wdt rang/vbd before/in and/cc after/in Mass/nn-tl ,/, and/cc at/in noon/nn ,/, and/cc at/in six/cd each/dt evening/nn --/-- its/pp$ tone/nn ,/, repetitive/jj ,/, monotonous/jj ,/, never/rb breaking/vbg the/at boredom/nn of/in the/at streets/nns ',\n",
       " '\\nThe/at Old/jj-tl Man/nn-tl was/bedz unimportant/jj ',\n",
       " '\\n\\n\\n\\tYet/rb if/cs he/pps were/bed not/* there/rb ,/, they/ppss would/md have/hv missed/vbn him/ppo ,/, as/cs they/ppss would/md have/hv missed/vbn the/at sounds/nns of/in bees/nns buzzing/vbg against/in the/at screen/nn door/nn in/in early/jj June/np ;/. ;/.\\nor/cc the/at smell/nn of/in thick/jj tomato/nn paste/nn --/-- the/at ripe/jj smell/nn that/wps was/bedz both/abx sweet/jj and/cc sour/jj --/-- rising/vbg up/rp from/in aluminum/nn trays/nns wrapped/vbn in/in fly-dotted/jj cheesecloth/nn ',\n",
       " '\\nOr/cc the/at surging/vbg whirling/vbg sounds/nns of/in bats/nns at/in night/nn ,/, when/wrb their/pp$ black/jj bodies/nns dived/vbd into/in the/at blackness/nn above/in and/cc below/in the/at amber/jj street/nn lights/nns ',\n",
       " '\\nOr/cc the/at bay/nn of/in female/nn dogs/nns in/in heat/nn ',\n",
       " '\\n\\n\\n\\tThey/ppss never/rb called/vbd him/ppo by/in name/nn ,/, although/cs he/pps had/hvd one/pn ',\n",
       " \"\\nFilippo/np Rossi/np ,/, that's/dt+bez what/wdt he/pps was/bedz called/vbn in/in the/at old/jj country/nn ;/. ;/.\\nbut/cc here/rb he/pps was/bedz just/rb Signore/np or/cc the/at Old/jj-tl Man/nn-tl \",\n",
       " '\\nBut/cc this/dt was/bedz not/* unusual/jj ,/, because/cs youth/nn in/in these/dts quarters/nns was/bedz always/rb pushed/vbn at/in a/at distance/nn from/in its/pp$ elders/nns ',\n",
       " '\\nYouth/nn obeyed/vbd when/wrb commanded/vbn ',\n",
       " '\\nIt/pps went/vbd to/in church/nn on/in Sunday/nr and/cc one/cd Saturday/nr a/at month/nn went/vbd to/in confession/nn ',\n",
       " '\\nBut/cc youth/nn asked/vbd nothing/pn of/in its/pp$ parents/nns --/-- not/* a/at touch/nn of/in the/at hand/nn or/cc a/at kiss/nn given/vbn in/in passing/vbg ',\n",
       " '\\n\\n\\n\\tThe/at only/ap thing/nn unusual/jj about/in the/at Old/jj-tl Man/nn-tl had/hvd long/jj since/rb happened/vbn ',\n",
       " '\\nBut/cc the/at past/nn was/bedz dead/jj here/rb as/cs the/at present/jj was/bedz dead/jj ',\n",
       " '\\nOnce/cs the/at Old/jj-tl Man/nn-tl had/hvd had/hvn a/at wife/nn ',\n",
       " '\\nAnd/cc once/cs she/pps ,/, too/rb ,/, ignored/vbd him/ppo ',\n",
       " \"\\nWith/in a/at tiny/jj fur-piece/nn wrapped/vbd around/in her/pp$ shoulders/nns ,/, she/pps wiggled/vbd her/pp$ satin-covered/jj buttocks/nns down/in the/at street/nn before/in him/ppo and/cc didn't/dod* stop/vb \",\n",
       " '\\nIn/in one/cd hand/nn she/pps clutched/vbd a/at hundred/cd dollar/nn bill/nn and/cc in/in the/at other/ap a/at straw/nn suitcase/nn ',\n",
       " '\\nThe/at way/nn she/pps strutted/vbd down/in the/at street/nn ,/, the/at Old/jj-tl Man/nn-tl would/md have/hv been/ben blind/jj not/* to/to have/hv noticed/vbn both/abx ',\n",
       " '\\nWithout/in looking/vbg at/in him/ppo ,/, without/in looking/vbg at/in anything/pn except/in Drexel/np-tl Street/nn-tl directly/rb in/in front/nn of/in her/ppo ,/, she/pps climbed/vbd up/rp into/in one/cd of/in those/dts orange/jj streetcars/nns ,/, rode/vbd away/rb in/in it/ppo ,/, and/cc never/rb came/vbd back/rb ',\n",
       " \"\\n\\n\\n\\t``/`` But/cc she/pps shouldn't/md* have/hv come/vbn here/rb in/in the/at first/od place/nn ''/'' ,/, the/at women/nns had/hvd said/vbn \",\n",
       " '\\n\\n\\n\\t``/`` No/rb ,/, no/rb ',\n",
       " '\\nNot/* that/dt one/pn ',\n",
       " \"\\nShe/pps thought/vbd she/pps was/bedz bigger/jjr than/cs we/ppss are/ber because/cs she/pps came/vbd from/in Torino/np ''/'' \",\n",
       " \"\\n\\n\\n\\t``/`` Eh/uh ,/, Torino/np !/. !/.\\nShe/pps gave/vbd herself/ppl fancy/jj airs/nns !/. !/.\\nJust/rb because/cs she/pps had/hvd a/at part/nn on/in the/at stage/nn in/in the/at old/jj country/nn ,/, she/pps thought/vbd she/pps could/md carry/vb her/pp$ head/nn higher/rbr than/cs ours/pp$$ ''/'' \",\n",
       " '\\nThey/ppss had/hvd slapped/vbn their/pp$ thighs/nns ',\n",
       " \"\\n\\n\\n\\t``/`` It's/pps+bez not/* for/in making/vbg pretty/jj speeches/nns about/in Dante/np those/dts actresses/nns get/vb paid/vbn so/ql good/rb ''/'' \",\n",
       " \"\\n\\n\\n\\t``/`` Henh/uh ''/'' !/. !/.\\nCalloused/vbn fingers/nns ,/, caressed/vbn only/rb by/in the/at smoothness/nn of/in polished/vbn rosaries/nns ,/, had/hvd swayed/vbn excitedly/rb beneath/in puckered/vbn chins/nns where/wrb tiny/jj black/jj hairs/nns sprouted/vbd ,/, never/rb to/to be/be tweezed/vbn away/rb \",\n",
       " \"\\nMauve-colored/jj mouths/nns that/wps had/hvd never/rb known/vbn anything/pn sweeter/jjr than/cs the/at taste/nn of/in new/jj wine/nn and/cc the/at passion/nn of/in man's/nn$ tongue/nn had/hvd not/* smiled/vbn ,/, but/cc had/hvd condemned/vbn again/rb and/cc again/rb \",\n",
       " \"\\n``/`` Puttana/fw-nn ''/'' !/. !/.\\n\\n\\n\\tBut/cc if/cs the/at Old/jj-tl Man/nn-tl even/rb thought/vbd about/in his/pp$ wife/nn now/rb ,/, nobody/pn cared/vbd a/at fig/nn \",\n",
       " '\\nIt/pps was/bedz enough/ap for/in people/nns to/to know/vb that/cs at/in one/cd time/nn he/pps had/hvd looked/vbn down/in the/at street/nn at/in the/at f']"
      ]
     },
     "execution_count": 5,
     "metadata": {},
     "output_type": "execute_result"
    }
   ],
   "source": [
    "# ./.\n",
    "#/.\n",
    "#\\n\n",
    "romance.split('./.')\n"
   ]
  },
  {
   "cell_type": "markdown",
   "id": "f7e60e54-6705-4f45-8511-fee897fcd416",
   "metadata": {},
   "source": [
    "### 문장 분절"
   ]
  },
  {
   "cell_type": "code",
   "execution_count": 6,
   "id": "5ff709bc-7738-4998-b459-b69ca44f9d12",
   "metadata": {},
   "outputs": [
    {
     "data": {
      "text/plain": [
       "'They/ppss neither/cc liked/vbd nor/cc disliked/vbd the/at Old/jj-tl Man/nn-tl .'"
      ]
     },
     "execution_count": 6,
     "metadata": {},
     "output_type": "execute_result"
    }
   ],
   "source": [
    "sentences = [sent.strip() for sent in romance.split('/.')]\n",
    "sentences = [s for s in sentences if s != '!']\n",
    "\n",
    "sentences[0]"
   ]
  },
  {
   "cell_type": "code",
   "execution_count": 7,
   "id": "5365fe3c-f659-4e66-a59f-740b3b82366b",
   "metadata": {},
   "outputs": [
    {
     "data": {
      "text/plain": [
       "['``/`` Eh/uh ,/, Torino/np !',\n",
       " 'She/pps gave/vbd herself/ppl fancy/jj airs/nns !',\n",
       " \"``/`` Henh/uh ''/'' !\",\n",
       " \"``/`` Puttana/fw-nn ''/'' !\"]"
      ]
     },
     "execution_count": 7,
     "metadata": {},
     "output_type": "execute_result"
    }
   ],
   "source": [
    "[s for s in sentences if '!' in s if s != '!']"
   ]
  },
  {
   "cell_type": "markdown",
   "id": "eb408287-4feb-4c25-b386-396a59ef2afa",
   "metadata": {},
   "source": [
    "### 단어 분절\n",
    "- sentences -> POS 제거, 단어 분절"
   ]
  },
  {
   "cell_type": "code",
   "execution_count": 2,
   "id": "1a94883e-f5e3-4683-8b57-664d7046cb8f",
   "metadata": {},
   "outputs": [
    {
     "ename": "NameError",
     "evalue": "name 'sentences' is not defined",
     "output_type": "error",
     "traceback": [
      "\u001b[0;31m---------------------------------------------------------------------------\u001b[0m",
      "\u001b[0;31mNameError\u001b[0m                                 Traceback (most recent call last)",
      "\u001b[0;32m/var/folders/54/cstf0sh546x4t7shxfb0nv780000gn/T/ipykernel_19922/3278436122.py\u001b[0m in \u001b[0;36m<module>\u001b[0;34m\u001b[0m\n\u001b[0;32m----> 1\u001b[0;31m \u001b[0mexample\u001b[0m \u001b[0;34m=\u001b[0m \u001b[0msentences\u001b[0m\u001b[0;34m[\u001b[0m\u001b[0;36m0\u001b[0m\u001b[0;34m]\u001b[0m\u001b[0;34m\u001b[0m\u001b[0;34m\u001b[0m\u001b[0m\n\u001b[0m\u001b[1;32m      2\u001b[0m \u001b[0;34m[\u001b[0m\u001b[0mword\u001b[0m\u001b[0;34m[\u001b[0m\u001b[0;34m:\u001b[0m\u001b[0mword\u001b[0m\u001b[0;34m.\u001b[0m\u001b[0mfind\u001b[0m\u001b[0;34m(\u001b[0m\u001b[0;34m'/'\u001b[0m\u001b[0;34m)\u001b[0m\u001b[0;34m]\u001b[0m \u001b[0;32mif\u001b[0m \u001b[0mword\u001b[0m\u001b[0;34m[\u001b[0m\u001b[0;34m:\u001b[0m\u001b[0mword\u001b[0m\u001b[0;34m.\u001b[0m\u001b[0mfind\u001b[0m\u001b[0;34m(\u001b[0m\u001b[0;34m'/'\u001b[0m\u001b[0;34m)\u001b[0m\u001b[0;34m]\u001b[0m \u001b[0;32melse\u001b[0m \u001b[0mword\u001b[0m \u001b[0;32mfor\u001b[0m \u001b[0mword\u001b[0m \u001b[0;32min\u001b[0m \u001b[0mexample\u001b[0m\u001b[0;34m.\u001b[0m\u001b[0msplit\u001b[0m\u001b[0;34m(\u001b[0m\u001b[0;34m)\u001b[0m\u001b[0;34m]\u001b[0m\u001b[0;34m\u001b[0m\u001b[0;34m\u001b[0m\u001b[0m\n",
      "\u001b[0;31mNameError\u001b[0m: name 'sentences' is not defined"
     ]
    }
   ],
   "source": [
    "example = sentences[0]\n",
    "[word[:word.find('/')] if word[:word.find('/')] else word for word in example.split()]"
   ]
  },
  {
   "cell_type": "code",
   "execution_count": 1,
   "id": "c533de5b-f7e1-477d-8413-fe25e4ea48e1",
   "metadata": {},
   "outputs": [
    {
     "ename": "NameError",
     "evalue": "name 'sentences' is not defined",
     "output_type": "error",
     "traceback": [
      "\u001b[0;31m---------------------------------------------------------------------------\u001b[0m",
      "\u001b[0;31mNameError\u001b[0m                                 Traceback (most recent call last)",
      "\u001b[0;32m/var/folders/54/cstf0sh546x4t7shxfb0nv780000gn/T/ipykernel_19922/3831012510.py\u001b[0m in \u001b[0;36m<module>\u001b[0;34m\u001b[0m\n\u001b[1;32m      2\u001b[0m sentence_tokens = [[word[:word.find('/')] \\\n\u001b[1;32m      3\u001b[0m         \u001b[0;32mif\u001b[0m \u001b[0mword\u001b[0m\u001b[0;34m[\u001b[0m\u001b[0;34m:\u001b[0m\u001b[0mword\u001b[0m\u001b[0;34m.\u001b[0m\u001b[0mfind\u001b[0m\u001b[0;34m(\u001b[0m\u001b[0;34m'/'\u001b[0m\u001b[0;34m)\u001b[0m\u001b[0;34m]\u001b[0m \u001b[0;32melse\u001b[0m \u001b[0mword\u001b[0m\u001b[0;31m\\\u001b[0m\u001b[0;34m\u001b[0m\u001b[0;34m\u001b[0m\u001b[0m\n\u001b[0;32m----> 4\u001b[0;31m             for word in example.split()] for example in sentences]\n\u001b[0m\u001b[1;32m      5\u001b[0m \u001b[0;34m\u001b[0m\u001b[0m\n\u001b[1;32m      6\u001b[0m \u001b[0msentence_tokens\u001b[0m\u001b[0;34m[\u001b[0m\u001b[0;34m:\u001b[0m\u001b[0;36m1\u001b[0m\u001b[0;34m]\u001b[0m\u001b[0;34m\u001b[0m\u001b[0;34m\u001b[0m\u001b[0m\n",
      "\u001b[0;31mNameError\u001b[0m: name 'sentences' is not defined"
     ]
    }
   ],
   "source": [
    "# 전체 문장에 적용하기\n",
    "sentence_tokens = [[word[:word.find('/')] \\\n",
    "        if word[:word.find('/')] else word\\\n",
    "            for word in example.split()] for example in sentences]\n",
    "\n",
    "sentence_tokens[:1]"
   ]
  },
  {
   "cell_type": "code",
   "execution_count": null,
   "id": "b9fc6600-f6f5-4001-9faa-2a10c40714b8",
   "metadata": {},
   "outputs": [],
   "source": []
  },
  {
   "cell_type": "markdown",
   "id": "1402b5d2-8af4-4fda-bef8-223ac83c895c",
   "metadata": {},
   "source": [
    "#### punctuations"
   ]
  },
  {
   "cell_type": "code",
   "execution_count": 9,
   "id": "171393c4-24b7-475b-b1bf-ab1500e4af90",
   "metadata": {
    "collapsed": true,
    "jupyter": {
     "outputs_hidden": true
    },
    "tags": []
   },
   "outputs": [
    {
     "data": {
      "text/plain": [
       "['!',\n",
       " '\"',\n",
       " '#',\n",
       " '$',\n",
       " '%',\n",
       " '&',\n",
       " \"'\",\n",
       " '(',\n",
       " ')',\n",
       " '*',\n",
       " '+',\n",
       " ',',\n",
       " '-',\n",
       " '.',\n",
       " '/',\n",
       " ':',\n",
       " ';',\n",
       " '<',\n",
       " '=',\n",
       " '>',\n",
       " '?',\n",
       " '@',\n",
       " '[',\n",
       " '\\\\',\n",
       " ']',\n",
       " '^',\n",
       " '_',\n",
       " '`',\n",
       " '{',\n",
       " '|',\n",
       " '}',\n",
       " '~']"
      ]
     },
     "execution_count": 9,
     "metadata": {},
     "output_type": "execute_result"
    }
   ],
   "source": [
    "punct = list(string.punctuation)\n",
    "punct"
   ]
  },
  {
   "cell_type": "code",
   "execution_count": null,
   "id": "3c444807-607a-460f-922c-3c8fecb6e5fc",
   "metadata": {},
   "outputs": [],
   "source": []
  },
  {
   "cell_type": "code",
   "execution_count": null,
   "id": "acea408e-b144-4b31-9000-d8857dc1cb23",
   "metadata": {},
   "outputs": [],
   "source": []
  },
  {
   "cell_type": "code",
   "execution_count": null,
   "id": "d3a08030-74b9-4880-b6d0-ac1e92e347e0",
   "metadata": {},
   "outputs": [],
   "source": []
  },
  {
   "cell_type": "code",
   "execution_count": null,
   "id": "3d158e1a-e060-474f-8d98-f080de0b9e5f",
   "metadata": {},
   "outputs": [],
   "source": []
  },
  {
   "cell_type": "code",
   "execution_count": null,
   "id": "06962400-0cdb-47f0-99e6-5018b13d4981",
   "metadata": {},
   "outputs": [],
   "source": []
  }
 ],
 "metadata": {
  "kernelspec": {
   "display_name": "Python 3 (ipykernel)",
   "language": "python",
   "name": "python3"
  },
  "language_info": {
   "codemirror_mode": {
    "name": "ipython",
    "version": 3
   },
   "file_extension": ".py",
   "mimetype": "text/x-python",
   "name": "python",
   "nbconvert_exporter": "python",
   "pygments_lexer": "ipython3",
   "version": "3.9.7"
  }
 },
 "nbformat": 4,
 "nbformat_minor": 5
}
