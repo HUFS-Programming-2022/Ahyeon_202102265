{
 "cells": [
  {
   "cell_type": "markdown",
   "id": "ebedff74-4fc8-45cb-ad0c-ff9aad5d16a0",
   "metadata": {},
   "source": [
    "## 프로그래밍이란?\n",
    "- 프로그래밍 언어를 사용하여 프로그램을 개발하는 것\n",
    "- 논리적인 사고를 가질 수 있다.\n",
    "## programming Language?\n",
    "- 프로그램을 개발할 때 사용하는 도구\n",
    "- 인간이 원하는 것을 컴퓨터에게 명령할 때 사용하는 컴퓨터가 이해할 수 있는 언어\n",
    "## 파이썬?\n",
    "- 쉽다, 간결하다.\n",
    "- 라이브러리가 많다."
   ]
  },
  {
   "cell_type": "markdown",
   "id": "b508c36e-92a0-46db-ba0c-1388b2491582",
   "metadata": {},
   "source": [
    "# Chapter 2. Data: Types, Values, Variables, and Names"
   ]
  },
  {
   "cell_type": "code",
   "execution_count": 8,
   "id": "3f07cd78-aab8-4d07-9491-f7c48a2f4eab",
   "metadata": {},
   "outputs": [
    {
     "data": {
      "text/plain": [
       "2"
      ]
     },
     "execution_count": 8,
     "metadata": {},
     "output_type": "execute_result"
    }
   ],
   "source": [
    "a = 2\n",
    "a"
   ]
  },
  {
   "cell_type": "code",
   "execution_count": 9,
   "id": "a36b1a22-3572-4083-aba7-3cbcb38eae40",
   "metadata": {},
   "outputs": [
    {
     "data": {
      "text/plain": [
       "True"
      ]
     },
     "execution_count": 9,
     "metadata": {},
     "output_type": "execute_result"
    }
   ],
   "source": [
    "a == 2  # ==는 같다라는 뜻이다."
   ]
  },
  {
   "cell_type": "markdown",
   "id": "c78b05cc-e9f7-442e-94d7-0254417e5cbb",
   "metadata": {},
   "source": [
    "- 변수|variable: 특정 값을 저장하는 공간\n",
    "    a\n",
    "- 값|value\n",
    "    2\n",
    "- 할당하다|assign: 변수에 값을 넣는 과정\n",
    "    \"2를 a에 넣었다.\"\n",
    "    \n",
    "    *** a는 2다.  a == 2 \n",
    "- 자료형|type: 데이터의 형태\n",
    "    a 데이터의 형태? integer (int 타입이다)"
   ]
  },
  {
   "cell_type": "code",
   "execution_count": 10,
   "id": "72891e75-3ff7-4327-ab30-848afa7aa935",
   "metadata": {},
   "outputs": [
    {
     "name": "stdout",
     "output_type": "stream",
     "text": [
      "2\n"
     ]
    }
   ],
   "source": [
    "print(a)"
   ]
  },
  {
   "cell_type": "code",
   "execution_count": 11,
   "id": "78ee84ba-96e8-4608-a856-1151c33f9ec3",
   "metadata": {},
   "outputs": [
    {
     "data": {
      "text/plain": [
       "2"
      ]
     },
     "execution_count": 11,
     "metadata": {},
     "output_type": "execute_result"
    }
   ],
   "source": [
    "a"
   ]
  },
  {
   "cell_type": "code",
   "execution_count": 12,
   "id": "cecbecf4-0b35-4757-bc2c-e327a49cd33a",
   "metadata": {},
   "outputs": [
    {
     "data": {
      "text/plain": [
       "int"
      ]
     },
     "execution_count": 12,
     "metadata": {},
     "output_type": "execute_result"
    }
   ],
   "source": [
    "#type\n",
    "type(a)"
   ]
  },
  {
   "cell_type": "code",
   "execution_count": 13,
   "id": "0b03c744-7ab0-4167-8974-f8abb0d7dec8",
   "metadata": {},
   "outputs": [
    {
     "data": {
      "text/plain": [
       "int"
      ]
     },
     "execution_count": 13,
     "metadata": {},
     "output_type": "execute_result"
    }
   ],
   "source": [
    "type(2)"
   ]
  },
  {
   "cell_type": "code",
   "execution_count": 14,
   "id": "3f741c59-b513-4db2-87b1-6a4a8b8a0618",
   "metadata": {},
   "outputs": [
    {
     "data": {
      "text/plain": [
       "bool"
      ]
     },
     "execution_count": 14,
     "metadata": {},
     "output_type": "execute_result"
    }
   ],
   "source": [
    "type (a == 2) #bool, boolean T/F"
   ]
  },
  {
   "cell_type": "markdown",
   "id": "036cb7ab-7829-42a8-a748-3f4d8be4ca95",
   "metadata": {
    "tags": []
   },
   "source": [
    "### Type\n",
    "- integer|정수: 1, 2, 3, .. (int)\n",
    "- floating point number|부동소수점: 1.0, 2.0, ..., 0.4 (float)\n",
    "- string|문자열:\"1\", 'apple' (str)\n",
    "- boolean|불리언: True/False (bool)"
   ]
  },
  {
   "cell_type": "code",
   "execution_count": 16,
   "id": "d76ac8f5-92b5-42e1-ae13-f2e57a8e00df",
   "metadata": {},
   "outputs": [
    {
     "data": {
      "text/plain": [
       "str"
      ]
     },
     "execution_count": 16,
     "metadata": {},
     "output_type": "execute_result"
    }
   ],
   "source": [
    "type(\"1\")"
   ]
  },
  {
   "cell_type": "code",
   "execution_count": 17,
   "id": "da7b0fa8-aade-461f-a96e-b9f2e4c2df42",
   "metadata": {},
   "outputs": [
    {
     "data": {
      "text/plain": [
       "str"
      ]
     },
     "execution_count": 17,
     "metadata": {},
     "output_type": "execute_result"
    }
   ],
   "source": [
    "type('apple')"
   ]
  },
  {
   "cell_type": "code",
   "execution_count": 18,
   "id": "0505e550-b959-4912-84de-7d329d4810f8",
   "metadata": {},
   "outputs": [
    {
     "ename": "SyntaxError",
     "evalue": "invalid syntax (4066732747.py, line 1)",
     "output_type": "error",
     "traceback": [
      "\u001b[0;36m  File \u001b[0;32m\"/var/folders/54/cstf0sh546x4t7shxfb0nv780000gn/T/ipykernel_95906/4066732747.py\"\u001b[0;36m, line \u001b[0;32m1\u001b[0m\n\u001b[0;31m    type(apple). #변수명\u001b[0m\n\u001b[0m                 ^\u001b[0m\n\u001b[0;31mSyntaxError\u001b[0m\u001b[0;31m:\u001b[0m invalid syntax\n"
     ]
    }
   ],
   "source": [
    "type(apple). #변수명"
   ]
  },
  {
   "cell_type": "code",
   "execution_count": 19,
   "id": "40835c69-e6d9-4f18-8c9f-72fefec8bdcc",
   "metadata": {},
   "outputs": [
    {
     "data": {
      "text/plain": [
       "'kim'"
      ]
     },
     "execution_count": 19,
     "metadata": {},
     "output_type": "execute_result"
    }
   ],
   "source": [
    "name = 'kim'\n",
    "name"
   ]
  },
  {
   "cell_type": "code",
   "execution_count": 20,
   "id": "9796bb34-c400-4cdb-850b-df4d7fb8bf68",
   "metadata": {},
   "outputs": [
    {
     "name": "stdout",
     "output_type": "stream",
     "text": [
      "kim\n"
     ]
    }
   ],
   "source": [
    "print(name)"
   ]
  },
  {
   "cell_type": "code",
   "execution_count": 21,
   "id": "33a7abc4-f5eb-4220-b0ad-714eabd753bd",
   "metadata": {},
   "outputs": [
    {
     "name": "stdout",
     "output_type": "stream",
     "text": [
      "kim\n"
     ]
    }
   ],
   "source": [
    "print('kim') #이런 방법은 지양, 변수를 사용하는 습관을 들여라"
   ]
  },
  {
   "cell_type": "markdown",
   "id": "db2e6abb-0792-4961-b49e-80266195d54b",
   "metadata": {},
   "source": [
    "### 할당\n",
    "- = 이 기호를 사용한다.\n",
    "- 수학에서 '양변이 같다'라는 의미로 사용되지만, 프로그래밍에서는 '할당하다'라는 의미가 추가된다.\n",
    "- \"오른쪽의 값을 왼쪽에 할당한다\"\n",
    "- 1. 오른쪽에 있는 모든 것은 값을 가져야 한다. (초기화를 해야 한다.)\n",
    "- 2. 같은 변수에 다른 값을 넣을 수 있다."
   ]
  },
  {
   "cell_type": "code",
   "execution_count": 29,
   "id": "58321a50-79a1-4925-8ef6-be3bfde8dba2",
   "metadata": {},
   "outputs": [],
   "source": [
    "x = 4 #초기화\n",
    "\n",
    "y = x + 3 #오른쪽에 있는 것이 값이 정해져 있어야 하기 때문에 x 값을 정해줘야 한다."
   ]
  },
  {
   "cell_type": "code",
   "execution_count": 24,
   "id": "87308262-709d-44fa-9b0d-9c14a1d313f2",
   "metadata": {},
   "outputs": [
    {
     "data": {
      "text/plain": [
       "(4, 7)"
      ]
     },
     "execution_count": 24,
     "metadata": {},
     "output_type": "execute_result"
    }
   ],
   "source": [
    "x, y"
   ]
  },
  {
   "cell_type": "code",
   "execution_count": 25,
   "id": "bcd93fe1-8d31-4567-9f97-9105d7c03b5f",
   "metadata": {},
   "outputs": [],
   "source": [
    "name = 'kim'\n",
    "name = 'lee'\n",
    "name = 'park'\n",
    "name = 4      # 마지막으로 된 것이 print 된다."
   ]
  },
  {
   "cell_type": "code",
   "execution_count": 26,
   "id": "76b756a6-5628-4741-a71b-c77842a98154",
   "metadata": {},
   "outputs": [
    {
     "name": "stdout",
     "output_type": "stream",
     "text": [
      "4\n"
     ]
    }
   ],
   "source": [
    "print(name) #변수명 동일하게 사용하지 말라"
   ]
  },
  {
   "cell_type": "code",
   "execution_count": null,
   "id": "05600849-7a52-4843-9e0d-43799a003bae",
   "metadata": {},
   "outputs": [],
   "source": [
    "text = 'abc'\n",
    "text = 'cde'"
   ]
  },
  {
   "cell_type": "markdown",
   "id": "a8eaae9a-4ace-4256-85f1-e7438abace2b",
   "metadata": {},
   "source": [
    "### 변수명 정하기\n",
    "- 나쁜 변수명: a, b, c, a1, b1, ..\n",
    "- 의미있는 이름으로 선언해야 한다.\n",
    "- 소문자, 대문자, 숫자, 언더바를 사용한다.\n",
    "    예: name, name2, my_name, Name, NAME"
   ]
  },
  {
   "cell_type": "code",
   "execution_count": 34,
   "id": "79bd123a-e74c-4a88-be14-cdf44ccefc77",
   "metadata": {},
   "outputs": [
    {
     "name": "stdout",
     "output_type": "stream",
     "text": [
      "juliette,jessica,laura\n"
     ]
    }
   ],
   "source": [
    "name = 'juliette'\n",
    "name1 = 'jessica'\n",
    "my_name = 'laura'\n",
    "# myName 카멜표기법\n",
    "\n",
    "print(name, name1, my_name, sep=',')"
   ]
  },
  {
   "cell_type": "markdown",
   "id": "f007673c-de10-4854-b6fd-74987eb980ca",
   "metadata": {},
   "source": [
    "- 안되는 것\n",
    "    - 숫자로 시작할 수 없다.\n",
    "        예: 22name, 22_name\n",
    "    - 예약어로 선언할 수 없다.\n",
    "        예: def, False, ..."
   ]
  },
  {
   "cell_type": "code",
   "execution_count": 28,
   "id": "9f0f07de-b30e-43af-bf68-241ae1236d8b",
   "metadata": {},
   "outputs": [
    {
     "name": "stdout",
     "output_type": "stream",
     "text": [
      "\n",
      "Here is a list of the Python keywords.  Enter any keyword to get more help.\n",
      "\n",
      "False               break               for                 not\n",
      "None                class               from                or\n",
      "True                continue            global              pass\n",
      "__peg_parser__      def                 if                  raise\n",
      "and                 del                 import              return\n",
      "as                  elif                in                  try\n",
      "assert              else                is                  while\n",
      "async               except              lambda              with\n",
      "await               finally             nonlocal            yield\n",
      "\n"
     ]
    }
   ],
   "source": [
    "# if = 'kim'\n",
    "help(\"keywords\")"
   ]
  },
  {
   "cell_type": "markdown",
   "id": "6e66d298-7d14-496f-8168-6a98691dbf33",
   "metadata": {},
   "source": [
    "- 조심할 것: 특별한 용도가 있기 때문에\n",
    "    - 언더바로 시작하는 변수명 : _name\n",
    "    - 더블 언더바로 시작하는 변수명: __name__\n",
    "    - 대문자로 시작하는 변수명: Name\n",
    "    - 전체 대문자: NAME"
   ]
  },
  {
   "cell_type": "code",
   "execution_count": 30,
   "id": "4859576b-84e5-4344-8c2c-d0ab642c40b6",
   "metadata": {},
   "outputs": [],
   "source": [
    "# 변수명은 대소문자 구분한다.\n",
    "num = 43\n",
    "Num = 44"
   ]
  },
  {
   "cell_type": "code",
   "execution_count": 31,
   "id": "3e1b4c43-633a-40f8-a416-42f4987183c1",
   "metadata": {},
   "outputs": [
    {
     "data": {
      "text/plain": [
       "False"
      ]
     },
     "execution_count": 31,
     "metadata": {},
     "output_type": "execute_result"
    }
   ],
   "source": [
    "num == Num"
   ]
  },
  {
   "cell_type": "code",
   "execution_count": 32,
   "id": "6e454d80-aeaf-40f1-9195-50dd6fcc35ed",
   "metadata": {},
   "outputs": [
    {
     "data": {
      "text/plain": [
       "False"
      ]
     },
     "execution_count": 32,
     "metadata": {},
     "output_type": "execute_result"
    }
   ],
   "source": [
    "num = 'number'\n",
    "Num = 'Number'\n",
    "\n",
    "num == Num"
   ]
  },
  {
   "cell_type": "code",
   "execution_count": 33,
   "id": "4bd6418c-61b6-433c-a5ff-bf6aabddc171",
   "metadata": {},
   "outputs": [
    {
     "data": {
      "text/plain": [
       "True"
      ]
     },
     "execution_count": 33,
     "metadata": {},
     "output_type": "execute_result"
    }
   ],
   "source": [
    "num != Num # != 는 다르다는 뜻이다."
   ]
  }
 ],
 "metadata": {
  "kernelspec": {
   "display_name": "Python 3 (ipykernel)",
   "language": "python",
   "name": "python3"
  },
  "language_info": {
   "codemirror_mode": {
    "name": "ipython",
    "version": 3
   },
   "file_extension": ".py",
   "mimetype": "text/x-python",
   "name": "python",
   "nbconvert_exporter": "python",
   "pygments_lexer": "ipython3",
   "version": "3.9.7"
  }
 },
 "nbformat": 4,
 "nbformat_minor": 5
}
