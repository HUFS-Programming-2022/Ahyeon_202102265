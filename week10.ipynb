{
 "cells": [
  {
   "cell_type": "markdown",
   "id": "bc7c3560-ed5b-4bba-891e-2ff4a2aabd09",
   "metadata": {},
   "source": [
    "### 10. 객체와 클래스\n",
    "- object ??\n",
    "- 객체지향프로그래밍\n",
    "- 속성과 행동을 가지는 개념, 실존하는 물체?\n",
    "    - 예: 자동차, 강아지, 꽃, .. thing\n",
    "    - 속성: 브랜드, 색, 속도, 모델, .. => 변수\n",
    "        - 여름, 종, 색, 무게, ..\n",
    "    - 행동: 가다, 서다, 회전, 주차, .. => 메소드(함수)\n",
    "        - 뛰다, 짖다, 자다, 핥다, ..\n",
    "        \n",
    "- 편의점 => \"고객이 편의점에서 과자를 샀다\"\n",
    "    => 고객 => 사람,         편의점,                          과자=> 물건\n",
    "        - 이름, 돈           - 재고, 수익                     - 이름, 브랜드, 가격\n",
    "        - 물건 사다, 돈 내다   - 팔다, 수익 남기다, 물건 등록       - X\n",
    "    => 상호작용으로 코드를 구성하는 것"
   ]
  },
  {
   "cell_type": "markdown",
   "id": "11dafa91-0c46-4588-ac8a-a2fce5f08c12",
   "metadata": {},
   "source": [
    "- 첫글자 대문자\n",
    "- nice car -> Nice_car (X)\n",
    "- NiceCar (O)\n",
    "\n",
    "- 정의부, 선언부\n",
    "    - 정의부 = 붕어빵 틀\n",
    "    - 선언부 = 붕어빵"
   ]
  },
  {
   "cell_type": "code",
   "execution_count": 1,
   "id": "8f60b204-a0ca-48d9-95b8-470e6495e91d",
   "metadata": {},
   "outputs": [
    {
     "data": {
      "text/plain": [
       "<__main__.Car at 0x7f92e831ef40>"
      ]
     },
     "execution_count": 1,
     "metadata": {},
     "output_type": "execute_result"
    }
   ],
   "source": [
    "# 정의부\n",
    "class Car: #\n",
    "    pass\n",
    "\n",
    "#선언부\n",
    "my_car = Car()\n",
    "my_car # instance == 붕어빵"
   ]
  },
  {
   "cell_type": "code",
   "execution_count": 2,
   "id": "86d238e2-1138-492e-a356-b90bbf3ad9ed",
   "metadata": {},
   "outputs": [],
   "source": [
    "my_car.name = 'bmw'\n",
    "my_car.color = 'white'"
   ]
  },
  {
   "cell_type": "code",
   "execution_count": 3,
   "id": "ed023338-8c72-42d6-bbc2-569867b3926d",
   "metadata": {},
   "outputs": [
    {
     "data": {
      "text/plain": [
       "'bmw'"
      ]
     },
     "execution_count": 3,
     "metadata": {},
     "output_type": "execute_result"
    }
   ],
   "source": [
    "my_car.name"
   ]
  },
  {
   "cell_type": "code",
   "execution_count": 4,
   "id": "f9a709a8-4b5b-40f1-aad9-01a9e111f447",
   "metadata": {},
   "outputs": [],
   "source": [
    "class Car:\n",
    "    name = 'BMW'"
   ]
  },
  {
   "cell_type": "code",
   "execution_count": 5,
   "id": "21db46ec-171f-400f-b91e-7259c977a0a9",
   "metadata": {},
   "outputs": [],
   "source": [
    "your_car = Car()"
   ]
  },
  {
   "cell_type": "code",
   "execution_count": 7,
   "id": "cb44b5eb-f683-4592-9000-f9b0f62fb2e3",
   "metadata": {},
   "outputs": [],
   "source": [
    "your_car.name = 'Kia'"
   ]
  },
  {
   "cell_type": "code",
   "execution_count": 8,
   "id": "55824239-8696-46eb-8665-9d03e769a6c9",
   "metadata": {},
   "outputs": [
    {
     "data": {
      "text/plain": [
       "'Kia'"
      ]
     },
     "execution_count": 8,
     "metadata": {},
     "output_type": "execute_result"
    }
   ],
   "source": [
    "your_car.name"
   ]
  },
  {
   "cell_type": "markdown",
   "id": "4a219b3f-a5df-4c11-8781-1e6aaae54d37",
   "metadata": {},
   "source": [
    "#2.\n",
    "class Car:\n",
    "    def __init__(self, name, model, color='black'): # 속성 초기화 함수\n",
    "        # 객체 만들 때 들어오는 값으로 이름을 설정하고 싶다. \n",
    "        self.name = name\n",
    "        # self == instance: 나 자신(인스턴스 자신)\n",
    "        self.model = model\n",
    "        self.color = color\n",
    "        \n",
    "    def drive(self):\n",
    "        print(f'{self.name}가 출발합니다')\n",
    "        #print('차가 갑니다')\n",
    "    def stop(self):\n",
    "        print('차가 섭니다')\n",
    "    def change_color(self, color):\n",
    "        # gray로 바꾼다.\n",
    "        #self.color='gray'\n",
    "        #3 color 을 받아서 그걸로 지정하게\n",
    "        self.color = color\n",
    "    #4 color이 들어오면 그 값으로 설정, 아니면 'black'으로 "
   ]
  },
  {
   "cell_type": "code",
   "execution_count": 1,
   "id": "1c60b5e1-a21a-46ac-b6fd-d58d975d951a",
   "metadata": {},
   "outputs": [],
   "source": [
    "#2. 좀 더 편하게 바꾸기\n",
    "# __init__ 이용하기\n",
    "class Car:\n",
    "    def __init__(self, name): #속성 초기화 함수 self 먼저 쓰기\n",
    "        # 객체 만들 때 들어온 값으로 이름을 설정하고 싶다.\n",
    "        self.name = name\n",
    "        #self = instance : 나 자신 (인스턴스 자신)"
   ]
  },
  {
   "cell_type": "code",
   "execution_count": 2,
   "id": "29c347ed-0e48-4519-b312-901a74099281",
   "metadata": {},
   "outputs": [],
   "source": [
    "her_car = Car(name='Hyundai')"
   ]
  },
  {
   "cell_type": "code",
   "execution_count": 3,
   "id": "b1daf5df-5d52-44a3-b8e8-efa9aaf277cb",
   "metadata": {},
   "outputs": [
    {
     "data": {
      "text/plain": [
       "'Hyundai'"
      ]
     },
     "execution_count": 3,
     "metadata": {},
     "output_type": "execute_result"
    }
   ],
   "source": [
    "her_car.name"
   ]
  },
  {
   "cell_type": "code",
   "execution_count": 4,
   "id": "b6ee7772-975a-4ab6-97b6-ad1b8fa54e73",
   "metadata": {},
   "outputs": [],
   "source": [
    "her_car = Car(name='Hyundai')"
   ]
  },
  {
   "cell_type": "code",
   "execution_count": 5,
   "id": "61f98302-a98a-4234-8abc-2c0df70cb6f1",
   "metadata": {},
   "outputs": [
    {
     "data": {
      "text/plain": [
       "'Hyundai'"
      ]
     },
     "execution_count": 5,
     "metadata": {},
     "output_type": "execute_result"
    }
   ],
   "source": [
    "her_car.name"
   ]
  },
  {
   "cell_type": "code",
   "execution_count": 6,
   "id": "9d900cce-163d-4918-9ac4-ebf435466b01",
   "metadata": {},
   "outputs": [
    {
     "data": {
      "text/plain": [
       "'Toyota'"
      ]
     },
     "execution_count": 6,
     "metadata": {},
     "output_type": "execute_result"
    }
   ],
   "source": [
    "car2 = Car('Toyota')\n",
    "car2.name"
   ]
  },
  {
   "cell_type": "code",
   "execution_count": 9,
   "id": "0e1ed57f-bb10-475b-b048-4f7e4dde2917",
   "metadata": {},
   "outputs": [],
   "source": [
    "class Car:\n",
    "    def __init__(self, name, model, color): # 이름, 모델, 색 추가\n",
    "        self.name = name\n",
    "        self.model = model\n",
    "        self.color = color\n",
    "    \n",
    "    def drive(self): #차 출발하는 행동 추가 \n",
    "        # {차 이름}가 출발합니다\n",
    "        print(f'{self.name}가 출발합니다')\n",
    "    \n",
    "    def stop(self): #차 멈추는 행동 추가\n",
    "        print('차가 섭니다')\n",
    "        \n",
    "    def change_color(self): #색 바꾸는 행동 추가 \n",
    "        # gray로 바꾼다\n",
    "        self.color = 'gray'\n",
    "car3 = Car('Kia', 'K3', 'White') #순서 지켰으므로 name, model, color 순서대로 들어감"
   ]
  },
  {
   "cell_type": "code",
   "execution_count": 10,
   "id": "808e90ec-81f4-4820-8bd8-7198387e9c99",
   "metadata": {},
   "outputs": [
    {
     "data": {
      "text/plain": [
       "'K3'"
      ]
     },
     "execution_count": 10,
     "metadata": {},
     "output_type": "execute_result"
    }
   ],
   "source": [
    "car3.model"
   ]
  },
  {
   "cell_type": "code",
   "execution_count": 11,
   "id": "60205d9e-26e4-4c3a-bacc-bc5f4a99afef",
   "metadata": {},
   "outputs": [
    {
     "name": "stdout",
     "output_type": "stream",
     "text": [
      "Kia가 출발합니다\n"
     ]
    }
   ],
   "source": [
    "car3.drive()"
   ]
  },
  {
   "cell_type": "code",
   "execution_count": 12,
   "id": "2fb498e7-fb04-4ca1-b744-ee7a78d10330",
   "metadata": {},
   "outputs": [],
   "source": [
    "class Car:\n",
    "    def __init__(self, name, model = None, color = 'black'):\n",
    "        #color가 들어오면 그 값으로 설정하고 들어오지 않으면 black으로 설정하기\n",
    "        # model 값이 들어오면 그 값, 아니라면 none값\n",
    "        self.name = name\n",
    "        self.model = model\n",
    "        self.color = color\n",
    "    \n",
    "    def drive(self):\n",
    "        # {차 이름}가 출발합니다\n",
    "        print(f'{self.name}가 출발합니다')\n",
    "    \n",
    "    def stop(self):\n",
    "        print('차가 섭니다')\n",
    "        \n",
    "    def change_color(self,color):\n",
    "        #color 값 받아서 그 색으로 변경하기 \n",
    "        self.color = color"
   ]
  },
  {
   "cell_type": "code",
   "execution_count": 13,
   "id": "91de8d3f-7136-49a1-beda-90a843181da5",
   "metadata": {},
   "outputs": [],
   "source": [
    "car4 = Car('Samsung','SM6', 'white')\n",
    "car4.change_color('gray')"
   ]
  },
  {
   "cell_type": "code",
   "execution_count": 14,
   "id": "b13baea7-075f-4401-ad92-e1638530af5f",
   "metadata": {},
   "outputs": [
    {
     "data": {
      "text/plain": [
       "'~~'"
      ]
     },
     "execution_count": 14,
     "metadata": {},
     "output_type": "execute_result"
    }
   ],
   "source": [
    "car = Car('Porche')\n",
    "car.model = '~~'\n",
    "car.model"
   ]
  },
  {
   "cell_type": "markdown",
   "id": "6d010157-72e3-468a-abbf-8dbd64a83e55",
   "metadata": {},
   "source": [
    "### 캡슐화, 정보 은닉\n",
    "- public -> private\n",
    "- getter, setter"
   ]
  },
  {
   "cell_type": "code",
   "execution_count": 15,
   "id": "aba6454f-aa00-401d-8a91-86262453ea12",
   "metadata": {},
   "outputs": [
    {
     "data": {
      "text/plain": [
       "'red'"
      ]
     },
     "execution_count": 15,
     "metadata": {},
     "output_type": "execute_result"
    }
   ],
   "source": [
    "class Fruit:\n",
    "    color = 'red'\n",
    "\n",
    "kiwi = Fruit()\n",
    "kiwi.color"
   ]
  },
  {
   "cell_type": "code",
   "execution_count": null,
   "id": "e05789e1-4e4f-4735-b692-71e5ec94e956",
   "metadata": {},
   "outputs": [],
   "source": []
  },
  {
   "cell_type": "code",
   "execution_count": null,
   "id": "1e421167-67a9-448d-8c3f-6c30709232a6",
   "metadata": {},
   "outputs": [],
   "source": []
  },
  {
   "cell_type": "code",
   "execution_count": null,
   "id": "a8b244b7-60fd-4a90-a782-93a6d238d607",
   "metadata": {},
   "outputs": [],
   "source": []
  },
  {
   "cell_type": "markdown",
   "id": "60fff00c-3a04-471b-88ab-ddf07d23554d",
   "metadata": {},
   "source": [
    "### get, set\n",
    "\n",
    "- getter: 클래스 내 객체 변수 변환\n",
    "- setter: == 변수 설정"
   ]
  },
  {
   "cell_type": "code",
   "execution_count": 23,
   "id": "67eeb127-e24b-4286-b6f0-60e0f73ce85d",
   "metadata": {},
   "outputs": [
    {
     "data": {
      "text/plain": [
       "'name_1'"
      ]
     },
     "execution_count": 23,
     "metadata": {},
     "output_type": "execute_result"
    }
   ],
   "source": [
    "class Car:\n",
    "    def __init__(self, input_name):\n",
    "        self.hidden_name = input_name\n",
    "    def get_name(self):\n",
    "        # 변수 반환\n",
    "        return self.hidden_name\n",
    "    def set_name(self, input_name):\n",
    "        self.hidden_name = input_name\n",
    "    name = property(get_name, set_name)\n",
    "    \n",
    "d = Car('name_1')\n",
    "d.name"
   ]
  },
  {
   "cell_type": "markdown",
   "id": "6522c0cb-554c-47d0-8ab4-94f28ffdb394",
   "metadata": {},
   "source": [
    "#### 3."
   ]
  },
  {
   "cell_type": "code",
   "execution_count": 25,
   "id": "dde4675d-3a06-48fa-b679-ad482538aff1",
   "metadata": {},
   "outputs": [],
   "source": [
    "class Car:\n",
    "    def __init__(self, input_name):\n",
    "        self.hidden_name = input_name\n",
    "    # decorator\n",
    "    @property\n",
    "    def name(self):\n",
    "        # 변수 반환\n",
    "        return self.hidden_name\n",
    "    @name.setter\n",
    "    def name(self, input_name):\n",
    "        self.hidden_name = input_name"
   ]
  },
  {
   "cell_type": "code",
   "execution_count": 26,
   "id": "f1146d2d-5c17-4d73-9694-721da903114c",
   "metadata": {},
   "outputs": [
    {
     "data": {
      "text/plain": [
       "'name a'"
      ]
     },
     "execution_count": 26,
     "metadata": {},
     "output_type": "execute_result"
    }
   ],
   "source": [
    "e = Car('name a')\n",
    "e.name"
   ]
  },
  {
   "cell_type": "code",
   "execution_count": 27,
   "id": "f9c2e959-b0ba-43cf-8734-dee1ed849d96",
   "metadata": {},
   "outputs": [
    {
     "data": {
      "text/plain": [
       "'name a'"
      ]
     },
     "execution_count": 27,
     "metadata": {},
     "output_type": "execute_result"
    }
   ],
   "source": [
    "e.hidden_name"
   ]
  },
  {
   "cell_type": "markdown",
   "id": "0eb2e17d-8ae0-40af-9b21-156fb08b8aba",
   "metadata": {},
   "source": [
    "#### 4."
   ]
  },
  {
   "cell_type": "code",
   "execution_count": 28,
   "id": "e3b63022-701e-4a6b-9416-1ddd84409083",
   "metadata": {},
   "outputs": [],
   "source": [
    "class Car:\n",
    "    def __init__(self, input_name):\n",
    "        self.__name = input_name\n",
    "    # decorator\n",
    "    @property\n",
    "    def name(self):\n",
    "        # 변수 반환\n",
    "        return self__name\n",
    "    @name.setter\n",
    "    def name(self, input_name):\n",
    "        self.__name = input_name"
   ]
  },
  {
   "cell_type": "code",
   "execution_count": 29,
   "id": "ee7d5967-f7b4-4c21-a5bb-47bdd41a27f8",
   "metadata": {},
   "outputs": [
    {
     "ename": "AttributeError",
     "evalue": "'Car' object has no attribute '__name'",
     "output_type": "error",
     "traceback": [
      "\u001b[0;31m---------------------------------------------------------------------------\u001b[0m",
      "\u001b[0;31mAttributeError\u001b[0m                            Traceback (most recent call last)",
      "\u001b[0;32m/var/folders/54/cstf0sh546x4t7shxfb0nv780000gn/T/ipykernel_96833/229484777.py\u001b[0m in \u001b[0;36m<module>\u001b[0;34m\u001b[0m\n\u001b[1;32m      1\u001b[0m \u001b[0mf\u001b[0m \u001b[0;34m=\u001b[0m \u001b[0mCar\u001b[0m\u001b[0;34m(\u001b[0m\u001b[0;34m'name b'\u001b[0m\u001b[0;34m)\u001b[0m\u001b[0;34m\u001b[0m\u001b[0;34m\u001b[0m\u001b[0m\n\u001b[0;32m----> 2\u001b[0;31m \u001b[0mf\u001b[0m\u001b[0;34m.\u001b[0m\u001b[0m__name\u001b[0m\u001b[0;34m\u001b[0m\u001b[0;34m\u001b[0m\u001b[0m\n\u001b[0m",
      "\u001b[0;31mAttributeError\u001b[0m: 'Car' object has no attribute '__name'"
     ]
    }
   ],
   "source": [
    "f = Car('name b')\n",
    "f.__name"
   ]
  },
  {
   "cell_type": "code",
   "execution_count": 30,
   "id": "8ca43579-a976-45f4-8063-a4af3c430d61",
   "metadata": {},
   "outputs": [
    {
     "data": {
      "text/plain": [
       "10"
      ]
     },
     "execution_count": 30,
     "metadata": {},
     "output_type": "execute_result"
    }
   ],
   "source": [
    "class Circle:\n",
    "    def __init__(self, radius):\n",
    "        self.radius = radius\n",
    "        \n",
    "    @property\n",
    "    def parameter(self):\n",
    "        return self.radius * 2\n",
    "ex = Circle(5)\n",
    "ex.parameter"
   ]
  },
  {
   "cell_type": "code",
   "execution_count": 31,
   "id": "8acb9c86-d231-44ff-981e-607cdf39f4c9",
   "metadata": {},
   "outputs": [
    {
     "data": {
      "text/plain": [
       "38"
      ]
     },
     "execution_count": 31,
     "metadata": {},
     "output_type": "execute_result"
    }
   ],
   "source": [
    "ex.radius = 19\n",
    "ex.parameter"
   ]
  },
  {
   "cell_type": "markdown",
   "id": "49ef5536-82f3-4ce6-a590-8c54d73f8fdd",
   "metadata": {},
   "source": [
    "### 실습\n",
    "- 메모장, 메모 구현하기\n",
    "- 메모장\n",
    "    - 속성: 제목, 페이지번호, 메모\n",
    "    - 행동: 메모 추가하다, 메모 삭제하다, 페이지번호 확인하다\n",
    "- 메모\n",
    "    - 속성: 글귀\n",
    "    - 행동: 쓰다, 지우다\n",
    "- 사용:\n",
    "    - 메모 쓴다\n",
    "    - 메모장에 추가\n",
    "    - 페이지 번호가 늘어난다\n",
    "    - 메모 삭제\n",
    "    - 페이지 번호 줄어든다"
   ]
  },
  {
   "cell_type": "code",
   "execution_count": null,
   "id": "2e96e238-4475-4ba6-8299-005c666ecb1b",
   "metadata": {},
   "outputs": [],
   "source": [
    "class Note(object):\n",
    "    def __init__(self, content = None):\n",
    "        super(Note, self).__init__()\n",
    "        self.content = content\n",
    "    def write_content(self, content):\n",
    "        self.content = content\n",
    "    def remove_all(self):\n",
    "        self.content = \"\"\n",
    "    def __str__(self):\n",
    "        return str(self.write_content)"
   ]
  },
  {
   "cell_type": "code",
   "execution_count": null,
   "id": "eef3d2c8-a5da-49ed-ba27-256673789eab",
   "metadata": {},
   "outputs": [],
   "source": [
    "class Notebook:\n",
    "    def __init__"
   ]
  },
  {
   "cell_type": "code",
   "execution_count": null,
   "id": "ebb0810d-44d3-416b-9a8b-9607f9fa7426",
   "metadata": {},
   "outputs": [],
   "source": []
  },
  {
   "cell_type": "code",
   "execution_count": null,
   "id": "0748f3e3-9229-476c-bd8f-838e53ee2024",
   "metadata": {},
   "outputs": [],
   "source": []
  },
  {
   "cell_type": "code",
   "execution_count": null,
   "id": "bc242fd6-07e0-4428-b805-6e7cc466ddac",
   "metadata": {},
   "outputs": [],
   "source": []
  },
  {
   "cell_type": "code",
   "execution_count": null,
   "id": "4feb17bc-c94c-446c-b823-7904f758c07c",
   "metadata": {},
   "outputs": [],
   "source": []
  },
  {
   "cell_type": "code",
   "execution_count": null,
   "id": "38fe0680-8cbd-4847-9e4f-0edabf205e7b",
   "metadata": {},
   "outputs": [],
   "source": []
  }
 ],
 "metadata": {
  "kernelspec": {
   "display_name": "Python 3 (ipykernel)",
   "language": "python",
   "name": "python3"
  },
  "language_info": {
   "codemirror_mode": {
    "name": "ipython",
    "version": 3
   },
   "file_extension": ".py",
   "mimetype": "text/x-python",
   "name": "python",
   "nbconvert_exporter": "python",
   "pygments_lexer": "ipython3",
   "version": "3.9.7"
  }
 },
 "nbformat": 4,
 "nbformat_minor": 5
}
