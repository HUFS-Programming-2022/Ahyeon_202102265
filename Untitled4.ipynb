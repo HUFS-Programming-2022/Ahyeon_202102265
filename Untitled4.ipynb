{
 "cells": [
  {
   "cell_type": "markdown",
   "id": "cc166fa8-9069-4d56-adef-18ee7c126486",
   "metadata": {},
   "source": [
    "### 반복문\n",
    "- While, for loop\n",
    "\n",
    "#### While loop\n",
    "- 어떤 조건이 만족하는 동안 명령 블록을 수행한다.\n",
    "- if + for loop\n",
    "- 해당 조건이 거짓이면 멈춘다. => 언제 멈추는지 그 시점을 정확히 파악해야 함.\n",
    "\n",
    "#### for vs. while\n",
    "- for: 반복 횟수가 정해짐, 정확함. 변하지 않음\n",
    "    - 예: 성적 산출\n",
    "- While: 횟수 정해지지 않음. \n",
    "    - 예: 가위바위보"
   ]
  },
  {
   "cell_type": "code",
   "execution_count": 1,
   "id": "c79e77ff-c48b-457a-86db-d712fdc6798d",
   "metadata": {},
   "outputs": [
    {
     "name": "stdout",
     "output_type": "stream",
     "text": [
      "0\n",
      "1\n",
      "2\n",
      "3\n",
      "4\n",
      "5\n",
      "6\n",
      "7\n",
      "8\n",
      "9\n"
     ]
    }
   ],
   "source": [
    "for i in range(10):\n",
    "    print(i)"
   ]
  },
  {
   "cell_type": "code",
   "execution_count": 12,
   "id": "ff14709e-3996-4b94-942e-2dec46e28bd6",
   "metadata": {},
   "outputs": [
    {
     "name": "stdout",
     "output_type": "stream",
     "text": [
      "0\n",
      "1\n",
      "2\n"
     ]
    }
   ],
   "source": [
    "j = 0 #초기화블럭\n",
    "while j < 3: #0,1,2,False\n",
    "    print(j) #0,1,2\n",
    "    j += 1 #변화블럭 1,2,3"
   ]
  },
  {
   "cell_type": "code",
   "execution_count": 10,
   "id": "5d5d003c-d413-4a6e-86a4-ca08d6882a65",
   "metadata": {},
   "outputs": [
    {
     "name": "stdout",
     "output_type": "stream",
     "text": [
      "a\n",
      "b\n",
      "c\n",
      "d\n"
     ]
    }
   ],
   "source": [
    "abcd = ['a','b','c','d']\n",
    "for ch in abcd:\n",
    "    print(ch)"
   ]
  },
  {
   "cell_type": "code",
   "execution_count": 11,
   "id": "5e75d26b-b56d-4dfc-9283-915f2cb7003b",
   "metadata": {},
   "outputs": [
    {
     "name": "stdout",
     "output_type": "stream",
     "text": [
      "a\n",
      "b\n",
      "c\n",
      "d\n"
     ]
    }
   ],
   "source": [
    "i = 0\n",
    "while i < len (abcd):\n",
    "    print(abcd[i])\n",
    "    i += 1"
   ]
  },
  {
   "cell_type": "markdown",
   "id": "f5beb6e1-54c4-4602-8b7e-673872122331",
   "metadata": {},
   "source": [
    "### 반복문 제어\n",
    "- 되도록 사용하지 않는다. 의도치 않은 오류를 위해\n",
    "- break: 논리적으로 반복을 종료시킬 때\n",
    "- else: 어떤 조건이 완전히 끝났을 때 한번 더 실행함. break시에 실행 안 됨.=> 어느 지점에서 종료되었는지 확인할 때\n",
    "- continue: 특정 조건을 건너뛰고 다음 조건 실행"
   ]
  },
  {
   "cell_type": "code",
   "execution_count": 14,
   "id": "9ac1569b-cf7c-4426-8211-95a7ece29f83",
   "metadata": {},
   "outputs": [
    {
     "name": "stdout",
     "output_type": "stream",
     "text": [
      "0\n",
      "1\n",
      "2\n",
      "3\n",
      "4\n",
      "5\n",
      "6\n"
     ]
    }
   ],
   "source": [
    "j = 0 #초기화블럭\n",
    "while j < 10: \n",
    "    print(j) \n",
    "    if j == 6: break \n",
    "    j += 1 \n",
    "else:\n",
    "    print('ended')"
   ]
  },
  {
   "cell_type": "code",
   "execution_count": 15,
   "id": "7304a12f-02b5-46d3-a92f-27c6be9d92c5",
   "metadata": {},
   "outputs": [
    {
     "name": "stdout",
     "output_type": "stream",
     "text": [
      "0\n",
      "1\n",
      "2\n",
      "3\n",
      "4\n",
      "5\n"
     ]
    }
   ],
   "source": [
    "for i in range(10):\n",
    "    if i == 6: break\n",
    "    print(i) # 6 출력 안 됨\n",
    "else:\n",
    "    print()"
   ]
  },
  {
   "cell_type": "code",
   "execution_count": 16,
   "id": "dbba247e-e92f-411e-bd3b-d3e8bce4d06a",
   "metadata": {},
   "outputs": [
    {
     "name": "stdout",
     "output_type": "stream",
     "text": [
      "0\n",
      "1\n",
      "2\n",
      "3\n",
      "4\n",
      "5\n",
      "7\n",
      "8\n",
      "9\n",
      "ended\n"
     ]
    }
   ],
   "source": [
    "for i in range(10):\n",
    "    if i == 6: continue\n",
    "    print(i) # 6 출력 안 됨\n",
    "else:\n",
    "    print('ended')"
   ]
  },
  {
   "cell_type": "code",
   "execution_count": 17,
   "id": "b4054738-6cc0-4bc8-ac02-1f1af76c274a",
   "metadata": {},
   "outputs": [
    {
     "data": {
      "text/plain": [
       "9"
      ]
     },
     "execution_count": 17,
     "metadata": {},
     "output_type": "execute_result"
    }
   ],
   "source": [
    "i"
   ]
  },
  {
   "cell_type": "markdown",
   "id": "13682a39-dd99-4bdc-9457-b846b5f1cdf6",
   "metadata": {},
   "source": [
    "### gugudan\n",
    "변수는 입력을 받아서 사용함.\n",
    "- 1. n단 출력\n",
    "- 2. 1부터 n단까지 출력\n",
    "    - n > 10 경우 대비\n",
    "- 3. n, m 모두 입력 받아서 출력\n",
    "    - n > m\n",
    "    \n",
    "- 4. 프로그램으로 만듦.\n",
    "    - 메뉴: 1)n, 2) 1-n, 3)n-m단\n",
    "    - 메뉴에 없는 옵션을 선택할 때"
   ]
  },
  {
   "cell_type": "code",
   "execution_count": 18,
   "id": "94ea8920-cec6-4d87-8165-0e38bbc50c97",
   "metadata": {},
   "outputs": [
    {
     "name": "stdin",
     "output_type": "stream",
     "text": [
      "2단부터 9단 사이의 단을 입력하시오:  4\n"
     ]
    },
    {
     "name": "stdout",
     "output_type": "stream",
     "text": [
      "4 * 1 = 4\n",
      "4 * 2 = 8\n",
      "4 * 3 = 12\n",
      "4 * 4 = 16\n",
      "4 * 5 = 20\n",
      "4 * 6 = 24\n",
      "4 * 7 = 28\n",
      "4 * 8 = 32\n",
      "4 * 9 = 36\n"
     ]
    }
   ],
   "source": [
    "num = int(input(\"2단부터 9단 사이의 단을 입력하시오: \"))\n",
    "while (num < 2 or num >9):\n",
    "    print(\"잘못 입력되었습니다.\")\n",
    "    num = int(input(\"2단부터 9단 사이의 단을 다시 입력하시오: \"))\n",
    "    \n",
    "for i in range(1,10):\n",
    "    print(num, '*', i, '=', num * i)"
   ]
  },
  {
   "cell_type": "code",
   "execution_count": null,
   "id": "24c82ea1-036e-4cdc-8c0e-15025647fe1b",
   "metadata": {},
   "outputs": [],
   "source": [
    "m = int(input(\"첫 번째 단을 입력하시오.'))\n",
    "n = int(input(\"두 번째 단을 입력하시오.'))\n",
    "if n > m:\n",
    "    for k in range(m, n+1):\n",
    "        print(f\"==={k}단===\")\n",
    "        for i in range(1,10):\n",
    "              print(f\"{k} * {i} = {i*k}\")\n",
    "elif n,m <1\n",
    "        print(\"다시 입력해주세요.\")"
   ]
  },
  {
   "cell_type": "code",
   "execution_count": 9,
   "id": "24bcd646-73dd-41bd-9084-4fa99d0539f6",
   "metadata": {},
   "outputs": [
    {
     "name": "stdout",
     "output_type": "stream",
     "text": [
      "*** Introductory Examples for the NLTK Book ***\n",
      "Loading text1, ..., text9 and sent1, ..., sent9\n",
      "Type the name of the text or sentence to view it.\n",
      "Type: 'texts()' or 'sents()' to list the materials.\n",
      "text1: Moby Dick by Herman Melville 1851\n",
      "text2: Sense and Sensibility by Jane Austen 1811\n",
      "text3: The Book of Genesis\n",
      "text4: Inaugural Address Corpus\n",
      "text5: Chat Corpus\n",
      "text6: Monty Python and the Holy Grail\n",
      "text7: Wall Street Journal\n",
      "text8: Personals Corpus\n",
      "text9: The Man Who Was Thursday by G . K . Chesterton 1908\n"
     ]
    },
    {
     "data": {
      "text/plain": [
       "True"
      ]
     },
     "execution_count": 9,
     "metadata": {},
     "output_type": "execute_result"
    }
   ],
   "source": [
    "import nltk\n",
    "from nltk.book import *\n",
    "nltk.download('book', quiet=True)"
   ]
  },
  {
   "cell_type": "code",
   "execution_count": null,
   "id": "eced0b6b-8c82-429f-8343-4b3e825ec996",
   "metadata": {},
   "outputs": [],
   "source": [
    "# text1 -9\n",
    " # text1 vs. 'text1'\n",
    " # text1 -9 string 가져오기\n",
    " # string -> fx. getattr(library, 'string_name')"
   ]
  },
  {
   "cell_type": "code",
   "execution_count": null,
   "id": "74350aad-02bd-492f-a3a6-b47202e52580",
   "metadata": {},
   "outputs": [],
   "source": [
    "texts = [text1, text2, ..., text9]"
   ]
  },
  {
   "cell_type": "code",
   "execution_count": 21,
   "id": "ed2b04b8-0997-4df4-acf5-aebf9b8fbee8",
   "metadata": {},
   "outputs": [
    {
     "data": {
      "text/plain": [
       "(<Text: Moby Dick by Herman Melville 1851>, 'text1')"
      ]
     },
     "execution_count": 21,
     "metadata": {},
     "output_type": "execute_result"
    }
   ],
   "source": [
    "text1, 'text1'"
   ]
  },
  {
   "cell_type": "markdown",
   "id": "c7a09a5c-357c-4fc1-bab7-af2b5cb79dae",
   "metadata": {},
   "source": [
    "### NLTK corpus\n",
    "- 코퍼스 + 테마\n",
    "- 종류\n",
    "    - brown\n",
    "    - gutenberg\n",
    "    - inaugural\n",
    "- methods\n",
    "    - words() #tokens\n",
    "    "
   ]
  },
  {
   "cell_type": "code",
   "execution_count": 10,
   "id": "bf046f4d-63e0-41fe-b374-0f05d3785501",
   "metadata": {},
   "outputs": [
    {
     "name": "stderr",
     "output_type": "stream",
     "text": [
      "[nltk_data] Downloading package brown to\n",
      "[nltk_data]     /Users/ahyeonyoun/nltk_data...\n",
      "[nltk_data]   Package brown is already up-to-date!\n",
      "[nltk_data] Downloading package gutenberg to\n",
      "[nltk_data]     /Users/ahyeonyoun/nltk_data...\n",
      "[nltk_data]   Package gutenberg is already up-to-date!\n",
      "[nltk_data] Downloading package inaugural to\n",
      "[nltk_data]     /Users/ahyeonyoun/nltk_data...\n",
      "[nltk_data]   Package inaugural is already up-to-date!\n"
     ]
    },
    {
     "data": {
      "text/plain": [
       "True"
      ]
     },
     "execution_count": 10,
     "metadata": {},
     "output_type": "execute_result"
    }
   ],
   "source": [
    "from nltk.corpus import gutenberg\n",
    "nltk.download(['brown', 'gutenberg', 'inaugural'])"
   ]
  },
  {
   "cell_type": "code",
   "execution_count": 11,
   "id": "c98eee95-ddb9-4033-9e56-ec8beeaa0184",
   "metadata": {},
   "outputs": [
    {
     "data": {
      "text/plain": [
       "<PlaintextCorpusReader in '/Users/ahyeonyoun/nltk_data/corpora/gutenberg'>"
      ]
     },
     "execution_count": 11,
     "metadata": {},
     "output_type": "execute_result"
    }
   ],
   "source": [
    "gutenberg # = nltk.corpus.gutenberg"
   ]
  },
  {
   "cell_type": "code",
   "execution_count": 24,
   "id": "3784fd81-83d4-4ff4-8014-fda44ee2fd00",
   "metadata": {},
   "outputs": [
    {
     "data": {
      "text/plain": [
       "['austen-emma.txt',\n",
       " 'austen-persuasion.txt',\n",
       " 'austen-sense.txt',\n",
       " 'bible-kjv.txt',\n",
       " 'blake-poems.txt',\n",
       " 'bryant-stories.txt',\n",
       " 'burgess-busterbrown.txt',\n",
       " 'carroll-alice.txt',\n",
       " 'chesterton-ball.txt',\n",
       " 'chesterton-brown.txt',\n",
       " 'chesterton-thursday.txt',\n",
       " 'edgeworth-parents.txt',\n",
       " 'melville-moby_dick.txt',\n",
       " 'milton-paradise.txt',\n",
       " 'shakespeare-caesar.txt',\n",
       " 'shakespeare-hamlet.txt',\n",
       " 'shakespeare-macbeth.txt',\n",
       " 'whitman-leaves.txt']"
      ]
     },
     "execution_count": 24,
     "metadata": {},
     "output_type": "execute_result"
    }
   ],
   "source": [
    "gutenberg.fileids()"
   ]
  },
  {
   "cell_type": "code",
   "execution_count": 12,
   "id": "0d09da3a-339c-4a56-bc88-3a376d9fec3d",
   "metadata": {},
   "outputs": [
    {
     "data": {
      "text/plain": [
       "['[', 'Alice', \"'\", 's', 'Adventures', 'in', ...]"
      ]
     },
     "execution_count": 12,
     "metadata": {},
     "output_type": "execute_result"
    }
   ],
   "source": [
    "gutenberg.words(fileids = ['carroll-alice.txt','austen-emma.txt'])"
   ]
  },
  {
   "cell_type": "markdown",
   "id": "ddf8103b-93b3-4f0a-b521-2179dc0c89d5",
   "metadata": {},
   "source": [
    "# 각 파일마다 word, character, sents 개수 출력하기\n",
    "\n",
    "auten-emma | 글자 수 = 14개, 단어 수 = 15개, 문장 수 = 33개\n"
   ]
  },
  {
   "cell_type": "code",
   "execution_count": 13,
   "id": "59fd2443-cf62-4c67-8371-deec4f71aeb1",
   "metadata": {},
   "outputs": [
    {
     "name": "stdout",
     "output_type": "stream",
     "text": [
      "austen-emma1924277752887071\n",
      "austen-persuasion981713747466292\n",
      "austen-sense1415764999673022\n",
      "bible-kjv1010654301034332554\n",
      "blake-poems835443838153\n",
      "bryant-stories555632863249439\n",
      "burgess-busterbrown18963105484663\n",
      "carroll-alice341101703144395\n",
      "chesterton-ball969964779457450\n",
      "chesterton-brown860633806406629\n",
      "chesterton-thursday692133742320525\n",
      "edgeworth-parents21066310230935158\n",
      "melville-moby_dick260819100591242990\n",
      "milton-paradise968251851468220\n",
      "shakespeare-caesar258332163112310\n",
      "shakespeare-hamlet373603106162881\n",
      "shakespeare-macbeth231401907100351\n",
      "whitman-leaves1548834250711215\n"
     ]
    }
   ],
   "source": [
    "for file in gutenberg.fileids():\n",
    "    words = gutenberg.words(file)\n",
    "    sents = gutenberg.sents(file)\n",
    "    characters = gutenberg.raw(file)\n",
    "    \n",
    "    print('{}{}{}{}'.format(file[:-4], len(words), len(sents), len(characters)))"
   ]
  },
  {
   "cell_type": "markdown",
   "id": "7f6d3dc8-eca3-43fb-826a-ad3320530e9e",
   "metadata": {},
   "source": [
    "### NLTK ex\n",
    "- 1. shakespeare-caesar의 중복된 단어를 거르고 각 단어의 길이를 출력하시오.\n",
    "- 2. chesterton-thursday에서 길이가 4자 이하인 알파벳 중 ie를 포함하는 단어를 소문자로 출력하고, 개수를 세어라\n",
    "- 3. bryant-stories에서 ch로 끝나는 단어를 출력하는데, 중복 없이, 첫글자(모두 소문자)와 끝 ch만 남기고 가운데 글자들은 모두 -로 가려라.\n",
    "    - 예: much -> m-ch"
   ]
  },
  {
   "cell_type": "code",
   "execution_count": 26,
   "id": "2d74b95a-d95c-42fd-a8c7-9b5d5327423a",
   "metadata": {},
   "outputs": [
    {
     "data": {
      "text/plain": [
       "[5, 6, 9, 5, 4, 2, 6, 8, 6, 7]"
      ]
     },
     "execution_count": 26,
     "metadata": {},
     "output_type": "execute_result"
    }
   ],
   "source": [
    "ex = [len(word.lower()) for word in set((gutenberg.words('shakespeare-caesar.txt')))]\n",
    "ex[:10]"
   ]
  },
  {
   "cell_type": "markdown",
   "id": "e83c237b-25cd-4a51-962b-b815bf936130",
   "metadata": {},
   "source": [
    "### Brown \n",
    "- categories()"
   ]
  },
  {
   "cell_type": "code",
   "execution_count": 15,
   "id": "7c79d82c-f543-4ba9-a5b7-592b1efe6fca",
   "metadata": {},
   "outputs": [],
   "source": [
    "brown = nltk.corpus.brown"
   ]
  },
  {
   "cell_type": "code",
   "execution_count": 16,
   "id": "130352e6-26dc-4e4a-a4e9-9d88b6d66d23",
   "metadata": {},
   "outputs": [
    {
     "data": {
      "text/plain": [
       "['adventure',\n",
       " 'belles_lettres',\n",
       " 'editorial',\n",
       " 'fiction',\n",
       " 'government',\n",
       " 'hobbies',\n",
       " 'humor',\n",
       " 'learned',\n",
       " 'lore',\n",
       " 'mystery',\n",
       " 'news',\n",
       " 'religion',\n",
       " 'reviews',\n",
       " 'romance',\n",
       " 'science_fiction']"
      ]
     },
     "execution_count": 16,
     "metadata": {},
     "output_type": "execute_result"
    }
   ],
   "source": [
    "brown.categories()"
   ]
  },
  {
   "cell_type": "code",
   "execution_count": 17,
   "id": "e7c56b9e-7f8c-4ef8-bdca-6824b5079f7b",
   "metadata": {},
   "outputs": [],
   "source": [
    "fdist = nltk.FreqDist([w.lower() for w in brown.words(categories='adventure')])"
   ]
  },
  {
   "cell_type": "code",
   "execution_count": 18,
   "id": "0573cf6f-12b4-404e-9ac3-851f8329bb90",
   "metadata": {},
   "outputs": [
    {
     "data": {
      "text/plain": [
       "83"
      ]
     },
     "execution_count": 18,
     "metadata": {},
     "output_type": "execute_result"
    }
   ],
   "source": [
    "fdist['men']"
   ]
  },
  {
   "cell_type": "code",
   "execution_count": 19,
   "id": "d59b8261-b2f5-4085-a358-c45925df1d02",
   "metadata": {},
   "outputs": [
    {
     "name": "stdout",
     "output_type": "stream",
     "text": [
      "can 48\n",
      "could 154\n",
      "will 51\n",
      "would 194\n",
      "may 7\n",
      "might 59\n"
     ]
    }
   ],
   "source": [
    "# modal verbs\n",
    "modals = ['can', 'could', 'will', 'would', 'may', 'might']\n",
    "\n",
    "for verb in modals:\n",
    "    print(verb, fdist[verb])"
   ]
  },
  {
   "cell_type": "markdown",
   "id": "638fcfe3-ab19-4a9e-8c8b-439ae2c5f9fc",
   "metadata": {},
   "source": [
    "### conditional frequency distribution\n",
    "- 조건에 따른 fdist"
   ]
  },
  {
   "cell_type": "code",
   "execution_count": 26,
   "id": "4abf19af-2b1c-4ae4-87b7-7259c19c46d0",
   "metadata": {},
   "outputs": [],
   "source": [
    "cfd = nltk.ConditionalFreqDist(\n",
    "    #각 장르에 따른 frequency distribution을 만든다.\n",
    "    (genre, word.lower())\n",
    "    for genre in brown.categories()\n",
    "    for word in brown.words(categories = genre)\n",
    "    )"
   ]
  },
  {
   "cell_type": "code",
   "execution_count": 27,
   "id": "0591c689-f2fa-4cbf-98bf-320ff95b6060",
   "metadata": {},
   "outputs": [
    {
     "ename": "NameError",
     "evalue": "name 'cdf' is not defined",
     "output_type": "error",
     "traceback": [
      "\u001b[0;31m---------------------------------------------------------------------------\u001b[0m",
      "\u001b[0;31mNameError\u001b[0m                                 Traceback (most recent call last)",
      "\u001b[0;32m/var/folders/54/cstf0sh546x4t7shxfb0nv780000gn/T/ipykernel_74840/582503823.py\u001b[0m in \u001b[0;36m<module>\u001b[0;34m\u001b[0m\n\u001b[0;32m----> 1\u001b[0;31m \u001b[0mcdf\u001b[0m\u001b[0;34m[\u001b[0m\u001b[0;34m'romance'\u001b[0m\u001b[0;34m]\u001b[0m\u001b[0;34m[\u001b[0m\u001b[0;34m'love'\u001b[0m\u001b[0;34m]\u001b[0m\u001b[0;34m\u001b[0m\u001b[0;34m\u001b[0m\u001b[0m\n\u001b[0m",
      "\u001b[0;31mNameError\u001b[0m: name 'cdf' is not defined"
     ]
    }
   ],
   "source": [
    "cdf['romance']['love']"
   ]
  },
  {
   "cell_type": "code",
   "execution_count": null,
   "id": "649c1548-bd8f-43fa-a5b2-8b886cd56434",
   "metadata": {},
   "outputs": [],
   "source": []
  }
 ],
 "metadata": {
  "kernelspec": {
   "display_name": "Python 3 (ipykernel)",
   "language": "python",
   "name": "python3"
  },
  "language_info": {
   "codemirror_mode": {
    "name": "ipython",
    "version": 3
   },
   "file_extension": ".py",
   "mimetype": "text/x-python",
   "name": "python",
   "nbconvert_exporter": "python",
   "pygments_lexer": "ipython3",
   "version": "3.9.7"
  }
 },
 "nbformat": 4,
 "nbformat_minor": 5
}
