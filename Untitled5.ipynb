{
 "cells": [
  {
   "cell_type": "code",
   "execution_count": 2,
   "id": "7b11046d-bcd3-4277-8198-95faf6c80aec",
   "metadata": {},
   "outputs": [
    {
     "name": "stderr",
     "output_type": "stream",
     "text": [
      "[nltk_data] Downloading package brown to\n",
      "[nltk_data]     /Users/ahyeonyoun/nltk_data...\n",
      "[nltk_data]   Package brown is already up-to-date!\n",
      "[nltk_data] Downloading package inaugural to\n",
      "[nltk_data]     /Users/ahyeonyoun/nltk_data...\n",
      "[nltk_data]   Package inaugural is already up-to-date!\n"
     ]
    },
    {
     "data": {
      "text/plain": [
       "True"
      ]
     },
     "execution_count": 2,
     "metadata": {},
     "output_type": "execute_result"
    }
   ],
   "source": [
    "import nltk\n",
    "nltk.download(['brown','inaugural'])"
   ]
  },
  {
   "cell_type": "code",
   "execution_count": 3,
   "id": "6c47d0cb-1309-4f63-ade8-027a7b44377c",
   "metadata": {},
   "outputs": [],
   "source": [
    "brown = nltk.corpus.brown"
   ]
  },
  {
   "cell_type": "code",
   "execution_count": 4,
   "id": "191ffdde-0627-48cb-8cb9-13068522ea27",
   "metadata": {},
   "outputs": [
    {
     "name": "stdout",
     "output_type": "stream",
     "text": [
      "                  can could would  will might   may \n",
      "      adventure    46   151   191    50    58     5 \n",
      " belles_lettres   246   213   392   236   113   207 \n",
      "      editorial   121    56   180   233    39    74 \n",
      "        fiction    37   166   287    52    44     8 \n",
      "     government   117    38   120   244    13   153 \n",
      "        hobbies   268    58    78   264    22   131 \n",
      "          humor    16    30    56    13     8     8 \n",
      "        learned   365   159   319   340   128   324 \n",
      "           lore   170   141   186   175    49   165 \n",
      "        mystery    42   141   186    20    57    13 \n",
      "           news    93    86   244   389    38    66 \n",
      "       religion    82    59    68    71    12    78 \n",
      "        reviews    45    40    47    58    26    45 \n",
      "        romance    74   193   244    43    51    11 \n",
      "science_fiction    16    49    79    16    12     4 \n"
     ]
    }
   ],
   "source": [
    "#cfd\n",
    "cfd = nltk.ConditionalFreqDist(\n",
    "    (genre, word)\n",
    "    for genre in brown.categories()\n",
    "    for word in brown.words(categories=genre) #fileids\n",
    ")\n",
    "\n",
    "modals = ['can', 'could', 'would', 'will', 'might', 'may']\n",
    "cfd.tabulate(conditions=brown.categories(), samples=modals)"
   ]
  },
  {
   "cell_type": "code",
   "execution_count": 17,
   "id": "54c21c7f-c458-4f4a-88a7-7b832928e922",
   "metadata": {},
   "outputs": [
    {
     "name": "stdout",
     "output_type": "stream",
     "text": [
      "                  Can Could   May Might  Will Would   can could   may might  will would \n",
      "      adventure     2     3     2     1     1     3    46   151     5    58    50   191 \n",
      " belles_lettres     3     3    14     0    10     5   246   213   207   113   236   392 \n",
      "      editorial     3     1     5     0     2     5   121    56    74    39   233   180 \n",
      "        fiction     2     2     2     0     4     4    37   166     8    44    52   287 \n",
      "     government     2     0    26     0     0     0   117    38   153    13   244   120 \n",
      "        hobbies     8     1    12     0     5     5   268    58   131    22   264    78 \n",
      "          humor     1     3     0     0     0     0    16    30     8     8    13    56 \n",
      "        learned     2     0    12     0     0     2   365   159   324   128   340   319 \n",
      "           lore     0     1     5     1     3     2   170   141   165    49   175   186 \n",
      "        mystery     3     4     2     0     5     3    42   141    13    57    20   186 \n",
      "           news     1     1    27     0     0     2    93    86    66    38   389   244 \n",
      "       religion     2     0     1     0     1     1    82    59    78    12    71    68 \n",
      "        reviews     0     0     2     0     3     1    45    40    45    26    58    47 \n",
      "        romance     5     2     0     0     6     3    74   193    11    51    43   244 \n",
      "science_fiction     0     0     0     0     1     1    16    49     4    12    16    79 \n"
     ]
    }
   ],
   "source": [
    "#modals의 빈도수가 포함된 cfd (word -> modal_verb)\n",
    "cfd2 = nltk.ConditionalFreqDist(\n",
    "    (genre, word)\n",
    "    for genre in brown.categories()\n",
    "    for modal in ['can', 'could', 'would', 'will', 'might', 'may']\n",
    "    \n",
    "    for word in brown.words(categories=genre)\n",
    "        if word.lower() == modal\n",
    ")\n",
    "cfd2.tabulate()"
   ]
  },
  {
   "cell_type": "markdown",
   "id": "a0cbcbc1-0999-4f62-be3e-7f68e2f5a542",
   "metadata": {},
   "source": [
    "### Inaugural\n",
    "- 연설문 코퍼스"
   ]
  },
  {
   "cell_type": "code",
   "execution_count": 9,
   "id": "6b098267-cdcb-498e-9434-0895940957a4",
   "metadata": {},
   "outputs": [],
   "source": [
    "inaugural = nltk.corpus.inaugural"
   ]
  },
  {
   "cell_type": "code",
   "execution_count": 10,
   "id": "f84cc2fd-b90e-4195-ae87-d6f57cb540d9",
   "metadata": {
    "collapsed": true,
    "jupyter": {
     "outputs_hidden": true
    },
    "tags": []
   },
   "outputs": [
    {
     "data": {
      "text/plain": [
       "['1789-Washington.txt',\n",
       " '1793-Washington.txt',\n",
       " '1797-Adams.txt',\n",
       " '1801-Jefferson.txt',\n",
       " '1805-Jefferson.txt',\n",
       " '1809-Madison.txt',\n",
       " '1813-Madison.txt',\n",
       " '1817-Monroe.txt',\n",
       " '1821-Monroe.txt',\n",
       " '1825-Adams.txt',\n",
       " '1829-Jackson.txt',\n",
       " '1833-Jackson.txt',\n",
       " '1837-VanBuren.txt',\n",
       " '1841-Harrison.txt',\n",
       " '1845-Polk.txt',\n",
       " '1849-Taylor.txt',\n",
       " '1853-Pierce.txt',\n",
       " '1857-Buchanan.txt',\n",
       " '1861-Lincoln.txt',\n",
       " '1865-Lincoln.txt',\n",
       " '1869-Grant.txt',\n",
       " '1873-Grant.txt',\n",
       " '1877-Hayes.txt',\n",
       " '1881-Garfield.txt',\n",
       " '1885-Cleveland.txt',\n",
       " '1889-Harrison.txt',\n",
       " '1893-Cleveland.txt',\n",
       " '1897-McKinley.txt',\n",
       " '1901-McKinley.txt',\n",
       " '1905-Roosevelt.txt',\n",
       " '1909-Taft.txt',\n",
       " '1913-Wilson.txt',\n",
       " '1917-Wilson.txt',\n",
       " '1921-Harding.txt',\n",
       " '1925-Coolidge.txt',\n",
       " '1929-Hoover.txt',\n",
       " '1933-Roosevelt.txt',\n",
       " '1937-Roosevelt.txt',\n",
       " '1941-Roosevelt.txt',\n",
       " '1945-Roosevelt.txt',\n",
       " '1949-Truman.txt',\n",
       " '1953-Eisenhower.txt',\n",
       " '1957-Eisenhower.txt',\n",
       " '1961-Kennedy.txt',\n",
       " '1965-Johnson.txt',\n",
       " '1969-Nixon.txt',\n",
       " '1973-Nixon.txt',\n",
       " '1977-Carter.txt',\n",
       " '1981-Reagan.txt',\n",
       " '1985-Reagan.txt',\n",
       " '1989-Bush.txt',\n",
       " '1993-Clinton.txt',\n",
       " '1997-Clinton.txt',\n",
       " '2001-Bush.txt',\n",
       " '2005-Bush.txt',\n",
       " '2009-Obama.txt',\n",
       " '2013-Obama.txt',\n",
       " '2017-Trump.txt',\n",
       " '2021-Biden.txt']"
      ]
     },
     "execution_count": 10,
     "metadata": {},
     "output_type": "execute_result"
    }
   ],
   "source": [
    "inaugural.fileids() # 연도-이름.txt | '2021-Biden.txt'"
   ]
  },
  {
   "cell_type": "code",
   "execution_count": 11,
   "id": "8cb728f7-c5be-4984-8b6a-11cda29654dc",
   "metadata": {},
   "outputs": [
    {
     "name": "stdout",
     "output_type": "stream",
     "text": [
      "Requirement already satisfied: matplotlib in /Users/ahyeonyoun/opt/anaconda3/lib/python3.9/site-packages (3.4.3)\n",
      "Requirement already satisfied: cycler>=0.10 in /Users/ahyeonyoun/opt/anaconda3/lib/python3.9/site-packages (from matplotlib) (0.10.0)\n",
      "Requirement already satisfied: kiwisolver>=1.0.1 in /Users/ahyeonyoun/opt/anaconda3/lib/python3.9/site-packages (from matplotlib) (1.3.1)\n",
      "Requirement already satisfied: python-dateutil>=2.7 in /Users/ahyeonyoun/opt/anaconda3/lib/python3.9/site-packages (from matplotlib) (2.8.2)\n",
      "Requirement already satisfied: pillow>=6.2.0 in /Users/ahyeonyoun/opt/anaconda3/lib/python3.9/site-packages (from matplotlib) (8.4.0)\n",
      "Requirement already satisfied: numpy>=1.16 in /Users/ahyeonyoun/opt/anaconda3/lib/python3.9/site-packages (from matplotlib) (1.20.3)\n",
      "Requirement already satisfied: pyparsing>=2.2.1 in /Users/ahyeonyoun/opt/anaconda3/lib/python3.9/site-packages (from matplotlib) (3.0.4)\n",
      "Requirement already satisfied: six in /Users/ahyeonyoun/opt/anaconda3/lib/python3.9/site-packages (from cycler>=0.10->matplotlib) (1.16.0)\n"
     ]
    }
   ],
   "source": [
    "!pip install matplotlib"
   ]
  },
  {
   "cell_type": "code",
   "execution_count": 13,
   "id": "a6d12e57-9239-4464-bb70-6ca48dee11a3",
   "metadata": {},
   "outputs": [
    {
     "name": "stdout",
     "output_type": "stream",
     "text": [
      "        1793-Washington      1797-Adams     1817-Monroe     1821-Monroe      1825-Adams   1837-VanBuren   1841-Harrison     1853-Pierce   1857-Buchanan    1861-Lincoln      1869-Grant      1873-Grant      1877-Hayes   1881-Garfield  1885-Cleveland   1889-Harrison  1893-Cleveland       1909-Taft     1917-Wilson    1921-Harding   1925-Coolidge     1929-Hoover  1937-Roosevelt  1941-Roosevelt  1945-Roosevelt 1953-Eisenhower 1957-Eisenhower    1961-Kennedy    1965-Johnson      1969-Nixon      1973-Nixon     1977-Carter     1981-Reagan     1985-Reagan       1989-Bush    1993-Clinton    1997-Clinton       2001-Bush       2005-Bush      2009-Obama      2013-Obama      2017-Trump      2021-Biden \n",
      "america               1               5               0               2               0               1               0               0               1               0               0               0               0               1               0               0               0               4               2              15               8               6               1               7               1               3               5               2               3               6              21               2               6               7               7              19              15              11              20              10               8              20              20 \n",
      "citizen               0               1               5               0               1               1              11               1               0               1               2               1               1               2               5               3               3               0               0               0               2               2               1               1               0               3               0               0               3               0               0               0               0               0               1               0               1               1               1               0               2               0               0 \n"
     ]
    }
   ],
   "source": [
    "# ['america','citizen'] 빈도수를 cfd로 만드시오. == citizens, citizen's\n",
    "\n",
    "cfd2 = nltk.ConditionalFreqDist(\n",
    "    (target_word, fileid[:-4])\n",
    "    for fileid in inaugural.fileids()\n",
    "    for target_word in ['america','citizen']\n",
    "    \n",
    "    for word in inaugural.words(fileids = fileid)\n",
    "        if word.lower() == target_word\n",
    ")\n",
    "cfd2.tabulate()"
   ]
  },
  {
   "cell_type": "code",
   "execution_count": 14,
   "id": "71b7cd39-46f8-4daf-b19b-a83b08ade129",
   "metadata": {},
   "outputs": [
    {
     "data": {
      "text/plain": [
       "<bound method ConditionalFreqDist.plot of <ConditionalFreqDist with 2 conditions>>"
      ]
     },
     "execution_count": 14,
     "metadata": {},
     "output_type": "execute_result"
    }
   ],
   "source": [
    "cfd2.plot"
   ]
  },
  {
   "cell_type": "markdown",
   "id": "18842905-c567-464e-abf4-e1001e67f3b1",
   "metadata": {},
   "source": [
    "### Tuple&List\n",
    "- 불변 객체 vs. 가변 객체"
   ]
  },
  {
   "cell_type": "code",
   "execution_count": 22,
   "id": "67068293-4391-43ef-8b8e-8d1fbd096cc0",
   "metadata": {},
   "outputs": [
    {
     "data": {
      "text/plain": [
       "((), [])"
      ]
     },
     "execution_count": 22,
     "metadata": {},
     "output_type": "execute_result"
    }
   ],
   "source": [
    "#. 생성\n",
    "emptyT = ()\n",
    "emptyT = tuple()\n",
    "\n",
    "emptyL = []\n",
    "emptyL = list()\n",
    "\n",
    "emptyT, emptyL"
   ]
  },
  {
   "cell_type": "code",
   "execution_count": 24,
   "id": "788eb2c9-8f8c-461e-9cec-99267987b589",
   "metadata": {},
   "outputs": [],
   "source": [
    "#1. 1 요소 여러 개일 때\n",
    "alphabetT = ('a', 'b')\n",
    "alphabetT = 'a', 'b' \n",
    "alphabetT \n",
    "\n",
    "alphabetL = ['a', 'b']"
   ]
  },
  {
   "cell_type": "code",
   "execution_count": 25,
   "id": "aa907900-9012-4c27-a5f9-bb13f4a43aa9",
   "metadata": {},
   "outputs": [
    {
     "data": {
      "text/plain": [
       "str"
      ]
     },
     "execution_count": 25,
     "metadata": {},
     "output_type": "execute_result"
    }
   ],
   "source": [
    "#1.2. 요소 1개일 때 주의!\n",
    "alphaT = ('a')\n",
    "type(alphaT)"
   ]
  },
  {
   "cell_type": "code",
   "execution_count": 26,
   "id": "ceb9771b-fed0-4dc7-bee2-268ffeb7f8f4",
   "metadata": {},
   "outputs": [
    {
     "data": {
      "text/plain": [
       "tuple"
      ]
     },
     "execution_count": 26,
     "metadata": {},
     "output_type": "execute_result"
    }
   ],
   "source": [
    "alphaT = ('b',)\n",
    "type(alphaT)"
   ]
  },
  {
   "cell_type": "markdown",
   "id": "26ced330-42fd-41f2-a722-c1b6962bc62a",
   "metadata": {},
   "source": [
    "- packing: 한 변수에 여러 데이터를 할당하는 것.\n",
    "    - list, tuple 자체. a = [1, 2, 3, 4]\n",
    "- unpacking: 한 변수에 여러 데이터가 들어 있을 때 여러 변수에 나누는 것\n",
    "    - a='k', b='i', c='m'"
   ]
  },
  {
   "cell_type": "code",
   "execution_count": 27,
   "id": "42e414fa-1303-4a4d-ba9c-118994c22602",
   "metadata": {},
   "outputs": [
    {
     "data": {
      "text/plain": [
       "('k', 'i', 'm')"
      ]
     },
     "execution_count": 27,
     "metadata": {},
     "output_type": "execute_result"
    }
   ],
   "source": [
    "a, b, c = 'kim' #unpacking\n",
    "a, b, c"
   ]
  },
  {
   "cell_type": "code",
   "execution_count": 28,
   "id": "3bc2e44c-8463-4e1e-aca5-e3d895d14a51",
   "metadata": {},
   "outputs": [
    {
     "data": {
      "text/plain": [
       "('sky', 'abcd')"
      ]
     },
     "execution_count": 28,
     "metadata": {},
     "output_type": "execute_result"
    }
   ],
   "source": [
    "# 값 교환하기\n",
    "pwd = 'abcd'\n",
    "userId = 'sky'\n",
    "\"\"\"\n",
    "temp1 = userId\n",
    "temp2 = pwd\n",
    "pwd = temp1\n",
    "userId = temp2\"\"\"\n",
    "\n",
    "pwd, userId = userId, pwd\n",
    "pwd, userId"
   ]
  },
  {
   "cell_type": "code",
   "execution_count": 29,
   "id": "c50cbb14-bcd2-4e41-80ba-04a49ac13d49",
   "metadata": {},
   "outputs": [
    {
     "data": {
      "text/plain": [
       "(1, 2, 1, 2, 1, 2)"
      ]
     },
     "execution_count": 29,
     "metadata": {},
     "output_type": "execute_result"
    }
   ],
   "source": [
    "#연산\n",
    "('a',) + (1,2)\n",
    "(1,2) * 3"
   ]
  },
  {
   "cell_type": "code",
   "execution_count": 30,
   "id": "487c446d-6cd2-4505-9c00-83808df3b24e",
   "metadata": {},
   "outputs": [
    {
     "data": {
      "text/plain": [
       "(140311255523392, 140311258874688)"
      ]
     },
     "execution_count": 30,
     "metadata": {},
     "output_type": "execute_result"
    }
   ],
   "source": [
    "x = ('a',)\n",
    "y = (1, 2)\n",
    "id(x), id(x + y)"
   ]
  },
  {
   "cell_type": "code",
   "execution_count": 31,
   "id": "e24b9a27-b7cd-4cf7-89b1-ecdaa350446e",
   "metadata": {},
   "outputs": [
    {
     "data": {
      "text/plain": [
       "True"
      ]
     },
     "execution_count": 31,
     "metadata": {},
     "output_type": "execute_result"
    }
   ],
   "source": [
    "# 비교 - 두번째 인자끼리 비교\n",
    "x = 1, 2 \n",
    "y = 1, 6\n",
    "\n",
    "x < y"
   ]
  },
  {
   "cell_type": "code",
   "execution_count": 32,
   "id": "7b986557-0be7-4286-b0ab-59a20fe934a8",
   "metadata": {},
   "outputs": [
    {
     "name": "stdout",
     "output_type": "stream",
     "text": [
      "(1, 2)\n",
      "(1, 2)\n"
     ]
    }
   ],
   "source": [
    "#순회\n",
    "for i in x:\n",
    "    print(x)"
   ]
  },
  {
   "cell_type": "code",
   "execution_count": 33,
   "id": "b339ccf6-7566-41b5-9ceb-923486715dfa",
   "metadata": {},
   "outputs": [
    {
     "data": {
      "text/plain": [
       "[1, 2]"
      ]
     },
     "execution_count": 33,
     "metadata": {},
     "output_type": "execute_result"
    }
   ],
   "source": [
    "[i for i in x] #1"
   ]
  },
  {
   "cell_type": "code",
   "execution_count": null,
   "id": "d01eef71-d2f6-4fea-91a7-fc5759932729",
   "metadata": {},
   "outputs": [],
   "source": [
    "# tuple compregension이 있나요? - 아니요. list comprehension만 되는데 tuple로 변경 가능\n",
    "tuple([i for i in x]) #2\n",
    "*[i for i in x], #느림 #3"
   ]
  },
  {
   "cell_type": "code",
   "execution_count": 41,
   "id": "008ebbac-7067-4380-9c26-9aaa20f0fc01",
   "metadata": {},
   "outputs": [],
   "source": [
    "# 형 변환\n",
    "dog = 'dog'\n",
    "dogT = tuple(dog)"
   ]
  },
  {
   "cell_type": "code",
   "execution_count": 38,
   "id": "2750364f-62d2-4c27-afab-a9cb93c24d37",
   "metadata": {},
   "outputs": [
    {
     "data": {
      "text/plain": [
       "('dog',)"
      ]
     },
     "execution_count": 38,
     "metadata": {},
     "output_type": "execute_result"
    }
   ],
   "source": [
    "(dog,)"
   ]
  },
  {
   "cell_type": "code",
   "execution_count": 39,
   "id": "bb1c2a62-53bd-4df2-b579-f6effffcc188",
   "metadata": {},
   "outputs": [
    {
     "data": {
      "text/plain": [
       "['d', 'o', 'g']"
      ]
     },
     "execution_count": 39,
     "metadata": {},
     "output_type": "execute_result"
    }
   ],
   "source": [
    "list(dog)"
   ]
  },
  {
   "cell_type": "code",
   "execution_count": 42,
   "id": "92471cbe-cde8-463d-839c-4595149fd93c",
   "metadata": {},
   "outputs": [
    {
     "data": {
      "text/plain": [
       "'d'"
      ]
     },
     "execution_count": 42,
     "metadata": {},
     "output_type": "execute_result"
    }
   ],
   "source": [
    "#slicing도 동일하게 가능하다.\n",
    "dogT[0]"
   ]
  },
  {
   "cell_type": "code",
   "execution_count": 44,
   "id": "aa1df2ed-1041-4eef-af6c-3356484f8765",
   "metadata": {},
   "outputs": [
    {
     "data": {
      "text/plain": [
       "(1, 1, 1, 1)"
      ]
     },
     "execution_count": 44,
     "metadata": {},
     "output_type": "execute_result"
    }
   ],
   "source": [
    "(1, 1, 1, 1) # 튜플도 중복 가능하다."
   ]
  },
  {
   "cell_type": "markdown",
   "id": "d4f60f25-6223-4cd8-98c3-f3f168d8def3",
   "metadata": {},
   "source": [
    "[정리]\n",
    "- tuple 장점\n",
    "    - 변하지 않는 데이터 시퀀스를 만들 수 있다. 타인의 접근을 막는다.\n",
    "        - blue=1, white=2, ...\n",
    "    - 메모리 사용 적다.\n",
    "    \n",
    "- list 장점\n",
    "    - 튜플 장점 필요 없을 때 전부 리스트 사용\n",
    "    - 데이터를 순차적으로 파악할 때\n",
    "    - 중복 데이터를 쓸 수 있다는 점 vs. set"
   ]
  },
  {
   "cell_type": "markdown",
   "id": "2989cac4-a042-45ca-bf32-94eaf663a58b",
   "metadata": {},
   "source": [
    "### 리스트의 유용한 함수들\n",
    "- 변경, 삭제, 추가, \n",
    "- 리스트 컴프리핸션 업그레이드"
   ]
  },
  {
   "cell_type": "code",
   "execution_count": 45,
   "id": "62eb05ae-8e00-43d3-8da5-e79a1fc22d86",
   "metadata": {},
   "outputs": [
    {
     "data": {
      "text/plain": [
       "[0, 1, 2, 3, 4]"
      ]
     },
     "execution_count": 45,
     "metadata": {},
     "output_type": "execute_result"
    }
   ],
   "source": [
    "num = list(range(5))\n",
    "num"
   ]
  },
  {
   "cell_type": "code",
   "execution_count": 46,
   "id": "79f6e977-7f31-437a-aec4-40e0d6d54151",
   "metadata": {},
   "outputs": [],
   "source": [
    "#추가\n",
    "num.append(6) #마지막에 요소 추가"
   ]
  },
  {
   "cell_type": "code",
   "execution_count": 47,
   "id": "909ccb83-6dfd-40b7-9cdc-4fac0842a657",
   "metadata": {},
   "outputs": [
    {
     "data": {
      "text/plain": [
       "[0, 1, 2, 3, 4, 6]"
      ]
     },
     "execution_count": 47,
     "metadata": {},
     "output_type": "execute_result"
    }
   ],
   "source": [
    "num"
   ]
  },
  {
   "cell_type": "code",
   "execution_count": 49,
   "id": "68631526-f92c-4878-8dcf-36af25f53752",
   "metadata": {},
   "outputs": [
    {
     "data": {
      "text/plain": [
       "[8, 8, 0, 1, 2, 3, 4, 6]"
      ]
     },
     "execution_count": 49,
     "metadata": {},
     "output_type": "execute_result"
    }
   ],
   "source": [
    "# inser(index, item)\n",
    "num.insert(0, 8) # 앞에 8을 추가 하고 싶을 때\n",
    "num"
   ]
  },
  {
   "cell_type": "code",
   "execution_count": 51,
   "id": "50599c10-c734-4733-8e40-bac191a80487",
   "metadata": {},
   "outputs": [
    {
     "data": {
      "text/plain": [
       "[8, 8, 0, 1, 2, 3, 4, 6, 6, 6, 6, 6, 6, 6]"
      ]
     },
     "execution_count": 51,
     "metadata": {},
     "output_type": "execute_result"
    }
   ],
   "source": [
    "#여러 개 추가하고 싶을 때\n",
    "num.extend([6, 6, 6]) # 확장할 때는 list를 사용하여, 리스트를 리스트로 확장하는 것.\n",
    "num"
   ]
  },
  {
   "cell_type": "code",
   "execution_count": 52,
   "id": "31fdb829-f2a4-4c2b-b7c4-1102b8decee6",
   "metadata": {},
   "outputs": [
    {
     "data": {
      "text/plain": [
       "[8, 8, 0, 1, 2, 3, 4, 6, 6, 6, 6, 6, 6, 6, 6, 6, 6]"
      ]
     },
     "execution_count": 52,
     "metadata": {},
     "output_type": "execute_result"
    }
   ],
   "source": [
    "x = [6, 6, 6]\n",
    "num.extend(x)\n",
    "num"
   ]
  },
  {
   "cell_type": "code",
   "execution_count": 53,
   "id": "fbb76719-67b2-4f89-b51a-ccea4ffe6a3c",
   "metadata": {},
   "outputs": [
    {
     "data": {
      "text/plain": [
       "[8, 8, 0, 1, 2, 3, 4, 6, 6, 6, 6, 6, 6, 6, 6, 6, 6, [6, 6, 6]]"
      ]
     },
     "execution_count": 53,
     "metadata": {},
     "output_type": "execute_result"
    }
   ],
   "source": [
    "num.append(x) # append에 list를 쓰면 list로 바로 들어가기 때문에 잘 구분해서 사용해야 함\n",
    "num"
   ]
  },
  {
   "cell_type": "code",
   "execution_count": 54,
   "id": "74ec2f78-eb7a-4c4d-8184-27db9f2452ab",
   "metadata": {},
   "outputs": [
    {
     "data": {
      "text/plain": [
       "[8, 8, 0, 1, 2, 3, 4, 6, 6, 6, 6, 6, 6, 6, 6, 6, 6, [6, 6, 6], 6, 6, 6]"
      ]
     },
     "execution_count": 54,
     "metadata": {},
     "output_type": "execute_result"
    }
   ],
   "source": [
    "num += x\n",
    "num"
   ]
  },
  {
   "cell_type": "code",
   "execution_count": 55,
   "id": "37d5a0f1-c161-46a8-89bb-493ede7e9310",
   "metadata": {},
   "outputs": [
    {
     "data": {
      "text/plain": [
       "[9, 8, 0, 1, 2, 3, 4, 6, 6, 6, 6, 6, 6, 6, 6, 6, 6, [6, 6, 6], 6, 6, 6]"
      ]
     },
     "execution_count": 55,
     "metadata": {},
     "output_type": "execute_result"
    }
   ],
   "source": [
    "# offset\n",
    "num[0] = 9\n",
    "num"
   ]
  },
  {
   "cell_type": "code",
   "execution_count": 56,
   "id": "61310023-e3dc-41b8-a28f-a6404f877a88",
   "metadata": {},
   "outputs": [
    {
     "data": {
      "text/plain": [
       "[2, 2, 2, 1, 2, 3, 4, 6, 6, 6, 6, 6, 6, 6, 6, 6, 6, [6, 6, 6], 6, 6, 6]"
      ]
     },
     "execution_count": 56,
     "metadata": {},
     "output_type": "execute_result"
    }
   ],
   "source": [
    "# slice\n",
    "num[:3] = 2, 2, 2\n",
    "num"
   ]
  },
  {
   "cell_type": "code",
   "execution_count": 58,
   "id": "0b4dd051-36e1-4eda-9eee-924361038fe5",
   "metadata": {},
   "outputs": [
    {
     "data": {
      "text/plain": [
       "['c', 'a', 't', 1, 2, 3, 4, 6, 6, 6, 6, 6, 6, 6, 6, 6, 6, [6, 6, 6], 6, 6, 6]"
      ]
     },
     "execution_count": 58,
     "metadata": {},
     "output_type": "execute_result"
    }
   ],
   "source": [
    "num[:3] = 'cat' # 하나하나씩 unpacking이 되어서 들어가기 때문에 주의\n",
    "num"
   ]
  },
  {
   "cell_type": "code",
   "execution_count": 59,
   "id": "5ae29dbd-e72b-4611-958a-e092dde718d8",
   "metadata": {},
   "outputs": [
    {
     "data": {
      "text/plain": [
       "[1, 2, 3, 4, 6, 6, 6, 6, 6, 6, 6, 6, 6, 6, [6, 6, 6], 6, 6, 6]"
      ]
     },
     "execution_count": 59,
     "metadata": {},
     "output_type": "execute_result"
    }
   ],
   "source": [
    "# 삭제\n",
    "del num[:3]\n",
    "num"
   ]
  },
  {
   "cell_type": "code",
   "execution_count": 62,
   "id": "4d5560ed-e8a3-4691-9f51-b956f89639dc",
   "metadata": {},
   "outputs": [
    {
     "data": {
      "text/plain": [
       "[1, 3, 4, 6, 6, 6, 6, 6, 6, 6, 6, 6, 6, 6, 6]"
      ]
     },
     "execution_count": 62,
     "metadata": {},
     "output_type": "execute_result"
    }
   ],
   "source": [
    "# remove(value) #원하는 특정한 값을 넣어주면 됨.\n",
    "num.remove([6, 6, 6])\n",
    "num"
   ]
  },
  {
   "cell_type": "code",
   "execution_count": 63,
   "id": "2613cb85-97f7-4889-b90c-28fe33c953c2",
   "metadata": {},
   "outputs": [
    {
     "data": {
      "text/plain": [
       "[1, 3, 4, 6, 6, 6, 6, 6, 6, 6, 6, 6, 6, 6]"
      ]
     },
     "execution_count": 63,
     "metadata": {},
     "output_type": "execute_result"
    }
   ],
   "source": [
    "#pop(index) 기본값=-1\n",
    "num.pop()\n",
    "num"
   ]
  },
  {
   "cell_type": "code",
   "execution_count": 64,
   "id": "3c98a05a-52aa-443a-96a9-fed5d76059c7",
   "metadata": {},
   "outputs": [
    {
     "data": {
      "text/plain": [
       "[3, 4, 6, 6, 6, 6, 6, 6, 6, 6, 6, 6, 6]"
      ]
     },
     "execution_count": 64,
     "metadata": {},
     "output_type": "execute_result"
    }
   ],
   "source": [
    "num.pop(0)\n",
    "num"
   ]
  },
  {
   "cell_type": "code",
   "execution_count": 65,
   "id": "49da7598-a574-4b43-a41f-bd4845ed2681",
   "metadata": {},
   "outputs": [
    {
     "data": {
      "text/plain": [
       "[]"
      ]
     },
     "execution_count": 65,
     "metadata": {},
     "output_type": "execute_result"
    }
   ],
   "source": [
    "#clear\n",
    "num.clear()\n",
    "num"
   ]
  },
  {
   "cell_type": "code",
   "execution_count": 66,
   "id": "25bb46b6-9ddb-4dce-805c-392547387988",
   "metadata": {},
   "outputs": [
    {
     "data": {
      "text/plain": [
       "4"
      ]
     },
     "execution_count": 66,
     "metadata": {},
     "output_type": "execute_result"
    }
   ],
   "source": [
    "# 인덱스\n",
    "num = list(range(5))\n",
    "num.index(4)"
   ]
  },
  {
   "cell_type": "code",
   "execution_count": 67,
   "id": "bb43023a-2f64-4759-a605-e720a5337030",
   "metadata": {},
   "outputs": [
    {
     "data": {
      "text/plain": [
       "True"
      ]
     },
     "execution_count": 67,
     "metadata": {},
     "output_type": "execute_result"
    }
   ],
   "source": [
    "0 in num"
   ]
  },
  {
   "cell_type": "code",
   "execution_count": 69,
   "id": "63142d2d-2ac6-4068-8548-d9a54d96c8d2",
   "metadata": {},
   "outputs": [
    {
     "data": {
      "text/plain": [
       "[4, 3, 2, 1, 0]"
      ]
     },
     "execution_count": 69,
     "metadata": {},
     "output_type": "execute_result"
    }
   ],
   "source": [
    "# 정렬:sort(), sorted()\n",
    "sorted(num, reverse=True) #변한 값만 복사해서 출력"
   ]
  },
  {
   "cell_type": "code",
   "execution_count": 70,
   "id": "8b65896a-88d4-4b55-9029-facda3152e3f",
   "metadata": {},
   "outputs": [
    {
     "data": {
      "text/plain": [
       "[0, 1, 2, 3, 4]"
      ]
     },
     "execution_count": 70,
     "metadata": {},
     "output_type": "execute_result"
    }
   ],
   "source": [
    "num # 따라서 변환 안됨"
   ]
  },
  {
   "cell_type": "code",
   "execution_count": 71,
   "id": "8bcb8bd1-8b22-4468-b3fd-13d8db785e8f",
   "metadata": {},
   "outputs": [],
   "source": [
    "num.sort(reverse=True) #리스트.sort(), 값을 할당하지 않아도 된다. "
   ]
  },
  {
   "cell_type": "code",
   "execution_count": 72,
   "id": "3a6ef229-9a31-4609-a7e5-99e03eb175ea",
   "metadata": {},
   "outputs": [
    {
     "data": {
      "text/plain": [
       "[4, 3, 2, 1, 0]"
      ]
     },
     "execution_count": 72,
     "metadata": {},
     "output_type": "execute_result"
    }
   ],
   "source": [
    "num"
   ]
  },
  {
   "cell_type": "code",
   "execution_count": 73,
   "id": "b641c177-5d6e-4144-a6a1-ebf1ae9a1d84",
   "metadata": {},
   "outputs": [
    {
     "data": {
      "text/plain": [
       "<list_reverseiterator at 0x7f9cc28c5c40>"
      ]
     },
     "execution_count": 73,
     "metadata": {},
     "output_type": "execute_result"
    }
   ],
   "source": [
    "# reverse(), reversed()\n",
    "num.reverse()\n",
    "reversed(num)"
   ]
  },
  {
   "cell_type": "code",
   "execution_count": 74,
   "id": "898973aa-90b8-4648-aaab-285948d0387d",
   "metadata": {},
   "outputs": [
    {
     "data": {
      "text/plain": [
       "[1, 2, 3, 4]"
      ]
     },
     "execution_count": 74,
     "metadata": {},
     "output_type": "execute_result"
    }
   ],
   "source": [
    "# 할당\n",
    "a = list(range(1, 5))\n",
    "a"
   ]
  },
  {
   "cell_type": "code",
   "execution_count": 75,
   "id": "0e49acc1-a56e-4b23-a8ae-a66a6c0b54ba",
   "metadata": {},
   "outputs": [
    {
     "data": {
      "text/plain": [
       "([6, 2, 3, 4], [6, 2, 3, 4])"
      ]
     },
     "execution_count": 75,
     "metadata": {},
     "output_type": "execute_result"
    }
   ],
   "source": [
    "b = a #메모리주소를 참조하는 것\n",
    "b[0] = 6\n",
    "a, b"
   ]
  },
  {
   "cell_type": "code",
   "execution_count": 76,
   "id": "721a8ffa-2771-4ea4-8aa7-1e1186cfe5f7",
   "metadata": {},
   "outputs": [
    {
     "data": {
      "text/plain": [
       "(140311271350080, 140311271350080)"
      ]
     },
     "execution_count": 76,
     "metadata": {},
     "output_type": "execute_result"
    }
   ],
   "source": [
    "id(a), id(b)"
   ]
  },
  {
   "cell_type": "code",
   "execution_count": 77,
   "id": "fd07d7c9-d0e9-4573-984e-21b2ba33debb",
   "metadata": {},
   "outputs": [
    {
     "data": {
      "text/plain": [
       "(140311271350080, 140311266050560, 140311270816768, 140311271533760)"
      ]
     },
     "execution_count": 77,
     "metadata": {},
     "output_type": "execute_result"
    }
   ],
   "source": [
    "# shallow copy: 참조하지 않고 새로운 객체에 할당하는 방법, 얕은 복사\n",
    "c = a.copy()\n",
    "d = list(a)\n",
    "e = a[:]\n",
    "\n",
    "id(a), id(c), id(d), id(e)"
   ]
  },
  {
   "cell_type": "code",
   "execution_count": 82,
   "id": "1f1be72e-1c21-407b-8aa7-2fdaf5f7564a",
   "metadata": {},
   "outputs": [
    {
     "data": {
      "text/plain": [
       "[6, 2, 3, 4, [1, 2, 3], [1, 2, 3]]"
      ]
     },
     "execution_count": 82,
     "metadata": {},
     "output_type": "execute_result"
    }
   ],
   "source": [
    "# deepcopy: 깊은 복사, 하위에 중첩된 리스트 요소가 안 바뀌도록\n",
    "a. append([1, 2, 3])\n",
    "a"
   ]
  },
  {
   "cell_type": "code",
   "execution_count": 83,
   "id": "ad605a3e-d8a3-45df-846a-ecebb43b6436",
   "metadata": {},
   "outputs": [
    {
     "data": {
      "text/plain": [
       "(140311271350080, 140311486242240)"
      ]
     },
     "execution_count": 83,
     "metadata": {},
     "output_type": "execute_result"
    }
   ],
   "source": [
    "f = a.copy()\n",
    "id(a), id(f)"
   ]
  },
  {
   "cell_type": "code",
   "execution_count": 84,
   "id": "b71c6a8f-79a8-462b-a635-ad4a4f934151",
   "metadata": {},
   "outputs": [
    {
     "data": {
      "text/plain": [
       "([6, 2, 3, 4, [1, 2, 3], [9, 2, 3]], [6, 2, 3, 4, [1, 2, 3], [9, 2, 3]])"
      ]
     },
     "execution_count": 84,
     "metadata": {},
     "output_type": "execute_result"
    }
   ],
   "source": [
    "f[-1][0] = 9\n",
    "a, f"
   ]
  },
  {
   "cell_type": "code",
   "execution_count": 85,
   "id": "a6c0b7ee-da9f-4e23-9514-620c37e25d9d",
   "metadata": {},
   "outputs": [
    {
     "data": {
      "text/plain": [
       "[6, 2, 3, 4, [1, 2, 3], [9, 2, 3]]"
      ]
     },
     "execution_count": 85,
     "metadata": {},
     "output_type": "execute_result"
    }
   ],
   "source": [
    "import copy\n",
    "g = copy.deepcopy(a)\n",
    "g"
   ]
  },
  {
   "cell_type": "code",
   "execution_count": 86,
   "id": "6c50ca7d-ed6b-4735-9d4b-4da9bd37361a",
   "metadata": {},
   "outputs": [
    {
     "data": {
      "text/plain": [
       "([6, 2, 3, 4, [1, 2, 3], [9, 2, 3]], [6, 2, 3, 4, [1, 2, 3], [10, 2, 3]])"
      ]
     },
     "execution_count": 86,
     "metadata": {},
     "output_type": "execute_result"
    }
   ],
   "source": [
    "g[-1][0] = 10\n",
    "a, g"
   ]
  },
  {
   "cell_type": "code",
   "execution_count": 87,
   "id": "a9fce414-a333-4624-b1d9-9adf7e8480bf",
   "metadata": {},
   "outputs": [
    {
     "name": "stdout",
     "output_type": "stream",
     "text": [
      "('kate', 77)\n",
      "('royce', 44)\n",
      "('phill', 54)\n"
     ]
    }
   ],
   "source": [
    "# 순회: zip, enumerate\n",
    "name = ['kate', 'royce', 'phill']\n",
    "age = [77, 44, 54]\n",
    "\n",
    "# (name, age)\n",
    "for item1, item2 in zip(name, age): # 여러 리스트를 동시에 순회 for loop과는 다름\n",
    "    print((item1, item2))"
   ]
  },
  {
   "cell_type": "code",
   "execution_count": 88,
   "id": "21a667a3-745f-4ad7-8969-f847ef79037b",
   "metadata": {},
   "outputs": [
    {
     "name": "stdout",
     "output_type": "stream",
     "text": [
      "('phill', 77)\n",
      "('phill', 44)\n",
      "('phill', 54)\n",
      "('phill', 77)\n",
      "('phill', 44)\n",
      "('phill', 54)\n",
      "('phill', 77)\n",
      "('phill', 44)\n",
      "('phill', 54)\n"
     ]
    }
   ],
   "source": [
    "for item in name:\n",
    "    for item2 in age:\n",
    "        print((item1, item2))"
   ]
  },
  {
   "cell_type": "code",
   "execution_count": 89,
   "id": "1526bb77-775c-4c43-b476-a17c5b350dc0",
   "metadata": {},
   "outputs": [
    {
     "data": {
      "text/plain": [
       "[('kate', 77), ('royce', 44), ('phill', 54)]"
      ]
     },
     "execution_count": 89,
     "metadata": {},
     "output_type": "execute_result"
    }
   ],
   "source": [
    "list(zip(name, age)) # 이렇게 쉽게 할 수도 있음"
   ]
  },
  {
   "cell_type": "code",
   "execution_count": 90,
   "id": "09b0f819-f1cf-4587-9596-09508ceea4d2",
   "metadata": {},
   "outputs": [
    {
     "name": "stdout",
     "output_type": "stream",
     "text": [
      "0 kate\n",
      "1 royce\n",
      "2 phill\n"
     ]
    }
   ],
   "source": [
    "# 리스트 + 인덱스 enumerate\n",
    "for idx, item in enumerate(name):\n",
    "    print(idx, item)"
   ]
  },
  {
   "cell_type": "code",
   "execution_count": 93,
   "id": "49296b73-dfc5-4230-b9c9-a996126018b8",
   "metadata": {},
   "outputs": [
    {
     "data": {
      "text/plain": [
       "[('kate', 77), ('royce', 44), ('phill', 54)]"
      ]
     },
     "execution_count": 93,
     "metadata": {},
     "output_type": "execute_result"
    }
   ],
   "source": [
    "# 리스트 컴프리핸션으로 바꾸면?\n",
    "# list(zip(name, age))\n",
    "[word for word in zip(name, age)]"
   ]
  },
  {
   "cell_type": "code",
   "execution_count": 94,
   "id": "1bd6ba82-59b7-4f10-beb3-b85c00fe5fbc",
   "metadata": {},
   "outputs": [
    {
     "data": {
      "text/plain": [
       "[('kate', 110), ('royce', 77), ('phill', 87)]"
      ]
     },
     "execution_count": 94,
     "metadata": {},
     "output_type": "execute_result"
    }
   ],
   "source": [
    "[(i, j+33) for i, j in zip(name, age)]"
   ]
  },
  {
   "cell_type": "code",
   "execution_count": 96,
   "id": "7aac46a7-0171-4104-8d38-288037d18d69",
   "metadata": {},
   "outputs": [
    {
     "name": "stdout",
     "output_type": "stream",
     "text": [
      "[('kate', 77), ('royce', 44), ('phill', 54)]\n"
     ]
    }
   ],
   "source": [
    "# name, age를 이용해서 새로운 리스트를 생성하는데 (이름, 나이), for문 사용(리.컴 사용X)\n",
    "\n",
    "new_list = []\n",
    "for i, j in zip(name, age):\n",
    "    new_list.append((i, j)) #append 사용\n",
    "print(new_list)"
   ]
  },
  {
   "cell_type": "code",
   "execution_count": null,
   "id": "8491ce2e-16b3-47f8-9240-c79b15b6d2d7",
   "metadata": {},
   "outputs": [],
   "source": [
    "[(i, j) for i, j in zip(name, age)]"
   ]
  },
  {
   "cell_type": "code",
   "execution_count": 99,
   "id": "5b1ada7d-16be-41f1-9499-f806c3cdd5b4",
   "metadata": {},
   "outputs": [
    {
     "name": "stdout",
     "output_type": "stream",
     "text": [
      "kate 77\n",
      "kate 44\n",
      "kate 54\n",
      "royce 77\n",
      "royce 44\n",
      "royce 54\n",
      "phill 77\n",
      "phill 44\n",
      "phill 54\n"
     ]
    },
    {
     "data": {
      "text/plain": [
       "'\\n(kate, 77),\\n(kate, 44),\\n(kate, 54),\\n'"
      ]
     },
     "execution_count": 99,
     "metadata": {},
     "output_type": "execute_result"
    }
   ],
   "source": [
    "#1. for 문의 리스트 컴프리핸션으로 바꿔보기\n",
    "temp = []\n",
    "for i in name:\n",
    "    empty = []\n",
    "    for j in age:\n",
    "        print(i, j)\n",
    "        temp.append((i, j))\n",
    "        \n",
    "\"\"\"\n",
    "(kate, 77),\n",
    "(kate, 44),\n",
    "(kate, 54),\n",
    "\"\"\""
   ]
  },
  {
   "cell_type": "code",
   "execution_count": 98,
   "id": "188e923e-095a-468c-aa1c-3e8280751b18",
   "metadata": {},
   "outputs": [
    {
     "data": {
      "text/plain": [
       "[('kate', 77),\n",
       " ('royce', 77),\n",
       " ('phill', 77),\n",
       " ('kate', 44),\n",
       " ('royce', 44),\n",
       " ('phill', 44),\n",
       " ('kate', 54),\n",
       " ('royce', 54),\n",
       " ('phill', 54)]"
      ]
     },
     "execution_count": 98,
     "metadata": {},
     "output_type": "execute_result"
    }
   ],
   "source": [
    "[(i, j) for j in age for i in name]"
   ]
  },
  {
   "cell_type": "code",
   "execution_count": 101,
   "id": "00daaf93-5c6c-41c9-91b0-4c3e08f0e1fd",
   "metadata": {},
   "outputs": [
    {
     "name": "stdout",
     "output_type": "stream",
     "text": [
      "kate 77\n",
      "kate 44\n",
      "kate 54\n",
      "royce 77\n",
      "royce 44\n",
      "royce 54\n",
      "phill 77\n",
      "phill 44\n",
      "phill 54\n"
     ]
    },
    {
     "data": {
      "text/plain": [
       "\"\\n[('kate', 77), ('royce', 77), ('phill', 77)],\\n('kate', 44), ('royce', 44), ('phill', 44)],\\n('kate', 54), ('royce', 54), ('phill', 54)],\\n('kate', 99), ('royce', 99), ('phill', 99)]]\\n\""
      ]
     },
     "execution_count": 101,
     "metadata": {},
     "output_type": "execute_result"
    }
   ],
   "source": [
    "#2. [i, j] 리스트의 리스트로 바꿔보기 (리스트 컴프리핸션으로)\n",
    "\n",
    "for i in name:\n",
    "    empty = []\n",
    "    for j in age:\n",
    "        print(i, j)\n",
    "        empty.append((i, j))\n",
    "        \n",
    "\"\"\"\n",
    "[('kate', 77), ('royce', 77), ('phill', 77)],\n",
    "('kate', 44), ('royce', 44), ('phill', 44)],\n",
    "('kate', 54), ('royce', 54), ('phill', 54)],\n",
    "('kate', 99), ('royce', 99), ('phill', 99)]]\n",
    "\"\"\""
   ]
  },
  {
   "cell_type": "code",
   "execution_count": null,
   "id": "5b6f2f11-4ba9-4f4f-a240-b04cc7b4d78c",
   "metadata": {},
   "outputs": [],
   "source": [
    "# [(i, j) for j in age for i in name] -->를 for문으로 바꿨을 때\n",
    "\n",
    "for i in name:\n",
    "    for i in age:\n",
    "        print([i, j])"
   ]
  },
  {
   "cell_type": "code",
   "execution_count": 100,
   "id": "821020a8-0d7a-4995-8553-74972a67f209",
   "metadata": {},
   "outputs": [
    {
     "data": {
      "text/plain": [
       "[[('kate', 77), ('kate', 44), ('kate', 54)],\n",
       " [('royce', 77), ('royce', 44), ('royce', 54)],\n",
       " [('phill', 77), ('phill', 44), ('phill', 54)]]"
      ]
     },
     "execution_count": 100,
     "metadata": {},
     "output_type": "execute_result"
    }
   ],
   "source": [
    "[[(i, j) for j in age] for i in name]"
   ]
  },
  {
   "cell_type": "code",
   "execution_count": 104,
   "id": "0312d84b-7f60-4361-a31d-1e718f498fcd",
   "metadata": {},
   "outputs": [
    {
     "data": {
      "text/plain": [
       "[('DO', 'Do', 2),\n",
       " ('NOT', 'Not', 3),\n",
       " ('JUDGE', 'Judge', 5),\n",
       " ('A', 'A', 1),\n",
       " ('BOOK', 'Book', 4),\n",
       " ('BY', 'By', 2),\n",
       " ('ITS', 'Its', 3),\n",
       " ('COVER', 'Cover', 5)]"
      ]
     },
     "execution_count": 104,
     "metadata": {},
     "output_type": "execute_result"
    }
   ],
   "source": [
    "sentence = \"do not judge a book by its cover\"\n",
    "\n",
    "#[(대문자, 첫글자대문자, 글자수),...] 로 되어 있는 튜플의 리스트 만들기\n",
    "[(word.upper(), word.title(), len(word)) for word in sentence.split()]"
   ]
  },
  {
   "cell_type": "code",
   "execution_count": 111,
   "id": "369d6a7d-0d5b-462d-aefb-0d0f07f19504",
   "metadata": {},
   "outputs": [],
   "source": [
    "text= [\n",
    "    ['Sunja', 'said', 'goodnight', 'to', 'her', 'mother'],\n",
    "    ['Hansu', 'was', 'no', 'longer', 'in', 'Busan']\n",
    "]\n"
   ]
  },
  {
   "cell_type": "code",
   "execution_count": null,
   "id": "9fdeaa3d-f946-40b4-b5b5-5f4471438da8",
   "metadata": {},
   "outputs": [],
   "source": [
    "#1. 문장마다 스트링으로 변화해서 리스트로 반환\n",
    "    #['문장1', '문장2']\n",
    "    \n",
    "#2. 전체를 스트링으로 반환\n",
    "    #'문장1 문장2'\n",
    "\n",
    "#3. 전체 단어 리스트 가져오기\n",
    "    # [sunja, said, goodnight, ....]"
   ]
  },
  {
   "cell_type": "code",
   "execution_count": null,
   "id": "aba4fc48-765c-4802-8970-2bf85d2b62a8",
   "metadata": {},
   "outputs": [],
   "source": [
    "[sent for sent in text] # 이것이 리.컨의 기본형"
   ]
  },
  {
   "cell_type": "code",
   "execution_count": null,
   "id": "6639d664-37b3-4a90-a66a-26337ece970e",
   "metadata": {},
   "outputs": [],
   "source": [
    "[sent for sent in text]"
   ]
  },
  {
   "cell_type": "code",
   "execution_count": 112,
   "id": "1c315587-ba9b-44cf-81c8-91070d119eea",
   "metadata": {},
   "outputs": [
    {
     "data": {
      "text/plain": [
       "'Sunja said goodnight to her mother Hansu was no longer in Busan'"
      ]
     },
     "execution_count": 112,
     "metadata": {},
     "output_type": "execute_result"
    }
   ],
   "source": [
    "' '.join([' '.join(sent) for sent in text]) \n",
    "# 2번 "
   ]
  },
  {
   "cell_type": "code",
   "execution_count": 113,
   "id": "1e1a69fc-0bba-4e51-8099-7ca6bb4a6999",
   "metadata": {},
   "outputs": [
    {
     "data": {
      "text/plain": [
       "['Sunja',\n",
       " 'said',\n",
       " 'goodnight',\n",
       " 'to',\n",
       " 'her',\n",
       " 'mother',\n",
       " 'Hansu',\n",
       " 'was',\n",
       " 'no',\n",
       " 'longer',\n",
       " 'in',\n",
       " 'Busan']"
      ]
     },
     "execution_count": 113,
     "metadata": {},
     "output_type": "execute_result"
    }
   ],
   "source": [
    "[word for sent in text for word in sent] #3번"
   ]
  },
  {
   "cell_type": "code",
   "execution_count": 114,
   "id": "93e1e14a-8551-4265-adbc-5577230864fb",
   "metadata": {},
   "outputs": [
    {
     "data": {
      "text/plain": [
       "[0, 1, 2, 3, 4, 5, 6, 7, 8, 9]"
      ]
     },
     "execution_count": 114,
     "metadata": {},
     "output_type": "execute_result"
    }
   ],
   "source": [
    "# if 문 -else\n",
    "[i for i in range(10)] # 짝수면 가져오고, 홀수면 '홀수'로 한다"
   ]
  },
  {
   "cell_type": "code",
   "execution_count": 15,
   "id": "e2114654-19e8-498c-bb6c-3c608adb3b8a",
   "metadata": {},
   "outputs": [
    {
     "ename": "SyntaxError",
     "evalue": "invalid syntax (588876903.py, line 1)",
     "output_type": "error",
     "traceback": [
      "\u001b[0;36m  File \u001b[0;32m\"/var/folders/54/cstf0sh546x4t7shxfb0nv780000gn/T/ipykernel_1306/588876903.py\"\u001b[0;36m, line \u001b[0;32m1\u001b[0m\n\u001b[0;31m    [i for i in range(10) if i%2 == 0 else '홀수'] #nope\u001b[0m\n\u001b[0m                                      ^\u001b[0m\n\u001b[0;31mSyntaxError\u001b[0m\u001b[0;31m:\u001b[0m invalid syntax\n"
     ]
    }
   ],
   "source": [
    "[i for i in range(10) if i%2 == 0 else '홀수'] #nope"
   ]
  },
  {
   "cell_type": "code",
   "execution_count": 116,
   "id": "6a1be298-fe38-4157-a6fa-9c1dd99adf8e",
   "metadata": {},
   "outputs": [
    {
     "data": {
      "text/plain": [
       "[0, '홀수', 2, '홀수', 4, '홀수', 6, '홀수', 8, '홀수']"
      ]
     },
     "execution_count": 116,
     "metadata": {},
     "output_type": "execute_result"
    }
   ],
   "source": [
    "[i if i%2 == 0 else '홀수' for i in range(10)]"
   ]
  },
  {
   "cell_type": "code",
   "execution_count": 117,
   "id": "82bfa566-98e2-4f02-9ce7-7b5e20c21778",
   "metadata": {},
   "outputs": [],
   "source": [
    "#inaugural 정제하기"
   ]
  },
  {
   "cell_type": "code",
   "execution_count": 118,
   "id": "d78aa782-8229-471c-aa20-7de4431971ed",
   "metadata": {},
   "outputs": [
    {
     "name": "stderr",
     "output_type": "stream",
     "text": [
      "[nltk_data] Error loading inauhural: Package 'inauhural' not found in\n",
      "[nltk_data]     index\n"
     ]
    }
   ],
   "source": [
    "import nltk\n",
    "nltk.download('brown')\n",
    "inaugural = nltk.corpus.inaugural"
   ]
  },
  {
   "cell_type": "code",
   "execution_count": 120,
   "id": "609aa259-9437-4bf3-a309-2b37e3ae2613",
   "metadata": {},
   "outputs": [
    {
     "data": {
      "text/plain": [
       "['adventure',\n",
       " 'belles_lettres',\n",
       " 'editorial',\n",
       " 'fiction',\n",
       " 'government',\n",
       " 'hobbies',\n",
       " 'humor',\n",
       " 'learned',\n",
       " 'lore',\n",
       " 'mystery',\n",
       " 'news',\n",
       " 'religion',\n",
       " 'reviews',\n",
       " 'romance',\n",
       " 'science_fiction']"
      ]
     },
     "execution_count": 120,
     "metadata": {},
     "output_type": "execute_result"
    }
   ],
   "source": [
    "brown.categories()"
   ]
  },
  {
   "cell_type": "code",
   "execution_count": 126,
   "id": "2349aba4-627f-40f6-854c-d21fa2c0304c",
   "metadata": {},
   "outputs": [
    {
     "data": {
      "text/plain": [
       "'They/ppss'"
      ]
     },
     "execution_count": 126,
     "metadata": {},
     "output_type": "execute_result"
    }
   ],
   "source": [
    "#[['They', 'neither', 'liked' ...], []] 이런 식으로 만들어라.\n",
    "# 문장 분절 -> 단어 분절\n",
    "# 불필요한 것들 제거하기\n",
    "\"\"\"\n",
    "    - 문장부호, POS 제거\n",
    "    - 's, 'nt (she's -> she, 's) (don't -> do, 'nt)\n",
    "    - 'fly-dotted' -> fly, dotted\n",
    "\"\"\"\n",
    "\n",
    "'They/ppss'"
   ]
  },
  {
   "cell_type": "code",
   "execution_count": 125,
   "id": "6acb5ae2-ae9a-4799-b092-3fa0598ffed6",
   "metadata": {},
   "outputs": [
    {
     "data": {
      "text/plain": [
       "\"\\n\\n\\tThey/ppss neither/cc liked/vbd nor/cc disliked/vbd the/at Old/jj-tl Man/nn-tl ./.\\nTo/in them/ppo he/pps could/md have/hv been/ben the/at broken/vbn bell/nn in/in the/at church/nn tower/nn which/wdt rang/vbd before/in and/cc after/in Mass/nn-tl ,/, and/cc at/in noon/nn ,/, and/cc at/in six/cd each/dt evening/nn --/-- its/pp$ tone/nn ,/, repetitive/jj ,/, monotonous/jj ,/, never/rb breaking/vbg the/at boredom/nn of/in the/at streets/nns ./.\\nThe/at Old/jj-tl Man/nn-tl was/bedz unimportant/jj ./.\\n\\n\\n\\tYet/rb if/cs he/pps were/bed not/* there/rb ,/, they/ppss would/md have/hv missed/vbn him/ppo ,/, as/cs they/ppss would/md have/hv missed/vbn the/at sounds/nns of/in bees/nns buzzing/vbg against/in the/at screen/nn door/nn in/in early/jj June/np ;/. ;/.\\nor/cc the/at smell/nn of/in thick/jj tomato/nn paste/nn --/-- the/at ripe/jj smell/nn that/wps was/bedz both/abx sweet/jj and/cc sour/jj --/-- rising/vbg up/rp from/in aluminum/nn trays/nns wrapped/vbn in/in fly-dotted/jj cheesecloth/nn ./.\\nOr/cc the/at surging/vbg whirling/vbg sounds/nns of/in bats/nns at/in night/nn ,/, when/wrb their/pp$ black/jj bodies/nns dived/vbd into/in the/at blackness/nn above/in and/cc below/in the/at amber/jj street/nn lights/nns ./.\\nOr/cc the/at bay/nn of/in female/nn dogs/nns in/in heat/nn ./.\\n\\n\\n\\tThey/ppss never/rb called/vbd him/ppo by/in name/nn ,/, although/cs he/pps had/hvd one/pn ./.\\nFilippo/np Rossi/np ,/, that's/dt+bez what/wdt he/pps was/bedz called/vbn in/in the/at old/jj country/nn ;/. ;/.\\nbut/cc here/rb he/pps was/bedz just/rb Signore/np or/cc the/at Old/jj-tl Man/nn-tl ./.\\nBut/cc this/dt was/bedz not/* unusual/jj ,/, because/cs youth/nn in/in these/dts quarters/nns was/bedz always/rb pushed/vbn at/in a/at distance/nn from/in its/pp$ elders/nns ./.\\nYouth/nn obeyed/vbd when/wrb commanded/vbn ./.\\nIt/pps went/vbd to/in church/nn on/in Sunday/nr and/cc one/cd Saturday/nr a/at month/nn went/vbd to/in confession/nn ./.\\nBut/cc youth/nn asked/vbd nothing/pn of/in its/pp$ parents/nns --/-- not/* a/at touch/nn of/in the/at hand/nn or/cc a/at kiss/nn given/vbn in/in passing/vbg ./.\\n\\n\\n\\tThe/at only/ap thing/nn unusual/jj about/in the/at Old/jj-tl Man/nn-tl had/hvd long/jj since/rb happened/vbn ./.\\nBut/cc the/at past/nn was/bedz dead/jj here/rb as/cs the/at present/jj was/bedz dead/jj ./.\\nOnce/cs the/at Old/jj-tl Man/nn-tl had/hvd had/hvn a/at wife/nn ./.\\nAnd/cc once/cs she/pps ,/, too/rb ,/, ignored/vbd him/ppo ./.\\nWith/in a/at tiny/jj fur-piece/nn wrapped/vbd around/in her/pp$ shoulders/nns ,/, she/pps wiggled/vbd her/pp$ satin-covered/jj buttocks/nns down/in the/at street/nn before/in him/ppo and/cc didn't/dod* stop/vb ./.\\nIn/in one/cd hand/nn she/pps clutched/vbd a/at hundred/cd dollar/nn bill/nn and/cc in/in the/at other/ap a/at straw/nn suitcase/nn ./.\\nThe/at way/nn she/pps strutted/vbd down/in the/at street/nn ,/, the/at Old/jj-tl Man/nn-tl would/md have/hv been/ben blind/jj not/* to/to have/hv noticed/vbn both/abx ./.\\nWithout/in looking/vbg at/in him/ppo ,/, without/in looking/vbg at/in anything/pn except/in Drexel/np-tl Street/nn-tl directly/rb in/in front/nn of/in her/ppo ,/, she/pps climbed/vbd up/rp into/in one/cd of/in those/dts orange/jj streetcars/nns ,/, rode/vbd away/rb in/in it/ppo ,/, and/cc never/rb came/vbd back/rb ./.\\n\\n\\n\\t``/`` But/cc she/pps shouldn't/md* have/hv come/vbn here/rb in/in the/at first/od place/nn ''/'' ,/, the/at women/nns had/hvd said/vbn ./.\\n\\n\\n\\t``/`` No/rb ,/, no/rb ./.\\nNot/* that/dt one/pn ./.\\nShe/pps thought/vbd she/pps was/bedz bigger/jjr than/cs we/ppss are/ber because/cs she/pps came/vbd from/in Torino/np ''/'' ./.\\n\\n\\n\\t``/`` Eh/uh ,/, Torino/np !/. !/.\\nShe/pps gave/vbd herself/ppl fancy/jj airs/nns !/. !/.\\nJust/rb because/cs she/pps had/hvd a/at part/nn on/in the/at stage/nn in/in the/at old/jj country/nn ,/, she/pps thought/vbd she/pps could/md carry/vb her/pp$ head/nn higher/rbr than/cs ours/pp$$ ''/'' ./.\\nThey/ppss had/hvd slapped/vbn their/pp$ thighs/nns ./.\\n\\n\\n\\t``/`` It's/pps+bez not/* for/in making/vbg pretty/jj speeches/nns about/in Dante/np those/dts actresses/nns get/vb paid/vbn so/ql good/rb ''/'' ./.\\n\\n\\n\\t``/`` Henh/uh ''/'' !/. !/.\\nCalloused/vbn fingers/nns ,/, caressed/vbn only/rb by/in the/at smoothness/nn of/in polished/vbn rosaries/nns ,/, had/hvd swayed/vbn excitedly/rb beneath/in puckered/vbn chins/nns where/wrb tiny/jj black/jj hairs/nns sprouted/vbd ,/, never/rb to/to be/be tweezed/vbn away/rb ./.\\nMauve-colored/jj mouths/nns that/wps had/hvd never/rb known/vbn anything/pn sweeter/jjr than/cs the/at taste/nn of/in new/jj wine/nn and/cc the/at passion/nn of/in man's/nn$ tongue/nn had/hvd not/* smiled/vbn ,/, but/cc had/hvd condemned/vbn again/rb and/cc again/rb ./.\\n``/`` Puttana/fw-nn ''/'' !/. !/.\\n\\n\\n\\tBut/cc if/cs the/at Old/jj-tl Man/nn-tl even/rb thought/vbd about/in his/pp$ wife/nn now/rb ,/, nobody/pn cared/vbd a/at fig/nn ./.\\nIt/pps was/bedz enough/ap for/in people/nns to/to know/vb that/cs at/in one/cd time/nn he/pps had/hvd looked/vbn down/in the/at street/nn at/in the/at f\""
      ]
     },
     "execution_count": 125,
     "metadata": {},
     "output_type": "execute_result"
    }
   ],
   "source": [
    "brown.raw(categories='romance')[:5000]"
   ]
  },
  {
   "cell_type": "code",
   "execution_count": null,
   "id": "8053bdc1-cbd0-4240-879c-601d0caa4abb",
   "metadata": {},
   "outputs": [],
   "source": []
  }
 ],
 "metadata": {
  "kernelspec": {
   "display_name": "Python 3 (ipykernel)",
   "language": "python",
   "name": "python3"
  },
  "language_info": {
   "codemirror_mode": {
    "name": "ipython",
    "version": 3
   },
   "file_extension": ".py",
   "mimetype": "text/x-python",
   "name": "python",
   "nbconvert_exporter": "python",
   "pygments_lexer": "ipython3",
   "version": "3.9.7"
  }
 },
 "nbformat": 4,
 "nbformat_minor": 5
}
